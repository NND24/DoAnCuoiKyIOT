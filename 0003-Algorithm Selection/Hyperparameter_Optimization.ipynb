{
 "cells": [
  {
   "cell_type": "code",
   "execution_count": 1,
   "metadata": {},
   "outputs": [],
   "source": [
    "%matplotlib inline\n",
    "from scipy.stats import randint as sp_randint\n",
    "from scipy.stats import uniform\n",
    "from scipy.stats import uniform as sp_randFloat\n",
    "from sklearn import svm\n",
    "from tqdm import tqdm\n",
    "from sklearn.ensemble import GradientBoostingClassifier\n",
    "from sklearn.naive_bayes import CategoricalNB\n",
    "from sklearn.model_selection import GridSearchCV\n",
    "from sklearn.ensemble import RandomForestClassifier\n",
    "from sklearn.model_selection import GridSearchCV\n",
    "from sklearn.model_selection import RandomizedSearchCV\n",
    "from sklearn.model_selection import train_test_split\n",
    "from sklearn.neighbors import KNeighborsClassifier\n",
    "from sklearn.tree import DecisionTreeClassifier\n",
    "from time import time\n",
    "from tabulate import tabulate\n",
    "import numpy as np\n",
    "import pandas as pd\n",
    "import sklearn\n",
    "import warnings\n",
    "warnings.filterwarnings('ignore')\n",
    "import os"
   ]
  },
  {
   "cell_type": "code",
   "execution_count": 2,
   "metadata": {},
   "outputs": [],
   "source": [
    "from scipy.stats import randint as sp_randInt\n",
    "\n",
    "from sklearn.model_selection import GridSearchCV, PredefinedSplit\n",
    "from sklearn.metrics import make_scorer\n",
    "from scipy import sparse"
   ]
  },
  {
   "cell_type": "code",
   "execution_count": 4,
   "metadata": {},
   "outputs": [],
   "source": [
    "import json\n",
    "with open('GA_output_ET.json', 'r') as fp:\n",
    "    feature_list = json.load(fp)"
   ]
  },
  {
   "cell_type": "code",
   "execution_count": 5,
   "metadata": {},
   "outputs": [
    {
     "data": {
      "text/plain": [
       "{'SYN': ['Protocol',\n",
       "  'Tot Fwd Pkts',\n",
       "  'Tot Bwd Pkts',\n",
       "  'TotLen Fwd Pkts',\n",
       "  'Fwd Pkt Len Min',\n",
       "  'Fwd Pkt Len Mean',\n",
       "  'Fwd Pkt Len Std',\n",
       "  'Bwd Pkt Len Max',\n",
       "  'Bwd Pkt Len Min',\n",
       "  'Bwd Pkt Len Mean',\n",
       "  'Bwd Pkt Len Std',\n",
       "  'Flow Pkts/s',\n",
       "  'Flow IAT Mean',\n",
       "  'Flow IAT Max',\n",
       "  'Flow IAT Min',\n",
       "  'Fwd IAT Tot',\n",
       "  'Fwd IAT Std',\n",
       "  'Fwd IAT Min',\n",
       "  'Bwd IAT Tot',\n",
       "  'Bwd IAT Mean',\n",
       "  'Bwd IAT Std',\n",
       "  'Bwd IAT Max',\n",
       "  'Bwd PSH Flags',\n",
       "  'Pkt Len Min',\n",
       "  'Pkt Len Max',\n",
       "  'Pkt Len Mean',\n",
       "  'Pkt Len Std',\n",
       "  'Pkt Len Var',\n",
       "  'FIN Flag Cnt',\n",
       "  'SYN Flag Cnt',\n",
       "  'ACK Flag Cnt',\n",
       "  'Fwd Seg Size Avg',\n",
       "  'Bwd Seg Size Avg',\n",
       "  'Subflow Fwd Pkts',\n",
       "  'Subflow Bwd Pkts',\n",
       "  'Subflow Bwd Byts',\n",
       "  'Active Mean',\n",
       "  'Active Max',\n",
       "  'Idle Mean',\n",
       "  'Idle Std',\n",
       "  'Idle Min',\n",
       "  'Label'],\n",
       " 'HTTP': ['Dst Port',\n",
       "  'Tot Fwd Pkts',\n",
       "  'Flow IAT Mean',\n",
       "  'Flow IAT Max',\n",
       "  'Fwd IAT Mean',\n",
       "  'Fwd IAT Max',\n",
       "  'Fwd Pkts/s',\n",
       "  'FIN Flag Cnt',\n",
       "  'SYN Flag Cnt',\n",
       "  'Subflow Fwd Pkts',\n",
       "  'Label'],\n",
       " 'ACK': ['Src Port',\n",
       "  'Fwd Pkt Len Mean',\n",
       "  'Fwd Pkt Len Std',\n",
       "  'Bwd Pkt Len Max',\n",
       "  'Bwd Pkt Len Mean',\n",
       "  'Fwd IAT Tot',\n",
       "  'Fwd IAT Min',\n",
       "  'Bwd IAT Std',\n",
       "  'Pkt Len Mean',\n",
       "  'Pkt Len Std',\n",
       "  'Pkt Len Var',\n",
       "  'ACK Flag Cnt',\n",
       "  'Pkt Size Avg',\n",
       "  'Bwd Seg Size Avg',\n",
       "  'Subflow Bwd Byts',\n",
       "  'Label'],\n",
       " 'UDP': ['Src Port', 'Flow IAT Std', 'Fwd IAT Std', 'Label'],\n",
       " 'ARP': ['Src Port',\n",
       "  'Dst Port',\n",
       "  'Protocol',\n",
       "  'Flow Duration',\n",
       "  'Tot Fwd Pkts',\n",
       "  'Tot Bwd Pkts',\n",
       "  'TotLen Bwd Pkts',\n",
       "  'Fwd Pkt Len Max',\n",
       "  'Fwd Pkt Len Min',\n",
       "  'Fwd Pkt Len Std',\n",
       "  'Bwd Pkt Len Max',\n",
       "  'Bwd Pkt Len Mean',\n",
       "  'Bwd Pkt Len Std',\n",
       "  'Flow Byts/s',\n",
       "  'Flow Pkts/s',\n",
       "  'Flow IAT Std',\n",
       "  'Flow IAT Max',\n",
       "  'Fwd IAT Tot',\n",
       "  'Fwd IAT Max',\n",
       "  'Bwd IAT Tot',\n",
       "  'Bwd IAT Mean',\n",
       "  'Bwd IAT Std',\n",
       "  'Bwd IAT Max',\n",
       "  'Bwd IAT Min',\n",
       "  'Bwd PSH Flags',\n",
       "  'Bwd Header Len',\n",
       "  'Fwd Pkts/s',\n",
       "  'Bwd Pkts/s',\n",
       "  'Pkt Len Min',\n",
       "  'Pkt Len Max',\n",
       "  'Pkt Len Mean',\n",
       "  'Pkt Len Std',\n",
       "  'ACK Flag Cnt',\n",
       "  'Pkt Size Avg',\n",
       "  'Subflow Fwd Pkts',\n",
       "  'Subflow Bwd Pkts',\n",
       "  'Init Bwd Win Byts',\n",
       "  'Fwd Act Data Pkts',\n",
       "  'Active Mean',\n",
       "  'Active Max',\n",
       "  'Active Min',\n",
       "  'Idle Min',\n",
       "  'Label'],\n",
       " 'SP': ['Protocol',\n",
       "  'Tot Fwd Pkts',\n",
       "  'TotLen Fwd Pkts',\n",
       "  'TotLen Bwd Pkts',\n",
       "  'Fwd Pkt Len Max',\n",
       "  'Fwd Pkt Len Std',\n",
       "  'Bwd Pkt Len Mean',\n",
       "  'Flow Byts/s',\n",
       "  'Flow IAT Std',\n",
       "  'Fwd IAT Mean',\n",
       "  'Fwd IAT Min',\n",
       "  'Fwd Header Len',\n",
       "  'Fwd Pkts/s',\n",
       "  'Pkt Len Max',\n",
       "  'Pkt Len Var',\n",
       "  'SYN Flag Cnt',\n",
       "  'Down/Up Ratio',\n",
       "  'Fwd Seg Size Avg',\n",
       "  'Bwd Seg Size Avg',\n",
       "  'Subflow Fwd Byts',\n",
       "  'Init Bwd Win Byts',\n",
       "  'Fwd Act Data Pkts',\n",
       "  'Active Mean',\n",
       "  'Active Std',\n",
       "  'Idle Mean',\n",
       "  'Idle Min',\n",
       "  'Label'],\n",
       " 'BF': ['Src Port',\n",
       "  'Tot Bwd Pkts',\n",
       "  'Fwd IAT Std',\n",
       "  'Fwd Pkts/s',\n",
       "  'Init Bwd Win Byts',\n",
       "  'Label']}"
      ]
     },
     "execution_count": 5,
     "metadata": {},
     "output_type": "execute_result"
    }
   ],
   "source": [
    "feature_list"
   ]
  },
  {
   "cell_type": "code",
   "execution_count": null,
   "metadata": {},
   "outputs": [],
   "source": [
    "file_list={\n",
    "'SYN': ['../csvs\\\\dos-synflooding-1-dec.pcap_Flow.csv', '../csvs\\\\dos-synflooding-6-dec.pcap_Flow.csv'],\n",
    "'HTTP': ['../csvs\\\\mirai-httpflooding-4-dec.pcap_Flow.csv', '../csvs\\\\http-flood -maze.csv'],\n",
    "'ACK': ['../csvs\\\\mirai-ackflooding-4-dec.pcap_Flow.csv', '../csvs\\\\ack_maze.csv'],\n",
    "'UDP': ['../csvs\\\\mirai-udpflooding-4-dec.pcap_Flow.csv', '../csvs\\\\UDP_DDoS_00001.pcap_Flow.csv'],\n",
    "'ARP': ['../csvs\\\\mitm-arpspoofing-6-dec.pcap_Flow.csv', '../csvs\\\\mitm-arpspoofing-5-dec.pcap_Flow.csv'],\n",
    "'SP': ['../csvs\\\\scan-hostport-3-dec.pcap_Flow.csv', '../csvs\\\\Edge-Port Scanning attack.pcap_Flow.csv'],\n",
    "'BF': ['../csvs\\\\mirai-hostbruteforce-5-dec.pcap_Flow.csv','../csvs\\\\edges-password attacks.pcap_Flow.csv'],\n",
    "'OS': ['../csvs\\\\scan-portos-3-dec.pcap_Flow.csv', '../csvs\\\\BoT-IoT_OSScan.csv'],\n",
    "'SCHD': ['../csvs\\\\scan-hostport-3-dec.pcap_Flow.csv', '../csvs\\\\scan-hostport-5-dec.pcap_Flow.csv'],\n",
    "'MHDis': ['../csvs\\\\mirai-hostbruteforce-3-dec.pcap_Flow.csv', '../csvs\\\\mirai-hostbruteforce-4-dec.pcap_Flow.csv']}"
   ]
  },
  {
   "cell_type": "code",
   "execution_count": 7,
   "metadata": {},
   "outputs": [],
   "source": [
    "def run_random_search(model, params, x_train, y_train):\n",
    "    #grid = GridSearchCV(model, params, cv = ps, n_jobs = -1, scoring = score, verbose = 0, refit = False)\n",
    "    grid =RandomizedSearchCV(model, param_grid, cv=ps,scoring = 'f1_macro')\n",
    "    grid.fit(x_train, y_train)\n",
    "    return (grid.best_params_, round(grid.best_score_,8),grid.best_estimator_)"
   ]
  },
  {
   "cell_type": "code",
   "execution_count": 8,
   "metadata": {},
   "outputs": [],
   "source": [
    "def find_the_way(path,file_format,con=\"\"):\n",
    "    files_add = []\n",
    "    # r=root, d=directories, f = files\n",
    "    for r, d, f in os.walk(path):\n",
    "        for file in f:\n",
    "            if file_format in file:\n",
    "                if con in file:\n",
    "                    files_add.append(os.path.join(r, file))  \n",
    "            \n",
    "    return files_add"
   ]
  },
  {
   "cell_type": "markdown",
   "metadata": {},
   "source": [
    "# RandomizedSearchCV  DT"
   ]
  },
  {
   "cell_type": "code",
   "execution_count": 9,
   "metadata": {
    "scrolled": false
   },
   "outputs": [
    {
     "name": "stdout",
     "output_type": "stream",
     "text": [
      "SYN\n",
      "HYPERPARAMETERS                     F1 Score             Time     No      \n",
      "default                             0.9927762802644352   27.282   24      \n"
     ]
    },
    {
     "name": "stderr",
     "output_type": "stream",
     "text": [
      "100%|██████████| 50/50 [10:05<00:00, 12.11s/it]\n"
     ]
    },
    {
     "name": "stdout",
     "output_type": "stream",
     "text": [
      "HTTP\n",
      "HYPERPARAMETERS                     F1 Score             Time     No      \n",
      "default                             0.9927007966155361   1.267    24      \n"
     ]
    },
    {
     "name": "stderr",
     "output_type": "stream",
     "text": [
      "100%|██████████| 50/50 [00:28<00:00,  1.76it/s]\n"
     ]
    },
    {
     "name": "stdout",
     "output_type": "stream",
     "text": [
      "ACK\n",
      "HYPERPARAMETERS                     F1 Score             Time     No      \n",
      "default                             0.985156509469685    1.988    24      \n"
     ]
    },
    {
     "name": "stderr",
     "output_type": "stream",
     "text": [
      "100%|██████████| 50/50 [02:11<00:00,  2.64s/it]\n"
     ]
    },
    {
     "name": "stdout",
     "output_type": "stream",
     "text": [
      "UDP\n",
      "HYPERPARAMETERS                     F1 Score             Time     No      \n",
      "default                             0.9917839095502963   1.287    24      \n"
     ]
    },
    {
     "name": "stderr",
     "output_type": "stream",
     "text": [
      "100%|██████████| 50/50 [00:39<00:00,  1.28it/s]\n"
     ]
    },
    {
     "name": "stdout",
     "output_type": "stream",
     "text": [
      "ARP\n",
      "HYPERPARAMETERS                     F1 Score             Time     No      \n",
      "default                             0.9915160875160874   1.179    24      \n"
     ]
    },
    {
     "name": "stderr",
     "output_type": "stream",
     "text": [
      "100%|██████████| 50/50 [00:31<00:00,  1.56it/s]\n"
     ]
    },
    {
     "name": "stdout",
     "output_type": "stream",
     "text": [
      "SP\n",
      "HYPERPARAMETERS                     F1 Score             Time     No      \n",
      "default                             1.0                  1.044    24      \n"
     ]
    },
    {
     "name": "stderr",
     "output_type": "stream",
     "text": [
      "100%|██████████| 50/50 [00:36<00:00,  1.36it/s]\n"
     ]
    },
    {
     "name": "stdout",
     "output_type": "stream",
     "text": [
      "BF\n",
      "HYPERPARAMETERS                     F1 Score             Time     No      \n",
      "default                             0.7880257124760144   3.066    24      \n"
     ]
    },
    {
     "name": "stderr",
     "output_type": "stream",
     "text": [
      "100%|██████████| 50/50 [00:42<00:00,  1.19it/s]\n"
     ]
    },
    {
     "name": "stdout",
     "output_type": "stream",
     "text": [
      "    criterion      max_depth    max_features    min_samples_split        F1          Std    Time    No  Attack\n",
      "--  -----------  -----------  --------------  -------------------  --------  -----------  ------  ----  --------\n",
      " 0  entropy               12              23                    4  0.994987  0.00143501   13.564    21  SYN\n",
      " 1  entropy               18               9                    3  0.993339  0.000727509   0.578    27  HTTP\n",
      " 2  entropy               27              14                    2  0.988944  0.000511537   1.685     3  ACK\n",
      " 3  entropy               32               2                    3  0.998558  0.00260866    1.052     7  UDP\n",
      " 4  entropy                4              35                    7  1         0             0.431    49  ARP\n",
      " 5  entropy                6               8                    7  1         0             0.676     0  SP\n",
      " 6  entropy               26               4                    3  0.79753   0.00827563    0.91     47  BF\n"
     ]
    }
   ],
   "source": [
    "lines=[['criterion', 'max_depth', 'max_features', 'min_samples_split', \"F1\",\"Std\",\"Time\",\"No\",\"Attack\"]]\n",
    "\n",
    "for j in file_list:\n",
    "    print(j)\n",
    "    df=pd.read_csv(file_list[j][0],usecols=feature_list[j]) \n",
    "    X_train = df.iloc[:,0:-1]\n",
    "    df['Label'] = df['Label'].astype('category')\n",
    "    y_train=df['Label'].cat.codes  \n",
    "\n",
    "    df=pd.read_csv(file_list[j][1],usecols=feature_list[j]) \n",
    "    X_test = df.iloc[:,0:-1]\n",
    "    df['Label'] = df['Label'].astype('category')\n",
    "    y_test=df['Label'].cat.codes  \n",
    "    \n",
    "    X= np.concatenate([X_train, X_test])\n",
    "    test_fold = [-1 for _ in range(X_train.shape[0])] + [0 for _ in range(X_test.shape[0])]\n",
    "    y = np.concatenate([y_train, y_test])\n",
    "    ps = PredefinedSplit(test_fold)\n",
    "    \n",
    "    print ('%-35s %-20s %-8s %-8s' % (\"HYPERPARAMETERS\",\"F1 Score\", \"Time\", \"No\"))\n",
    "\n",
    "    nfolds=10\n",
    "    param_grid = { 'criterion':['gini','entropy'],\n",
    "                      \"max_depth\":np.linspace(1, 32, 32, endpoint=True).astype(int),\n",
    "                     \"min_samples_split\": sp_randint(2,10),#uniform(0.1,1 ),\n",
    "                        # \"min_samples_leafs\" : np.linspace(0.1, 0.5, 5, endpoint=True)\n",
    "                        \"max_features\" : sp_randint(1,X_train.shape[1])}\n",
    "\n",
    "    second=time()\n",
    "    f1=[]\n",
    "    clf=DecisionTreeClassifier()\n",
    "    for ii in range(25):\n",
    "        clf.fit(X_train, y_train)\n",
    "        predict =clf.predict(X_test)\n",
    "        f1.append(sklearn.metrics.f1_score(y_test, predict,average= \"macro\") )\n",
    "    f1=sum(f1)/len(f1)   \n",
    "    #if f1>0.76:\n",
    "    print('%-35s %-20s %-8s %-8s' % (\"default\",f1,round(time()-second,3),ii))\n",
    "    ######################################################################################################################\n",
    "    for i in tqdm(range(50)):\n",
    "        second=time()\n",
    "        a,b,clf=run_random_search(DecisionTreeClassifier(),param_grid,X,y)\n",
    "        f1=[]\n",
    "        for ii in range(10):\n",
    "            clf.fit(X_train, y_train)\n",
    "            predict =clf.predict(X_test)\n",
    "            f1.append(sklearn.metrics.f1_score(y_test, predict,average= \"macro\") )\n",
    "        f1_result=sum(f1)/len(f1)   \n",
    "        f1=np.array(f1)\n",
    "        stndtd=f1.std()\n",
    "        temp=list(a.values())\n",
    "        #print('%-90s %-20s %-8s %-8s' % (a,f1_result,round(time()-second,3),i))\n",
    "        temp=temp+[f1_result,stndtd,round(time()-second,3),i,j]\n",
    "        lines.append(temp)\n",
    "\n",
    "        #if f1>0.76:\n",
    "results = pd.DataFrame (lines[1:], columns = lines[0])\n",
    "results.to_csv(\"DT_HPO.csv\",index=False)\n",
    "\n",
    "final_parametres=[['criterion', 'max_depth', 'max_features', 'min_samples_split', \"F1\",\"Std\",\"Time\",\"No\",\"Attack\"]]\n",
    "for i in results[\"Attack\"].unique():\n",
    "    df=results[results[\"Attack\"]==i]\n",
    "    m=df[\"F1\"].max()\n",
    "    df=df[df[\"F1\"]==m]\n",
    "    m=df[\"max_depth\"].min()\n",
    "    df=df[df[\"max_depth\"]==m]  \n",
    "    final_parametres.append(list(df.values)[0])\n",
    "results = pd.DataFrame (final_parametres[1:], columns=  final_parametres[0])\n",
    "print (tabulate(results, headers=list(results.columns)))"
   ]
  },
  {
   "cell_type": "markdown",
   "metadata": {},
   "source": [
    "# LR"
   ]
  },
  {
   "cell_type": "code",
   "execution_count": 10,
   "metadata": {},
   "outputs": [
    {
     "name": "stdout",
     "output_type": "stream",
     "text": [
      "SYN\n",
      "default                             0.9318118857080429   4.737    0       \n"
     ]
    },
    {
     "name": "stderr",
     "output_type": "stream",
     "text": [
      "100%|██████████| 10/10 [42:57<00:00, 257.78s/it]\n"
     ]
    },
    {
     "name": "stdout",
     "output_type": "stream",
     "text": [
      "HTTP\n",
      "default                             0.2813450857687527   0.183    0       \n"
     ]
    },
    {
     "name": "stderr",
     "output_type": "stream",
     "text": [
      "100%|██████████| 10/10 [00:17<00:00,  1.77s/it]\n"
     ]
    },
    {
     "name": "stdout",
     "output_type": "stream",
     "text": [
      "ACK\n",
      "default                             0.9062861810300077   0.442    0       \n"
     ]
    },
    {
     "name": "stderr",
     "output_type": "stream",
     "text": [
      "100%|██████████| 10/10 [01:19<00:00,  7.93s/it]\n"
     ]
    },
    {
     "name": "stdout",
     "output_type": "stream",
     "text": [
      "UDP\n",
      "default                             0.9232711894692953   0.062    0       \n"
     ]
    },
    {
     "name": "stderr",
     "output_type": "stream",
     "text": [
      "100%|██████████| 10/10 [00:12<00:00,  1.27s/it]\n"
     ]
    },
    {
     "name": "stdout",
     "output_type": "stream",
     "text": [
      "ARP\n",
      "default                             0.5326352530541012   0.088    0       \n"
     ]
    },
    {
     "name": "stderr",
     "output_type": "stream",
     "text": [
      "100%|██████████| 10/10 [00:22<00:00,  2.28s/it]\n"
     ]
    },
    {
     "name": "stdout",
     "output_type": "stream",
     "text": [
      "SP\n",
      "default                             0.9565737123842593   0.36     0       \n"
     ]
    },
    {
     "name": "stderr",
     "output_type": "stream",
     "text": [
      "100%|██████████| 10/10 [00:40<00:00,  4.10s/it]\n"
     ]
    },
    {
     "name": "stdout",
     "output_type": "stream",
     "text": [
      "BF\n",
      "default                             0.43254262416604894  0.132    0       \n"
     ]
    },
    {
     "name": "stderr",
     "output_type": "stream",
     "text": [
      "100%|██████████| 10/10 [00:34<00:00,  3.50s/it]"
     ]
    },
    {
     "name": "stdout",
     "output_type": "stream",
     "text": [
      "               C  penalty    Solver           F1          Std     Time    No  Attack\n",
      "--  ------------  ---------  ---------  --------  -----------  -------  ----  --------\n",
      " 0   3.10871      l2         lbfgs      0.929655  0             61.922     0  SYN\n",
      " 1   0.163436     l1         liblinear  0.988201  0.00206611   379.577     1  SYN\n",
      " 2   0.0112995    l1         liblinear  0.969859  0.00319727   321.677     2  SYN\n",
      " 3  39.3833       l1         liblinear  0.988515  0.00178898   524.817     3  SYN\n",
      " 4   0.0010459    l2         lbfgs      0.936787  0             37.414     4  SYN\n",
      " 5   0.00957315   l2         newton-cg  0.928024  0            242.416     5  SYN\n",
      " 6   0.0585829    l2         liblinear  0.882229  1.11022e-16   23.303     6  SYN\n",
      " 7  15.4419       l2         newton-cg  0.928024  0            302.298     7  SYN\n",
      " 8   0.000114717  l2         newton-cg  0.930178  1.11022e-16  188.081     8  SYN\n",
      " 9   0.0513998    l1         liblinear  0.980268  0.00160565   496.301     9  SYN\n",
      "10  10.6438       l1         liblinear  0.931729  0              0.95      0  HTTP\n",
      "11  72.5691       l1         liblinear  0.931729  0              2.578     1  HTTP\n",
      "12   0.00042047   l1         liblinear  0.282917  0              0.479     2  HTTP\n",
      "13  33.5699       l1         liblinear  0.931729  0              0.564     3  HTTP\n",
      "14   0.00343522   l2         newton-cg  0.8635    0              5.793     4  HTTP\n",
      "15   0.417677     l1         liblinear  0.931729  0              0.997     5  HTTP\n",
      "16   0.112698     l1         liblinear  0.9292    0              0.655     6  HTTP\n",
      "17   9.20487      l1         liblinear  0.931729  0              2.125     7  HTTP\n",
      "18   0.00798082   l2         lbfgs      0.281345  0              1.085     8  HTTP\n",
      "19   0.0267762    l1         liblinear  0.928355  0              2.447     9  HTTP\n",
      "20   3.86453      l1         liblinear  0.934654  0.00382914    10.492     0  ACK\n",
      "21   0.00402285   l2         liblinear  0.848411  0              1.14      1  ACK\n",
      "22   2.44893e-05  l2         liblinear  0.848411  0              1.184     2  ACK\n",
      "23   0.000188279  l2         lbfgs      0.90199   0              5.665     3  ACK\n",
      "24   0.000394308  l1         liblinear  0.890848  0.00331471     4.992     4  ACK\n",
      "25  22.0803       l1         liblinear  0.937933  0.000317665   13.409     5  ACK\n",
      "26   0.00219413   l2         newton-cg  0.89764   0             18.316     6  ACK\n",
      "27  72.0459       l2         lbfgs      0.906286  1.11022e-16    2.699     7  ACK\n",
      "28   1.65987      l1         liblinear  0.935167  0.00470664    12.29      8  ACK\n",
      "29   7.00633      l1         liblinear  0.938193  0              9.078     9  ACK\n",
      "30   0.00184911   l2         newton-cg  0.911891  1.11022e-16    2.838     0  UDP\n",
      "31  52.4678       l2         lbfgs      0.923271  0              0.841     1  UDP\n",
      "32   0.0157649    l2         liblinear  0.488109  0              0.164     2  UDP\n",
      "33   0.00240252   l2         lbfgs      0.923271  0              1.149     3  UDP\n",
      "34   0.000333828  l2         newton-cg  0.911891  1.11022e-16    2.396     4  UDP\n",
      "35   0.365496     l2         lbfgs      0.923271  0              0.795     5  UDP\n",
      "36   1.96906      l2         lbfgs      0.923271  0              0.431     6  UDP\n",
      "37   3.33447e-05  l2         newton-cg  0.911891  1.11022e-16    2.807     7  UDP\n",
      "38   0.946544     l2         lbfgs      0.923271  0              0.523     8  UDP\n",
      "39   0.000880527  l2         lbfgs      0.923271  0              0.744     9  UDP\n",
      "40   0.0352295    l2         liblinear  0.593421  0              0.495     0  ARP\n",
      "41  23.3357       l2         liblinear  0.593421  0              1.675     1  ARP\n",
      "42   1.81539e-05  l1         liblinear  0.525658  0              4.037     2  ARP\n",
      "43   0.0178284    l1         liblinear  0.541243  0.0410238      3.21      3  ARP\n",
      "44   0.000311838  l1         liblinear  0.519141  0              1.047     4  ARP\n",
      "45   1.19189      l2         liblinear  0.604538  0              0.76      5  ARP\n",
      "46   0.0143233    l1         liblinear  0.542547  0.0403996      5.132     6  ARP\n",
      "47   5.07694      l2         liblinear  0.593421  0              3.76      7  ARP\n",
      "48   2.6014       l2         lbfgs      0.583256  0              1.716     8  ARP\n",
      "49   2.13625e-05  l2         liblinear  0.583256  0              0.931     9  ARP\n",
      "50   4.07251      l1         liblinear  0.998399  0.00196121     2.115     0  SP\n",
      "51   3.1297       l1         liblinear  0.998803  0.00097717     2.016     1  SP\n",
      "52   1.56451e-05  l2         liblinear  0.981922  0              2.596     2  SP\n",
      "53   0.0121532    l2         newton-cg  0.983641  0             11.669     3  SP\n",
      "54   0.686715     l1         liblinear  0.998803  0.00097717     3.366     4  SP\n",
      "55   0.583326     l1         liblinear  0.999202  0.00097717     3.656     5  SP\n",
      "56   0.177006     l2         liblinear  0.981922  0              1.642     6  SP\n",
      "57  50.757        l1         liblinear  0.997595  0.0023411      2.878     7  SP\n",
      "58   0.161807     l1         liblinear  0.999202  0.00097717     2.064     8  SP\n",
      "59   0.379727     l2         newton-cg  0.983758  0              8.967     9  SP\n",
      "60   0.000390608  l2         newton-cg  0.432543  0              8.024     0  BF\n",
      "61  59.8842       l2         newton-cg  0.432543  0              4.419     1  BF\n",
      "62   0.291316     l2         liblinear  0.432543  0              1.103     2  BF\n",
      "63   0.00867769   l2         liblinear  0.432543  0              0.437     3  BF\n",
      "64   0.948845     l2         liblinear  0.432543  0              0.965     4  BF\n",
      "65   0.00134126   l1         liblinear  0.432543  0              0.154     5  BF\n",
      "66   0.0119881    l2         newton-cg  0.432543  0              5.363     6  BF\n",
      "67   0.0036704    l2         newton-cg  0.432543  0              7.15      7  BF\n",
      "68   0.0244549    l2         newton-cg  0.432543  0              5.564     8  BF\n",
      "69  27.3305       l2         liblinear  0.432543  0              1.748     9  BF\n",
      "               C  penalty    Solver           F1         Std     Time    No  Attack\n",
      "--  ------------  ---------  ---------  --------  ----------  -------  ----  --------\n",
      " 0  39.3833       l1         liblinear  0.988515  0.00178898  524.817     3  SYN\n",
      " 1  10.6438       l1         liblinear  0.931729  0             0.95      0  HTTP\n",
      " 2   7.00633      l1         liblinear  0.938193  0             9.078     9  ACK\n",
      " 3  52.4678       l2         lbfgs      0.923271  0             0.841     1  UDP\n",
      " 4   1.19189      l2         liblinear  0.604538  0             0.76      5  ARP\n",
      " 5   0.583326     l1         liblinear  0.999202  0.00097717    3.656     5  SP\n",
      " 6   0.000390608  l2         newton-cg  0.432543  0             8.024     0  BF\n"
     ]
    },
    {
     "name": "stderr",
     "output_type": "stream",
     "text": [
      "\n"
     ]
    }
   ],
   "source": [
    "from scipy.stats import loguniform\n",
    "from sklearn.linear_model import LogisticRegression\n",
    "lines=[[\"C\",'penalty','Solver',  \"F1\",\"Std\",\"Time\",\"No\",\"Attack\"]]\n",
    "for j in file_list:\n",
    "    print(j)\n",
    "    \n",
    "    df=pd.read_csv(file_list[j][0],usecols=feature_list[j]) \n",
    "    X_train = df.iloc[:,0:-1]\n",
    "    df['Label'] = df['Label'].astype('category')\n",
    "    y_train=df['Label'].cat.codes  \n",
    "\n",
    "    df=pd.read_csv(file_list[j][1],usecols=feature_list[j]) \n",
    "    X_test = df.iloc[:,0:-1]\n",
    "    df['Label'] = df['Label'].astype('category')\n",
    "    y_test=df['Label'].cat.codes  \n",
    "    \n",
    "    X= np.concatenate([X_train, X_test])\n",
    "    test_fold = [-1 for _ in range(X_train.shape[0])] + [0 for _ in range(X_test.shape[0])]\n",
    "    y = np.concatenate([y_train, y_test])\n",
    "    ps = PredefinedSplit(test_fold)\n",
    "    \n",
    "    second=time()\n",
    "\n",
    "    param_grid = {\n",
    "     'solver': ['newton-cg', 'lbfgs', 'liblinear'],\n",
    "    'penalty' : ['none', 'l1', 'l2', 'elasticnet'],\n",
    "    'C' : loguniform(1e-5, 100)\n",
    "        }\n",
    "    \n",
    "    second=time()\n",
    "    f1=[]\n",
    "    clf=LogisticRegression()\n",
    "    for ii in range(1):\n",
    "        clf.fit(X_train, y_train)\n",
    "        predict =clf.predict(X_test)\n",
    "        f1.append(sklearn.metrics.f1_score(y_test, predict,average= \"macro\") )\n",
    "    f1=sum(f1)/len(f1)   \n",
    "    #if f1>0.76:\n",
    "    print('%-35s %-20s %-8s %-8s' % (\"default\",f1,round(time()-second,3),ii))\n",
    "    ######################################################################################################################\n",
    "    for i in tqdm(range(10)):\n",
    "        second=time()\n",
    "        a,b,clf=run_random_search(LogisticRegression(),param_grid,X,y)\n",
    "        f1=[]\n",
    "        for ii in range(5):\n",
    "            clf.fit(X_train, y_train)\n",
    "            predict =clf.predict(X_test)\n",
    "            f1.append(sklearn.metrics.f1_score(y_test, predict,average= \"macro\") )\n",
    "        f1_result=sum(f1)/len(f1)   \n",
    "        f1=np.array(f1)\n",
    "        stndtd=f1.std()\n",
    "        temp=list(a.values())\n",
    "        #print('%-90s %-20s %-8s %-8s' % (a,f1_result,round(time()-second,3),i))\n",
    "        temp=temp+[f1_result,stndtd,round(time()-second,3),i,j]\n",
    "        lines.append(temp)\n",
    "\n",
    "results = pd.DataFrame (lines[1:], columns = lines[0])\n",
    "results.to_csv(\"LR_HPO.csv\",index=False)\n",
    "print (tabulate(results, headers=list(results.columns)))\n",
    "    \n",
    "final_parametres=[[\"C\",'penalty','Solver',  \"F1\",\"Std\",\"Time\",\"No\",\"Attack\"]]\n",
    "for i in results[\"Attack\"].unique():\n",
    "    df=results[results[\"Attack\"]==i]\n",
    "    m=df[\"F1\"].max()\n",
    "    df=df[df[\"F1\"]==m]\n",
    "    final_parametres.append(list(df.values)[0])\n",
    "results = pd.DataFrame (final_parametres[1:], columns=  final_parametres[0])\n",
    "print (tabulate(results, headers=list(results.columns)))"
   ]
  }
 ],
 "metadata": {
  "kernelspec": {
   "display_name": "Python 3",
   "language": "python",
   "name": "python3"
  },
  "language_info": {
   "codemirror_mode": {
    "name": "ipython",
    "version": 3
   },
   "file_extension": ".py",
   "mimetype": "text/x-python",
   "name": "python",
   "nbconvert_exporter": "python",
   "pygments_lexer": "ipython3",
   "version": "3.12.2"
  }
 },
 "nbformat": 4,
 "nbformat_minor": 2
}
