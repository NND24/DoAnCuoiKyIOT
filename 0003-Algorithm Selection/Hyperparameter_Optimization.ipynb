{
 "cells": [
  {
   "cell_type": "code",
   "execution_count": 1,
   "metadata": {},
   "outputs": [],
   "source": [
    "%matplotlib inline\n",
    "from scipy.stats import randint as sp_randint\n",
    "from scipy.stats import uniform\n",
    "from scipy.stats import uniform as sp_randFloat\n",
    "from sklearn import svm\n",
    "from tqdm import tqdm\n",
    "from sklearn.ensemble import GradientBoostingClassifier\n",
    "from sklearn.naive_bayes import CategoricalNB\n",
    "from sklearn.model_selection import GridSearchCV\n",
    "from sklearn.ensemble import RandomForestClassifier\n",
    "from sklearn.model_selection import GridSearchCV\n",
    "from sklearn.model_selection import RandomizedSearchCV\n",
    "from sklearn.model_selection import train_test_split\n",
    "from sklearn.neighbors import KNeighborsClassifier\n",
    "from sklearn.tree import DecisionTreeClassifier\n",
    "from time import time\n",
    "from tabulate import tabulate\n",
    "import numpy as np\n",
    "import pandas as pd\n",
    "import sklearn\n",
    "import warnings\n",
    "warnings.filterwarnings('ignore')\n",
    "import os\n",
    "from scipy.stats import loguniform\n",
    "from sklearn.linear_model import LogisticRegression"
   ]
  },
  {
   "cell_type": "code",
   "execution_count": 2,
   "metadata": {},
   "outputs": [],
   "source": [
    "from scipy.stats import randint as sp_randInt\n",
    "\n",
    "from sklearn.model_selection import GridSearchCV, PredefinedSplit\n",
    "from sklearn.metrics import make_scorer\n",
    "from scipy import sparse"
   ]
  },
  {
   "cell_type": "code",
   "execution_count": 5,
   "metadata": {},
   "outputs": [],
   "source": [
    "import json\n",
    "with open('GA_output_ET.json', 'r') as fp:\n",
    "    feature_list = json.load(fp)"
   ]
  },
  {
   "cell_type": "code",
   "execution_count": 6,
   "metadata": {},
   "outputs": [
    {
     "data": {
      "text/plain": [
       "{'SYN': ['Src Port',\n",
       "  'Protocol',\n",
       "  'Flow Duration',\n",
       "  'Tot Fwd Pkts',\n",
       "  'TotLen Bwd Pkts',\n",
       "  'Fwd Pkt Len Min',\n",
       "  'Bwd Pkt Len Max',\n",
       "  'Bwd Pkt Len Min',\n",
       "  'Bwd Pkt Len Mean',\n",
       "  'Bwd Pkt Len Std',\n",
       "  'Flow Byts/s',\n",
       "  'Flow IAT Mean',\n",
       "  'Flow IAT Min',\n",
       "  'Fwd IAT Tot',\n",
       "  'Fwd IAT Mean',\n",
       "  'Fwd IAT Max',\n",
       "  'Bwd IAT Mean',\n",
       "  'Bwd IAT Max',\n",
       "  'Fwd Header Len',\n",
       "  'Bwd Pkts/s',\n",
       "  'Pkt Len Min',\n",
       "  'Pkt Len Max',\n",
       "  'Pkt Len Mean',\n",
       "  'SYN Flag Cnt',\n",
       "  'Subflow Fwd Pkts',\n",
       "  'Subflow Bwd Pkts',\n",
       "  'Subflow Bwd Byts',\n",
       "  'Fwd Act Data Pkts',\n",
       "  'Active Std',\n",
       "  'Active Max',\n",
       "  'Active Min',\n",
       "  'Idle Std',\n",
       "  'Idle Max',\n",
       "  'Idle Min',\n",
       "  'Label'],\n",
       " 'HTTP': ['Dst Port',\n",
       "  'Flow Pkts/s',\n",
       "  'Flow IAT Mean',\n",
       "  'Flow IAT Max',\n",
       "  'Fwd IAT Max',\n",
       "  'SYN Flag Cnt',\n",
       "  'Label'],\n",
       " 'ACK': ['Dst Port',\n",
       "  'Flow Duration',\n",
       "  'Tot Fwd Pkts',\n",
       "  'TotLen Fwd Pkts',\n",
       "  'TotLen Bwd Pkts',\n",
       "  'Fwd Pkt Len Max',\n",
       "  'Bwd Pkt Len Max',\n",
       "  'Bwd Pkt Len Mean',\n",
       "  'Bwd Pkt Len Std',\n",
       "  'Flow Byts/s',\n",
       "  'Flow Pkts/s',\n",
       "  'Flow IAT Mean',\n",
       "  'Flow IAT Std',\n",
       "  'Flow IAT Min',\n",
       "  'Fwd IAT Mean',\n",
       "  'Fwd IAT Std',\n",
       "  'Fwd IAT Max',\n",
       "  'Fwd IAT Min',\n",
       "  'Bwd IAT Max',\n",
       "  'Fwd Header Len',\n",
       "  'Bwd Header Len',\n",
       "  'Fwd Pkts/s',\n",
       "  'Pkt Len Mean',\n",
       "  'Pkt Len Std',\n",
       "  'ACK Flag Cnt',\n",
       "  'Down/Up Ratio',\n",
       "  'Pkt Size Avg',\n",
       "  'Bwd Seg Size Avg',\n",
       "  'Subflow Bwd Pkts',\n",
       "  'Subflow Bwd Byts',\n",
       "  'Idle Mean',\n",
       "  'Idle Std',\n",
       "  'Idle Max',\n",
       "  'Label'],\n",
       " 'UDP': ['Src Port',\n",
       "  'Flow Duration',\n",
       "  'TotLen Fwd Pkts',\n",
       "  'Fwd Pkt Len Min',\n",
       "  'Fwd Pkt Len Mean',\n",
       "  'Bwd Pkt Len Max',\n",
       "  'Bwd Pkt Len Min',\n",
       "  'Bwd Pkt Len Mean',\n",
       "  'Flow Byts/s',\n",
       "  'Flow IAT Mean',\n",
       "  'Flow IAT Std',\n",
       "  'Flow IAT Max',\n",
       "  'Flow IAT Min',\n",
       "  'Fwd IAT Mean',\n",
       "  'Fwd IAT Max',\n",
       "  'Fwd Pkts/s',\n",
       "  'Bwd Pkts/s',\n",
       "  'Pkt Len Max',\n",
       "  'Pkt Len Mean',\n",
       "  'Pkt Size Avg',\n",
       "  'Fwd Seg Size Avg',\n",
       "  'Bwd Seg Size Avg',\n",
       "  'Subflow Fwd Pkts',\n",
       "  'Subflow Fwd Byts',\n",
       "  'Fwd Act Data Pkts',\n",
       "  'Label'],\n",
       " 'ARP': ['Src Port',\n",
       "  'Dst Port',\n",
       "  'Protocol',\n",
       "  'Fwd Pkt Len Max',\n",
       "  'Bwd Pkt Len Max',\n",
       "  'Bwd Pkt Len Min',\n",
       "  'Bwd Pkt Len Mean',\n",
       "  'Flow Pkts/s',\n",
       "  'Flow IAT Std',\n",
       "  'Flow IAT Min',\n",
       "  'Fwd IAT Mean',\n",
       "  'Fwd IAT Max',\n",
       "  'Fwd IAT Min',\n",
       "  'Bwd IAT Mean',\n",
       "  'Bwd IAT Std',\n",
       "  'Bwd IAT Min',\n",
       "  'Bwd PSH Flags',\n",
       "  'Fwd Pkts/s',\n",
       "  'Pkt Len Var',\n",
       "  'SYN Flag Cnt',\n",
       "  'ACK Flag Cnt',\n",
       "  'Pkt Size Avg',\n",
       "  'Subflow Fwd Pkts',\n",
       "  'Subflow Fwd Byts',\n",
       "  'Subflow Bwd Pkts',\n",
       "  'Subflow Bwd Byts',\n",
       "  'Init Bwd Win Byts',\n",
       "  'Fwd Act Data Pkts',\n",
       "  'Active Mean',\n",
       "  'Active Std',\n",
       "  'Idle Max',\n",
       "  'Label'],\n",
       " 'SP': ['Protocol',\n",
       "  'Tot Fwd Pkts',\n",
       "  'TotLen Fwd Pkts',\n",
       "  'TotLen Bwd Pkts',\n",
       "  'Fwd Pkt Len Max',\n",
       "  'Fwd Pkt Len Min',\n",
       "  'Fwd Pkt Len Mean',\n",
       "  'Fwd Pkt Len Std',\n",
       "  'Bwd Pkt Len Max',\n",
       "  'Bwd Pkt Len Mean',\n",
       "  'Flow Byts/s',\n",
       "  'Fwd IAT Tot',\n",
       "  'Fwd IAT Mean',\n",
       "  'Fwd IAT Std',\n",
       "  'Fwd IAT Max',\n",
       "  'Fwd IAT Min',\n",
       "  'Fwd Header Len',\n",
       "  'Fwd Pkts/s',\n",
       "  'Pkt Len Min',\n",
       "  'Pkt Len Mean',\n",
       "  'Pkt Len Std',\n",
       "  'SYN Flag Cnt',\n",
       "  'Fwd Seg Size Avg',\n",
       "  'Bwd Seg Size Avg',\n",
       "  'Subflow Fwd Pkts',\n",
       "  'Subflow Bwd Pkts',\n",
       "  'Subflow Bwd Byts',\n",
       "  'Fwd Act Data Pkts',\n",
       "  'Active Mean',\n",
       "  'Active Std',\n",
       "  'Active Max',\n",
       "  'Idle Mean',\n",
       "  'Idle Std',\n",
       "  'Idle Max',\n",
       "  'Idle Min',\n",
       "  'Label'],\n",
       " 'BF': ['Dst Port',\n",
       "  'Tot Fwd Pkts',\n",
       "  'Tot Bwd Pkts',\n",
       "  'TotLen Fwd Pkts',\n",
       "  'TotLen Bwd Pkts',\n",
       "  'Fwd Pkt Len Mean',\n",
       "  'Fwd Pkt Len Std',\n",
       "  'Bwd Pkt Len Max',\n",
       "  'Bwd Pkt Len Min',\n",
       "  'Bwd Pkt Len Std',\n",
       "  'Flow IAT Mean',\n",
       "  'Flow IAT Std',\n",
       "  'Flow IAT Max',\n",
       "  'Flow IAT Min',\n",
       "  'Fwd IAT Tot',\n",
       "  'Fwd IAT Mean',\n",
       "  'Fwd IAT Std',\n",
       "  'Fwd IAT Min',\n",
       "  'Bwd IAT Mean',\n",
       "  'Bwd IAT Std',\n",
       "  'Bwd IAT Max',\n",
       "  'Bwd IAT Min',\n",
       "  'Bwd Header Len',\n",
       "  'Fwd Pkts/s',\n",
       "  'Bwd Pkts/s',\n",
       "  'Pkt Len Max',\n",
       "  'Pkt Len Mean',\n",
       "  'Pkt Len Std',\n",
       "  'Bwd Seg Size Avg',\n",
       "  'Subflow Fwd Pkts',\n",
       "  'Subflow Bwd Byts',\n",
       "  'Init Bwd Win Byts',\n",
       "  'Active Mean',\n",
       "  'Active Std',\n",
       "  'Active Max',\n",
       "  'Idle Mean',\n",
       "  'Idle Max',\n",
       "  'Label'],\n",
       " 'OS': ['Dst Port',\n",
       "  'Protocol',\n",
       "  'Tot Fwd Pkts',\n",
       "  'Tot Bwd Pkts',\n",
       "  'TotLen Fwd Pkts',\n",
       "  'TotLen Bwd Pkts',\n",
       "  'Fwd Pkt Len Min',\n",
       "  'Fwd Pkt Len Std',\n",
       "  'Bwd Pkt Len Min',\n",
       "  'Bwd Pkt Len Std',\n",
       "  'Flow IAT Mean',\n",
       "  'Flow IAT Std',\n",
       "  'Flow IAT Min',\n",
       "  'Fwd IAT Tot',\n",
       "  'Fwd IAT Mean',\n",
       "  'Fwd IAT Std',\n",
       "  'Bwd IAT Tot',\n",
       "  'Bwd IAT Max',\n",
       "  'Bwd IAT Min',\n",
       "  'Bwd Header Len',\n",
       "  'Pkt Len Min',\n",
       "  'Pkt Len Std',\n",
       "  'Pkt Len Var',\n",
       "  'SYN Flag Cnt',\n",
       "  'RST Flag Cnt',\n",
       "  'PSH Flag Cnt',\n",
       "  'ACK Flag Cnt',\n",
       "  'Fwd Seg Size Avg',\n",
       "  'Subflow Fwd Pkts',\n",
       "  'Subflow Fwd Byts',\n",
       "  'Init Bwd Win Byts',\n",
       "  'Fwd Act Data Pkts',\n",
       "  'Active Mean',\n",
       "  'Active Std',\n",
       "  'Active Max',\n",
       "  'Active Min',\n",
       "  'Idle Mean',\n",
       "  'Idle Std',\n",
       "  'Idle Min',\n",
       "  'Label'],\n",
       " 'SCHD': ['Dst Port',\n",
       "  'TotLen Bwd Pkts',\n",
       "  'Fwd Pkt Len Max',\n",
       "  'Fwd Pkt Len Min',\n",
       "  'Fwd Pkt Len Mean',\n",
       "  'Bwd Pkt Len Max',\n",
       "  'Bwd Pkt Len Min',\n",
       "  'Bwd Pkt Len Mean',\n",
       "  'Flow Pkts/s',\n",
       "  'Flow IAT Mean',\n",
       "  'Fwd IAT Tot',\n",
       "  'Fwd IAT Std',\n",
       "  'Fwd IAT Min',\n",
       "  'Bwd IAT Mean',\n",
       "  'Bwd IAT Std',\n",
       "  'Bwd PSH Flags',\n",
       "  'Fwd Pkts/s',\n",
       "  'Pkt Len Min',\n",
       "  'Pkt Len Max',\n",
       "  'Pkt Len Mean',\n",
       "  'Pkt Len Std',\n",
       "  'Pkt Len Var',\n",
       "  'FIN Flag Cnt',\n",
       "  'SYN Flag Cnt',\n",
       "  'Pkt Size Avg',\n",
       "  'Fwd Seg Size Avg',\n",
       "  'Bwd Seg Size Avg',\n",
       "  'Subflow Fwd Pkts',\n",
       "  'Subflow Bwd Byts',\n",
       "  'Init Bwd Win Byts',\n",
       "  'Fwd Act Data Pkts',\n",
       "  'Active Std',\n",
       "  'Idle Mean',\n",
       "  'Idle Std',\n",
       "  'Label'],\n",
       " 'MHDis': ['Src Port',\n",
       "  'Dst Port',\n",
       "  'TotLen Fwd Pkts',\n",
       "  'TotLen Bwd Pkts',\n",
       "  'Fwd Pkt Len Max',\n",
       "  'Fwd Pkt Len Min',\n",
       "  'Fwd Pkt Len Mean',\n",
       "  'Bwd Pkt Len Max',\n",
       "  'Bwd Pkt Len Min',\n",
       "  'Flow Byts/s',\n",
       "  'Flow Pkts/s',\n",
       "  'Flow IAT Std',\n",
       "  'Flow IAT Max',\n",
       "  'Flow IAT Min',\n",
       "  'Fwd IAT Tot',\n",
       "  'Fwd IAT Mean',\n",
       "  'Fwd IAT Std',\n",
       "  'Fwd IAT Min',\n",
       "  'Bwd IAT Std',\n",
       "  'Bwd IAT Max',\n",
       "  'Bwd Header Len',\n",
       "  'Fwd Pkts/s',\n",
       "  'Pkt Len Mean',\n",
       "  'Pkt Size Avg',\n",
       "  'Fwd Seg Size Avg',\n",
       "  'Subflow Bwd Byts',\n",
       "  'Init Bwd Win Byts',\n",
       "  'Active Mean',\n",
       "  'Active Std',\n",
       "  'Idle Std',\n",
       "  'Idle Max',\n",
       "  'Idle Min',\n",
       "  'Label']}"
      ]
     },
     "execution_count": 6,
     "metadata": {},
     "output_type": "execute_result"
    }
   ],
   "source": [
    "feature_list"
   ]
  },
  {
   "cell_type": "code",
   "execution_count": 7,
   "metadata": {},
   "outputs": [],
   "source": [
    "file_list={\n",
    "'SYN': ['../csvs\\\\dos-synflooding-1-dec.pcap_Flow.csv', '../csvs\\\\dos-synflooding-6-dec.pcap_Flow.csv'],\n",
    "'HTTP': ['../csvs\\\\mirai-httpflooding-4-dec.pcap_Flow.csv', '../csvs\\\\http-flood -maze.csv'],\n",
    "'ACK': ['../csvs\\\\mirai-ackflooding-4-dec.pcap_Flow.csv', '../csvs\\\\mirai-ackflooding-2-dec.pcap_Flow.csv'],\n",
    "'UDP': ['../csvs\\\\mirai-udpflooding-4-dec.pcap_Flow.csv', '../csvs\\\\mirai-udpflooding-2-dec.pcap_Flow.csv'],\n",
    "'ARP': ['../csvs\\\\mitm-arpspoofing-6-dec.pcap_Flow.csv', '../csvs\\\\mitm-arpspoofing-5-dec.pcap_Flow.csv'],\n",
    "'SP': ['../csvs\\\\scan-hostport-3-dec.pcap_Flow.csv', '../csvs\\\\Edge-Port Scanning attack.pcap_Flow.csv'],\n",
    "'BF': ['../csvs\\\\mirai-hostbruteforce-5-dec.pcap_Flow.csv','../csvs\\\\mirai-hostbruteforce-3-dec.pcap_Flow.csv'],\n",
    "'OS': ['../csvs\\\\scan-portos-3-dec.pcap_Flow.csv', '../csvs\\\\BoT-IoT_OSScan.csv'],\n",
    "'SCHD': ['../csvs\\\\scan-hostport-3-dec.pcap_Flow.csv', '../csvs\\\\scan-hostport-5-dec.pcap_Flow.csv'],\n",
    "'MHDis': ['../csvs\\\\mirai-hostbruteforce-3-dec.pcap_Flow.csv', '../csvs\\\\mirai-hostbruteforce-5-dec.pcap_Flow.csv']}"
   ]
  },
  {
   "cell_type": "code",
   "execution_count": 8,
   "metadata": {},
   "outputs": [],
   "source": [
    "def run_random_search(model, params, x_train, y_train):\n",
    "    #grid = GridSearchCV(model, params, cv = ps, n_jobs = -1, scoring = score, verbose = 0, refit = False)\n",
    "    grid =RandomizedSearchCV(model, param_grid, cv=ps,scoring = 'f1_macro')\n",
    "    grid.fit(x_train, y_train)\n",
    "    return (grid.best_params_, round(grid.best_score_,8),grid.best_estimator_)"
   ]
  },
  {
   "cell_type": "code",
   "execution_count": 9,
   "metadata": {},
   "outputs": [],
   "source": [
    "def find_the_way(path,file_format,con=\"\"):\n",
    "    files_add = []\n",
    "    # r=root, d=directories, f = files\n",
    "    for r, d, f in os.walk(path):\n",
    "        for file in f:\n",
    "            if file_format in file:\n",
    "                if con in file:\n",
    "                    files_add.append(os.path.join(r, file))  \n",
    "            \n",
    "    return files_add"
   ]
  },
  {
   "cell_type": "markdown",
   "metadata": {},
   "source": [
    "# RandomizedSearchCV  DT"
   ]
  },
  {
   "cell_type": "code",
   "execution_count": 10,
   "metadata": {
    "scrolled": false
   },
   "outputs": [
    {
     "name": "stdout",
     "output_type": "stream",
     "text": [
      "SYN\n",
      "HYPERPARAMETERS                     F1 Score             Time     No      \n",
      "default                             0.9902731579888235   1.941    24      \n"
     ]
    },
    {
     "name": "stderr",
     "output_type": "stream",
     "text": [
      "100%|██████████| 50/50 [00:57<00:00,  1.15s/it]\n"
     ]
    },
    {
     "name": "stdout",
     "output_type": "stream",
     "text": [
      "HTTP\n",
      "HYPERPARAMETERS                     F1 Score             Time     No      \n",
      "default                             1.0                  0.392    24      \n"
     ]
    },
    {
     "name": "stderr",
     "output_type": "stream",
     "text": [
      "100%|██████████| 50/50 [00:10<00:00,  4.75it/s]\n"
     ]
    },
    {
     "name": "stdout",
     "output_type": "stream",
     "text": [
      "ACK\n",
      "HYPERPARAMETERS                     F1 Score             Time     No      \n",
      "default                             1.0                  0.323    24      \n"
     ]
    },
    {
     "name": "stderr",
     "output_type": "stream",
     "text": [
      "100%|██████████| 50/50 [00:12<00:00,  4.14it/s]\n"
     ]
    },
    {
     "name": "stdout",
     "output_type": "stream",
     "text": [
      "UDP\n",
      "HYPERPARAMETERS                     F1 Score             Time     No      \n",
      "default                             1.0                  0.189    24      \n"
     ]
    },
    {
     "name": "stderr",
     "output_type": "stream",
     "text": [
      "100%|██████████| 50/50 [00:07<00:00,  6.99it/s]\n"
     ]
    },
    {
     "name": "stdout",
     "output_type": "stream",
     "text": [
      "ARP\n",
      "HYPERPARAMETERS                     F1 Score             Time     No      \n",
      "default                             0.9608136996618686   0.307    24      \n"
     ]
    },
    {
     "name": "stderr",
     "output_type": "stream",
     "text": [
      "100%|██████████| 50/50 [00:10<00:00,  4.68it/s]\n"
     ]
    },
    {
     "name": "stdout",
     "output_type": "stream",
     "text": [
      "SP\n",
      "HYPERPARAMETERS                     F1 Score             Time     No      \n",
      "default                             1.0                  0.441    24      \n"
     ]
    },
    {
     "name": "stderr",
     "output_type": "stream",
     "text": [
      "100%|██████████| 50/50 [00:19<00:00,  2.52it/s]\n"
     ]
    },
    {
     "name": "stdout",
     "output_type": "stream",
     "text": [
      "BF\n",
      "HYPERPARAMETERS                     F1 Score             Time     No      \n",
      "default                             0.8598936861398042   1.716    24      \n"
     ]
    },
    {
     "name": "stderr",
     "output_type": "stream",
     "text": [
      "100%|██████████| 50/50 [00:26<00:00,  1.87it/s]\n"
     ]
    },
    {
     "name": "stdout",
     "output_type": "stream",
     "text": [
      "OS\n",
      "HYPERPARAMETERS                     F1 Score             Time     No      \n",
      "default                             0.909888559279232    0.978    24      \n"
     ]
    },
    {
     "name": "stderr",
     "output_type": "stream",
     "text": [
      "100%|██████████| 50/50 [00:46<00:00,  1.09it/s]\n"
     ]
    },
    {
     "name": "stdout",
     "output_type": "stream",
     "text": [
      "SCHD\n",
      "HYPERPARAMETERS                     F1 Score             Time     No      \n",
      "default                             1.0                  0.306    24      \n"
     ]
    },
    {
     "name": "stderr",
     "output_type": "stream",
     "text": [
      "100%|██████████| 50/50 [00:09<00:00,  5.27it/s]\n"
     ]
    },
    {
     "name": "stdout",
     "output_type": "stream",
     "text": [
      "MHDis\n",
      "HYPERPARAMETERS                     F1 Score             Time     No      \n",
      "default                             0.9765208654846879   0.879    24      \n"
     ]
    },
    {
     "name": "stderr",
     "output_type": "stream",
     "text": [
      "100%|██████████| 50/50 [00:19<00:00,  2.62it/s]"
     ]
    },
    {
     "name": "stdout",
     "output_type": "stream",
     "text": [
      "    criterion      max_depth    max_features    min_samples_split        F1          Std    Time    No  Attack\n",
      "--  -----------  -----------  --------------  -------------------  --------  -----------  ------  ----  --------\n",
      " 0  gini                  26              31                    2  0.99421   0             1.274    27  SYN\n",
      " 1  gini                   1               6                    7  1         0             0.158    46  HTTP\n",
      " 2  gini                   9              31                    5  1         0             0.287    22  ACK\n",
      " 3  entropy                2               8                    8  1         0             0.124    23  UDP\n",
      " 4  entropy               20              31                    4  0.972819  1.11022e-16   0.182    13  ARP\n",
      " 5  entropy                3              35                    5  1         0             0.432    22  SP\n",
      " 6  entropy                7              37                    5  0.934988  0.0109587     0.501    24  BF\n",
      " 7  gini                  26              38                    6  0.923221  0.00108222    0.975    13  OS\n",
      " 8  gini                   2              22                    2  1         0             0.157    41  SCHD\n",
      " 9  gini                  12              32                    2  0.97738   0.00117831    0.392    34  MHDis\n"
     ]
    },
    {
     "name": "stderr",
     "output_type": "stream",
     "text": [
      "\n"
     ]
    }
   ],
   "source": [
    "from scipy.stats import randint\n",
    "lines=[['criterion', 'max_depth', 'max_features', 'min_samples_split', \"F1\",\"Std\",\"Time\",\"No\",\"Attack\"]]\n",
    "\n",
    "for j in file_list:\n",
    "    print(j)\n",
    "    df=pd.read_csv(file_list[j][0],usecols=feature_list[j]) \n",
    "    X_train = df.iloc[:,0:-1]\n",
    "    df['Label'] = df['Label'].astype('category')\n",
    "    y_train=df['Label'].cat.codes  \n",
    "\n",
    "    df=pd.read_csv(file_list[j][1],usecols=feature_list[j]) \n",
    "    X_test = df.iloc[:,0:-1]\n",
    "    df['Label'] = df['Label'].astype('category')\n",
    "    y_test=df['Label'].cat.codes  \n",
    "       \n",
    "    X= np.concatenate([X_train, X_test])\n",
    "    test_fold = [-1 for _ in range(X_train.shape[0])] + [0 for _ in range(X_test.shape[0])]\n",
    "    y = np.concatenate([y_train, y_test])\n",
    "    ps = PredefinedSplit(test_fold)\n",
    "        \n",
    "    print ('%-35s %-20s %-8s %-8s' % (\"HYPERPARAMETERS\",\"F1 Score\", \"Time\", \"No\"))\n",
    "\n",
    "    nfolds=10\n",
    "    param_grid = {\n",
    "        'criterion': ['gini', 'entropy'],\n",
    "        'max_depth': np.linspace(1, 32, 32, endpoint=True).astype(int),\n",
    "        'min_samples_split': randint(2, 10),\n",
    "        'max_features': randint(1, X_train.shape[1] + 1)  # Adding +1 to ensure scale is positive\n",
    "    }\n",
    "\n",
    "    second=time()\n",
    "    f1=[]\n",
    "    clf=DecisionTreeClassifier()\n",
    "    for ii in range(25):\n",
    "        clf.fit(X_train, y_train)\n",
    "        predict =clf.predict(X_test)\n",
    "        f1.append(sklearn.metrics.f1_score(y_test, predict,average= \"macro\") )\n",
    "    f1=sum(f1)/len(f1)   \n",
    "    #if f1>0.76:\n",
    "    print('%-35s %-20s %-8s %-8s' % (\"default\",f1,round(time()-second,3),ii))\n",
    "    ######################################################################################################################\n",
    "    for i in tqdm(range(50)):\n",
    "        second=time()\n",
    "        a,b,clf=run_random_search(DecisionTreeClassifier(),param_grid,X,y)\n",
    "        f1=[]\n",
    "        for ii in range(10):\n",
    "            clf.fit(X_train, y_train)\n",
    "            predict =clf.predict(X_test)\n",
    "            f1.append(sklearn.metrics.f1_score(y_test, predict,average= \"macro\") )\n",
    "        f1_result=sum(f1)/len(f1)   \n",
    "        f1=np.array(f1)\n",
    "        stndtd=f1.std()\n",
    "        temp=list(a.values())\n",
    "        #print('%-90s %-20s %-8s %-8s' % (a,f1_result,round(time()-second,3),i))\n",
    "        temp=temp+[f1_result,stndtd,round(time()-second,3),i,j]\n",
    "        lines.append(temp)\n",
    "\n",
    "        #if f1>0.76:\n",
    "results = pd.DataFrame (lines[1:], columns = lines[0])\n",
    "results.to_csv(\"DT_HPO.csv\",index=False)\n",
    "\n",
    "final_parametres=[['criterion', 'max_depth', 'max_features', 'min_samples_split', \"F1\",\"Std\",\"Time\",\"No\",\"Attack\"]]\n",
    "for i in results[\"Attack\"].unique():\n",
    "    df=results[results[\"Attack\"]==i]\n",
    "    m=df[\"F1\"].max()\n",
    "    df=df[df[\"F1\"]==m]\n",
    "    m=df[\"max_depth\"].min()\n",
    "    df=df[df[\"max_depth\"]==m]  \n",
    "    final_parametres.append(list(df.values)[0])\n",
    "results = pd.DataFrame (final_parametres[1:], columns=  final_parametres[0])\n",
    "print (tabulate(results, headers=list(results.columns)))"
   ]
  },
  {
   "cell_type": "markdown",
   "metadata": {},
   "source": [
    "# LR"
   ]
  },
  {
   "cell_type": "code",
   "execution_count": 11,
   "metadata": {},
   "outputs": [
    {
     "name": "stdout",
     "output_type": "stream",
     "text": [
      "SYN\n",
      "default                             0.916938364340683    1.347    0       \n"
     ]
    },
    {
     "name": "stderr",
     "output_type": "stream",
     "text": [
      "100%|██████████| 10/10 [17:22<00:00, 104.28s/it]\n"
     ]
    },
    {
     "name": "stdout",
     "output_type": "stream",
     "text": [
      "HTTP\n",
      "default                             1.0                  0.097    0       \n"
     ]
    },
    {
     "name": "stderr",
     "output_type": "stream",
     "text": [
      "100%|██████████| 10/10 [00:34<00:00,  3.41s/it]\n"
     ]
    },
    {
     "name": "stdout",
     "output_type": "stream",
     "text": [
      "ACK\n",
      "default                             0.9265678387171424   0.084    0       \n"
     ]
    },
    {
     "name": "stderr",
     "output_type": "stream",
     "text": [
      "100%|██████████| 10/10 [00:52<00:00,  5.28s/it]\n"
     ]
    },
    {
     "name": "stdout",
     "output_type": "stream",
     "text": [
      "UDP\n",
      "default                             1.0                  0.076    0       \n"
     ]
    },
    {
     "name": "stderr",
     "output_type": "stream",
     "text": [
      "100%|██████████| 10/10 [00:06<00:00,  1.48it/s]\n"
     ]
    },
    {
     "name": "stdout",
     "output_type": "stream",
     "text": [
      "ARP\n",
      "default                             0.8870058953986073   0.065    0       \n"
     ]
    },
    {
     "name": "stderr",
     "output_type": "stream",
     "text": [
      "100%|██████████| 10/10 [00:39<00:00,  3.97s/it]\n"
     ]
    },
    {
     "name": "stdout",
     "output_type": "stream",
     "text": [
      "SP\n",
      "default                             0.957032967032967    0.314    0       \n"
     ]
    },
    {
     "name": "stderr",
     "output_type": "stream",
     "text": [
      "100%|██████████| 10/10 [00:42<00:00,  4.26s/it]\n"
     ]
    },
    {
     "name": "stdout",
     "output_type": "stream",
     "text": [
      "BF\n",
      "default                             0.5604843030108217   0.075    0       \n"
     ]
    },
    {
     "name": "stderr",
     "output_type": "stream",
     "text": [
      "100%|██████████| 10/10 [02:05<00:00, 12.58s/it]\n"
     ]
    },
    {
     "name": "stdout",
     "output_type": "stream",
     "text": [
      "OS\n",
      "default                             0.6777504643692454   0.106    0       \n"
     ]
    },
    {
     "name": "stderr",
     "output_type": "stream",
     "text": [
      "100%|██████████| 10/10 [02:22<00:00, 14.27s/it]\n"
     ]
    },
    {
     "name": "stdout",
     "output_type": "stream",
     "text": [
      "SCHD\n",
      "default                             0.947002997002997    0.171    0       \n"
     ]
    },
    {
     "name": "stderr",
     "output_type": "stream",
     "text": [
      "100%|██████████| 10/10 [00:27<00:00,  2.77s/it]\n"
     ]
    },
    {
     "name": "stdout",
     "output_type": "stream",
     "text": [
      "MHDis\n",
      "default                             0.6428408906224606   0.07     0       \n"
     ]
    },
    {
     "name": "stderr",
     "output_type": "stream",
     "text": [
      "100%|██████████| 10/10 [01:02<00:00,  6.21s/it]"
     ]
    },
    {
     "name": "stdout",
     "output_type": "stream",
     "text": [
      "               C  penalty    Solver           F1          Std     Time    No  Attack\n",
      "--  ------------  ---------  ---------  --------  -----------  -------  ----  --------\n",
      " 0   0.00218427   l2         newton-cg  0.946673  0             38.013     0  SYN\n",
      " 1   0.000629179  l2         newton-cg  0.933263  1.11022e-16   57.744     1  SYN\n",
      " 2  32.2474       l1         liblinear  0.966818  0.0117961    200.331     2  SYN\n",
      " 3   0.103041     l2         newton-cg  0.946673  0             47.346     3  SYN\n",
      " 4   0.00288744   l2         lbfgs      0.946673  0             58.956     4  SYN\n",
      " 5   0.000382968  l2         lbfgs      0.957531  0             22.569     5  SYN\n",
      " 6  56.6729       l1         liblinear  0.964364  0.00760785   124.055     6  SYN\n",
      " 7  99.3737       l1         liblinear  0.929628  0.0373117    188.951     7  SYN\n",
      " 8   5.09004      l1         liblinear  0.913497  0.0325329    249.906     8  SYN\n",
      " 9   0.000118388  l2         lbfgs      0.903482  1.11022e-16   54.908     9  SYN\n",
      "10   0.0123822    l2         newton-cg  1         0              3.353     0  HTTP\n",
      "11   0.142336     l2         newton-cg  1         0              3.338     1  HTTP\n",
      "12   1.3113e-05   l2         newton-cg  1         0              3.488     2  HTTP\n",
      "13   0.00698309   l1         liblinear  1         0              0.856     3  HTTP\n",
      "14   3.8716       l2         newton-cg  1         0              3.037     4  HTTP\n",
      "15   0.481948     l2         newton-cg  1         0              4.31      5  HTTP\n",
      "16   0.00219107   l2         newton-cg  1         0              3.405     6  HTTP\n",
      "17   0.0714917    l2         newton-cg  1         0              4.452     7  HTTP\n",
      "18   0.00145613   l2         newton-cg  1         0              3.855     8  HTTP\n",
      "19   0.0836325    l2         newton-cg  1         0              4.036     9  HTTP\n",
      "20   2.34081      l2         liblinear  0.933557  0              2.927     0  ACK\n",
      "21  41.9311       l1         liblinear  0.97063   0.00737963    10.977     1  ACK\n",
      "22   3.95099e-05  l2         liblinear  0.932697  0              1.1       2  ACK\n",
      "23  12.4126       l1         liblinear  0.96731   0.0068669      8.718     3  ACK\n",
      "24   0.00095793   l1         liblinear  0.937261  0.00275178     2.386     4  ACK\n",
      "25  60.2665       l1         liblinear  0.968973  0.00429847     6.881     5  ACK\n",
      "26  51.9825       l1         liblinear  0.964335  0.00109564     5.245     6  ACK\n",
      "27   0.318882     l1         liblinear  0.962195  0.000830167    5.424     7  ACK\n",
      "28   8.03845      l2         newton-cg  0.927792  0              4.733     8  ACK\n",
      "29   0.24181      l1         liblinear  0.958369  0.00399109     4.379     9  ACK\n",
      "30   1.97843      l1         liblinear  1         0              0.415     0  UDP\n",
      "31   0.000939697  l2         newton-cg  1         0              1.257     1  UDP\n",
      "32   0.00142002   l1         liblinear  1         0              0.635     2  UDP\n",
      "33   2.77425e-05  l2         liblinear  1         0              0.4       3  UDP\n",
      "34   2.66519      l2         liblinear  1         0              0.362     4  UDP\n",
      "35   0.0508967    l2         liblinear  1         0              0.667     5  UDP\n",
      "36   0.164901     l2         liblinear  1         0              0.67      6  UDP\n",
      "37  84.5638       l2         liblinear  1         0              0.684     7  UDP\n",
      "38   0.0140217    l2         lbfgs      1         0              0.957     8  UDP\n",
      "39   0.0418032    l2         liblinear  1         0              0.714     9  UDP\n",
      "40   1.24624      l2         newton-cg  0.946893  0              4.419     0  ARP\n",
      "41   0.304807     l1         liblinear  0.952695  0.00405959     2.469     1  ARP\n",
      "42   0.0603198    l1         liblinear  0.954739  0.000995607    6.106     2  ARP\n",
      "43   0.440482     l1         liblinear  0.951118  0.00332663     1.39      3  ARP\n",
      "44   8.87216e-05  l2         newton-cg  0.946893  0              5.106     4  ARP\n",
      "45  73.1786       l2         newton-cg  0.946893  0              4.037     5  ARP\n",
      "46   0.0282245    l1         liblinear  0.950913  0.00283133     5.894     6  ARP\n",
      "47   5.33576e-05  l2         newton-cg  0.946893  0              4.421     7  ARP\n",
      "48   1.28794      l1         liblinear  0.950001  0.00161954     4.097     8  ARP\n",
      "49   2.56489      l1         liblinear  0.948512  0.00204255     1.783     9  ARP\n",
      "50   0.003857     l2         lbfgs      0.943593  0              5.242     0  SP\n",
      "51   0.0115811    l2         lbfgs      0.968901  1.11022e-16    6.104     1  SP\n",
      "52   0.496828     l1         liblinear  0.979046  0.0246476      1.641     2  SP\n",
      "53  16.4155       l2         lbfgs      0.947795  1.11022e-16    5.844     3  SP\n",
      "54   0.77026      l2         lbfgs      0.951938  1.11022e-16    4.316     4  SP\n",
      "55   2.83382      l1         liblinear  0.985059  0.0104624      0.744     5  SP\n",
      "56   5.17416      l2         lbfgs      0.947795  1.11022e-16    3.839     6  SP\n",
      "57   0.258058     l2         liblinear  0.944649  0              1.143     7  SP\n",
      "58  41.5815       l2         lbfgs      0.963029  1.11022e-16    7.372     8  SP\n",
      "59   0.000499513  l2         lbfgs      0.965981  0              6.372     9  SP\n",
      "60  95.6679       l1         liblinear  0.736132  0.000874032   14.17      0  BF\n",
      "61   4.58313e-05  l2         newton-cg  0.651708  0              6.796     1  BF\n",
      "62  39.5524       l1         liblinear  0.735898  0.000738428   14.622     2  BF\n",
      "63  40.6858       l1         liblinear  0.736365  0.000573416   13.995     3  BF\n",
      "64   0.00490691   l1         liblinear  0.687981  0.00166376    15.532     4  BF\n",
      "65   0.0616469    l1         liblinear  0.731306  0.000892937   15.066     5  BF\n",
      "66   1.61509      l1         liblinear  0.732658  0.000675918   14.909     6  BF\n",
      "67   0.0386763    l2         newton-cg  0.654647  0              7.548     7  BF\n",
      "68   0.000473525  l2         newton-cg  0.655143  0              7.235     8  BF\n",
      "69   0.013639     l1         liblinear  0.689288  0.000362613   15.927     9  BF\n",
      "70   0.488022     l2         newton-cg  0.729754  0             12.331     0  OS\n",
      "71   0.076783     l1         liblinear  0.874218  0.0343098      7.581     1  OS\n",
      "72  39.4406       l1         liblinear  0.920872  0.00568885    16.521     2  OS\n",
      "73  45.328        l1         liblinear  0.917799  0.00763113    22.521     3  OS\n",
      "74  26.1752       l2         newton-cg  0.720042  0             20.398     4  OS\n",
      "75   0.0834668    l1         liblinear  0.882099  0.0261412      6.666     5  OS\n",
      "76   0.0103008    l1         liblinear  0.739625  0.00470478    10.114     6  OS\n",
      "77   0.0392279    l2         newton-cg  0.71771   0             18.232     7  OS\n",
      "78   0.234136     l2         newton-cg  0.719207  0             19.542     8  OS\n",
      "79   0.261397     l1         liblinear  0.92574   0.0121848      8.785     9  OS\n",
      "80  16.3101       l1         liblinear  0.999162  0.00167505     1.533     0  SCHD\n",
      "81   2.83259      l2         newton-cg  0.955836  0              4.457     1  SCHD\n",
      "82   0.00015082   l2         newton-cg  0.955132  0              5.482     2  SCHD\n",
      "83   1.60699      l1         liblinear  0.996612  0.00495466     0.682     3  SCHD\n",
      "84   6.90938      l1         liblinear  1         0              1.352     4  SCHD\n",
      "85  55.0939       l1         liblinear  0.997475  0.00337191     1.753     5  SCHD\n",
      "86   0.00775691   l2         newton-cg  0.955132  0              4.135     6  SCHD\n",
      "87  12.2918       l2         newton-cg  0.960561  1.11022e-16    4.492     7  SCHD\n",
      "88   6.28581      l1         liblinear  1         0              1.619     8  SCHD\n",
      "89   0.542347     l1         liblinear  0.991537  0.00382973     2.148     9  SCHD\n",
      "90   0.0125759    l1         liblinear  0.799016  0              4.312     0  MHDis\n",
      "91   6.38024e-05  l2         newton-cg  0.776991  0              7.794     1  MHDis\n",
      "92  45.6049       l2         newton-cg  0.7754    0              6.752     2  MHDis\n",
      "93   0.0108126    l1         liblinear  0.799016  0              6.356     3  MHDis\n",
      "94   0.00408435   l1         liblinear  0.794388  0              5.33      4  MHDis\n",
      "95   3.62022      l2         newton-cg  0.776991  0              6.73      5  MHDis\n",
      "96   1.02992      l2         newton-cg  0.804307  1.11022e-16    7.715     6  MHDis\n",
      "97   0.000361797  l1         liblinear  0.7754    0              4.946     7  MHDis\n",
      "98   0.00254118   l2         newton-cg  0.802699  0              6.988     8  MHDis\n",
      "99   0.445231     l1         liblinear  0.797701  0              5.14      9  MHDis\n",
      "             C  penalty    Solver           F1          Std     Time    No  Attack\n",
      "--  ----------  ---------  ---------  --------  -----------  -------  ----  --------\n",
      " 0  32.2474     l1         liblinear  0.966818  0.0117961    200.331     2  SYN\n",
      " 1   0.0123822  l2         newton-cg  1         0              3.353     0  HTTP\n",
      " 2  41.9311     l1         liblinear  0.97063   0.00737963    10.977     1  ACK\n",
      " 3   1.97843    l1         liblinear  1         0              0.415     0  UDP\n",
      " 4   0.0603198  l1         liblinear  0.954739  0.000995607    6.106     2  ARP\n",
      " 5   2.83382    l1         liblinear  0.985059  0.0104624      0.744     5  SP\n",
      " 6  40.6858     l1         liblinear  0.736365  0.000573416   13.995     3  BF\n",
      " 7   0.261397   l1         liblinear  0.92574   0.0121848      8.785     9  OS\n",
      " 8   6.90938    l1         liblinear  1         0              1.352     4  SCHD\n",
      " 9   1.02992    l2         newton-cg  0.804307  1.11022e-16    7.715     6  MHDis\n"
     ]
    },
    {
     "name": "stderr",
     "output_type": "stream",
     "text": [
      "\n"
     ]
    }
   ],
   "source": [
    "from scipy.stats import loguniform\n",
    "from sklearn.linear_model import LogisticRegression\n",
    "lines=[[\"C\",'penalty','Solver',  \"F1\",\"Std\",\"Time\",\"No\",\"Attack\"]]\n",
    "for j in file_list:\n",
    "    print(j)\n",
    "    \n",
    "    df=pd.read_csv(file_list[j][0],usecols=feature_list[j]) \n",
    "    X_train = df.iloc[:,0:-1]\n",
    "    df['Label'] = df['Label'].astype('category')\n",
    "    y_train=df['Label'].cat.codes  \n",
    "\n",
    "\n",
    "    df=pd.read_csv(file_list[j][1],usecols=feature_list[j]) \n",
    "    X_test = df.iloc[:,0:-1]\n",
    "    df['Label'] = df['Label'].astype('category')\n",
    "    y_test=df['Label'].cat.codes  \n",
    "    \n",
    "    X= np.concatenate([X_train, X_test])\n",
    "    test_fold = [-1 for _ in range(X_train.shape[0])] + [0 for _ in range(X_test.shape[0])]\n",
    "    y = np.concatenate([y_train, y_test])\n",
    "    ps = PredefinedSplit(test_fold)\n",
    "    \n",
    "    second=time()\n",
    "\n",
    "    param_grid = {\n",
    "    'solver': ['newton-cg', 'lbfgs', 'liblinear'],\n",
    "    'penalty': ['none', 'l1', 'l2', 'elasticnet'],  # Initially, allow all\n",
    "    'C': loguniform(1e-5, 100)\n",
    "}\n",
    "\n",
    "    # Ensure compatibility between the solver and the penalty\n",
    "    for solver in param_grid['solver']:\n",
    "        if solver == 'newton-cg':\n",
    "            param_grid['penalty'] = ['none', 'l2']  # Only 'none' and 'l2' are valid for 'newton-cg'\n",
    "        elif solver == 'liblinear':\n",
    "            param_grid['penalty'] = ['l1', 'l2']  # 'liblinear' supports both 'l1' and 'l2'\n",
    "        else:\n",
    "            param_grid['penalty'] = ['l2', 'none']  # Other solvers support 'l2' or 'none'\n",
    "     \n",
    "    second=time()\n",
    "    f1=[]\n",
    "    clf=LogisticRegression()\n",
    "    for ii in range(1):\n",
    "        clf.fit(X_train, y_train)\n",
    "        predict =clf.predict(X_test)\n",
    "        f1.append(sklearn.metrics.f1_score(y_test, predict,average= \"macro\") )\n",
    "    f1=sum(f1)/len(f1)   \n",
    "    #if f1>0.76:\n",
    "    print('%-35s %-20s %-8s %-8s' % (\"default\",f1,round(time()-second,3),ii))\n",
    "    ######################################################################################################################\n",
    "    for i in tqdm(range(10)):\n",
    "        second = time()\n",
    "        a, b, clf = run_random_search(LogisticRegression(), param_grid, X, y)\n",
    "        f1 = []\n",
    "        for ii in range(5):\n",
    "            clf.fit(X_train, y_train)\n",
    "            predict = clf.predict(X_test)\n",
    "            f1.append(sklearn.metrics.f1_score(y_test, predict, average=\"macro\"))\n",
    "        f1_result = sum(f1) / len(f1)\n",
    "        f1 = np.array(f1)\n",
    "        stndtd = f1.std()\n",
    "        temp = list(a.values())\n",
    "        temp = temp + [f1_result, stndtd, round(time() - second, 3), i, j]\n",
    "        lines.append(temp)\n",
    "\n",
    "results = pd.DataFrame (lines[1:], columns = lines[0])\n",
    "results.to_csv(\"LR_HPO.csv\",index=False)\n",
    "print (tabulate(results, headers=list(results.columns)))\n",
    "    \n",
    "final_parametres=[[\"C\",'penalty','Solver',  \"F1\",\"Std\",\"Time\",\"No\",\"Attack\"]]\n",
    "for i in results[\"Attack\"].unique():\n",
    "    df=results[results[\"Attack\"]==i]\n",
    "    m=df[\"F1\"].max()\n",
    "    df=df[df[\"F1\"]==m]\n",
    "    final_parametres.append(list(df.values)[0])\n",
    "results = pd.DataFrame (final_parametres[1:], columns=  final_parametres[0])\n",
    "print (tabulate(results, headers=list(results.columns)))"
   ]
  }
 ],
 "metadata": {
  "kernelspec": {
   "display_name": "Python 3",
   "language": "python",
   "name": "python3"
  },
  "language_info": {
   "codemirror_mode": {
    "name": "ipython",
    "version": 3
   },
   "file_extension": ".py",
   "mimetype": "text/x-python",
   "name": "python",
   "nbconvert_exporter": "python",
   "pygments_lexer": "ipython3",
   "version": "3.12.2"
  }
 },
 "nbformat": 4,
 "nbformat_minor": 2
}
