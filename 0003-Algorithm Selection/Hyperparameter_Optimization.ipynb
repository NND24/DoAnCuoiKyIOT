{
 "cells": [
  {
   "cell_type": "code",
   "execution_count": 1,
   "metadata": {},
   "outputs": [],
   "source": [
    "%matplotlib inline\n",
    "from scipy.stats import randint as sp_randint\n",
    "from scipy.stats import uniform\n",
    "from scipy.stats import uniform as sp_randFloat\n",
    "from sklearn import svm\n",
    "from tqdm import tqdm\n",
    "from sklearn.ensemble import GradientBoostingClassifier\n",
    "from sklearn.naive_bayes import CategoricalNB\n",
    "from sklearn.model_selection import GridSearchCV\n",
    "from sklearn.ensemble import RandomForestClassifier\n",
    "from sklearn.model_selection import GridSearchCV\n",
    "from sklearn.model_selection import RandomizedSearchCV\n",
    "from sklearn.model_selection import train_test_split\n",
    "from sklearn.neighbors import KNeighborsClassifier\n",
    "from sklearn.tree import DecisionTreeClassifier\n",
    "from time import time\n",
    "from tabulate import tabulate\n",
    "import numpy as np\n",
    "import pandas as pd\n",
    "import sklearn\n",
    "import warnings\n",
    "warnings.filterwarnings('ignore')\n",
    "import os"
   ]
  },
  {
   "cell_type": "code",
   "execution_count": 2,
   "metadata": {},
   "outputs": [],
   "source": [
    "from scipy.stats import randint as sp_randInt\n",
    "\n",
    "from sklearn.model_selection import GridSearchCV, PredefinedSplit\n",
    "from sklearn.metrics import make_scorer\n",
    "from scipy import sparse"
   ]
  },
  {
   "cell_type": "code",
   "execution_count": 3,
   "metadata": {},
   "outputs": [],
   "source": [
    "import json\n",
    "with open('GA_output_ET.json', 'r') as fp:\n",
    "    feature_list = json.load(fp)"
   ]
  },
  {
   "cell_type": "code",
   "execution_count": 4,
   "metadata": {},
   "outputs": [
    {
     "data": {
      "text/plain": [
       "{'SYN': ['Src Port',\n",
       "  'Tot Fwd Pkts',\n",
       "  'Tot Bwd Pkts',\n",
       "  'TotLen Bwd Pkts',\n",
       "  'Fwd Pkt Len Max',\n",
       "  'Bwd Pkt Len Max',\n",
       "  'Bwd Pkt Len Min',\n",
       "  'Bwd Pkt Len Mean',\n",
       "  'Bwd Pkt Len Std',\n",
       "  'Flow IAT Mean',\n",
       "  'Flow IAT Std',\n",
       "  'Flow IAT Max',\n",
       "  'Flow IAT Min',\n",
       "  'Fwd IAT Tot',\n",
       "  'Fwd IAT Mean',\n",
       "  'Fwd IAT Max',\n",
       "  'Fwd IAT Min',\n",
       "  'Bwd IAT Max',\n",
       "  'Fwd Pkts/s',\n",
       "  'Bwd Pkts/s',\n",
       "  'Pkt Len Max',\n",
       "  'Pkt Len Std',\n",
       "  'SYN Flag Cnt',\n",
       "  'PSH Flag Cnt',\n",
       "  'Pkt Size Avg',\n",
       "  'Subflow Fwd Pkts',\n",
       "  'Subflow Fwd Byts',\n",
       "  'Subflow Bwd Byts',\n",
       "  'Fwd Act Data Pkts',\n",
       "  'Active Std',\n",
       "  'Active Max',\n",
       "  'Idle Mean',\n",
       "  'Idle Std',\n",
       "  'Idle Max',\n",
       "  'Idle Min',\n",
       "  'Label'],\n",
       " 'HTTP': ['Dst Port',\n",
       "  'Flow Duration',\n",
       "  'Flow Pkts/s',\n",
       "  'Flow IAT Max',\n",
       "  'Fwd IAT Tot',\n",
       "  'Fwd IAT Min',\n",
       "  'Fwd Pkts/s',\n",
       "  'FIN Flag Cnt',\n",
       "  'SYN Flag Cnt',\n",
       "  'Label'],\n",
       " 'ACK': ['TotLen Bwd Pkts',\n",
       "  'Fwd Pkt Len Max',\n",
       "  'Fwd Pkt Len Mean',\n",
       "  'Fwd Pkt Len Std',\n",
       "  'Flow Byts/s',\n",
       "  'Flow IAT Std',\n",
       "  'Fwd IAT Tot',\n",
       "  'Fwd IAT Mean',\n",
       "  'Fwd IAT Std',\n",
       "  'Fwd IAT Max',\n",
       "  'Fwd IAT Min',\n",
       "  'Bwd IAT Std',\n",
       "  'Pkt Len Mean',\n",
       "  'Pkt Len Std',\n",
       "  'Pkt Len Var',\n",
       "  'SYN Flag Cnt',\n",
       "  'ACK Flag Cnt',\n",
       "  'Fwd Seg Size Avg',\n",
       "  'Bwd Seg Size Avg',\n",
       "  'Subflow Fwd Byts',\n",
       "  'Subflow Bwd Byts',\n",
       "  'Fwd Act Data Pkts',\n",
       "  'Label'],\n",
       " 'UDP': ['Src Port', 'Fwd IAT Std', 'Label'],\n",
       " 'ARP': ['Src Port',\n",
       "  'Dst Port',\n",
       "  'Protocol',\n",
       "  'Flow Duration',\n",
       "  'Tot Bwd Pkts',\n",
       "  'TotLen Bwd Pkts',\n",
       "  'Fwd Pkt Len Max',\n",
       "  'Fwd Pkt Len Min',\n",
       "  'Fwd Pkt Len Mean',\n",
       "  'Bwd Pkt Len Max',\n",
       "  'Bwd Pkt Len Min',\n",
       "  'Flow IAT Std',\n",
       "  'Flow IAT Max',\n",
       "  'Flow IAT Min',\n",
       "  'Fwd IAT Tot',\n",
       "  'Fwd IAT Std',\n",
       "  'Fwd IAT Max',\n",
       "  'Fwd IAT Min',\n",
       "  'Bwd IAT Tot',\n",
       "  'Bwd IAT Std',\n",
       "  'Bwd IAT Max',\n",
       "  'Bwd IAT Min',\n",
       "  'Fwd Header Len',\n",
       "  'Pkt Len Min',\n",
       "  'Pkt Len Max',\n",
       "  'Pkt Len Std',\n",
       "  'Pkt Len Var',\n",
       "  'PSH Flag Cnt',\n",
       "  'ACK Flag Cnt',\n",
       "  'Pkt Size Avg',\n",
       "  'Bwd Seg Size Avg',\n",
       "  'Subflow Fwd Pkts',\n",
       "  'Subflow Fwd Byts',\n",
       "  'Subflow Bwd Pkts',\n",
       "  'Subflow Bwd Byts',\n",
       "  'Init Bwd Win Byts',\n",
       "  'Fwd Act Data Pkts',\n",
       "  'Active Std',\n",
       "  'Idle Mean',\n",
       "  'Idle Std',\n",
       "  'Label'],\n",
       " 'SP': ['Protocol',\n",
       "  'Tot Fwd Pkts',\n",
       "  'Tot Bwd Pkts',\n",
       "  'TotLen Fwd Pkts',\n",
       "  'TotLen Bwd Pkts',\n",
       "  'Fwd Pkt Len Max',\n",
       "  'Fwd Pkt Len Min',\n",
       "  'Fwd Pkt Len Mean',\n",
       "  'Fwd Pkt Len Std',\n",
       "  'Fwd IAT Tot',\n",
       "  'Fwd IAT Max',\n",
       "  'Fwd IAT Min',\n",
       "  'Fwd Header Len',\n",
       "  'Fwd Pkts/s',\n",
       "  'Pkt Len Min',\n",
       "  'Pkt Len Mean',\n",
       "  'Pkt Len Std',\n",
       "  'Pkt Len Var',\n",
       "  'SYN Flag Cnt',\n",
       "  'Pkt Size Avg',\n",
       "  'Subflow Fwd Byts',\n",
       "  'Subflow Bwd Pkts',\n",
       "  'Init Bwd Win Byts',\n",
       "  'Fwd Act Data Pkts',\n",
       "  'Active Mean',\n",
       "  'Active Std',\n",
       "  'Active Max',\n",
       "  'Active Min',\n",
       "  'Idle Std',\n",
       "  'Idle Max',\n",
       "  'Idle Min',\n",
       "  'Label'],\n",
       " 'BF': ['TotLen Fwd Pkts',\n",
       "  'Flow IAT Std',\n",
       "  'Fwd IAT Tot',\n",
       "  'Fwd IAT Std',\n",
       "  'Fwd IAT Max',\n",
       "  'Fwd Pkts/s',\n",
       "  'Bwd Pkts/s',\n",
       "  'Subflow Fwd Byts',\n",
       "  'Label'],\n",
       " 'OS': ['Dst Port',\n",
       "  'Protocol',\n",
       "  'Tot Fwd Pkts',\n",
       "  'Tot Bwd Pkts',\n",
       "  'TotLen Bwd Pkts',\n",
       "  'Fwd Pkt Len Max',\n",
       "  'Fwd Pkt Len Min',\n",
       "  'Fwd Pkt Len Std',\n",
       "  'Bwd Pkt Len Min',\n",
       "  'Bwd Pkt Len Mean',\n",
       "  'Flow Byts/s',\n",
       "  'Flow IAT Max',\n",
       "  'Fwd IAT Tot',\n",
       "  'Fwd IAT Mean',\n",
       "  'Fwd IAT Std',\n",
       "  'Fwd IAT Max',\n",
       "  'Fwd IAT Min',\n",
       "  'Bwd IAT Mean',\n",
       "  'Bwd IAT Std',\n",
       "  'Bwd IAT Max',\n",
       "  'Bwd IAT Min',\n",
       "  'Bwd PSH Flags',\n",
       "  'Fwd Header Len',\n",
       "  'Bwd Header Len',\n",
       "  'Fwd Pkts/s',\n",
       "  'Pkt Len Max',\n",
       "  'Pkt Len Std',\n",
       "  'SYN Flag Cnt',\n",
       "  'RST Flag Cnt',\n",
       "  'PSH Flag Cnt',\n",
       "  'ACK Flag Cnt',\n",
       "  'Down/Up Ratio',\n",
       "  'Fwd Seg Size Avg',\n",
       "  'Subflow Bwd Byts',\n",
       "  'Init Bwd Win Byts',\n",
       "  'Active Mean',\n",
       "  'Active Max',\n",
       "  'Idle Mean',\n",
       "  'Idle Std',\n",
       "  'Idle Min',\n",
       "  'Label'],\n",
       " 'SCHD': ['Dst Port',\n",
       "  'Tot Fwd Pkts',\n",
       "  'Tot Bwd Pkts',\n",
       "  'TotLen Bwd Pkts',\n",
       "  'Fwd Pkt Len Min',\n",
       "  'Fwd Pkt Len Std',\n",
       "  'Bwd Pkt Len Max',\n",
       "  'Bwd Pkt Len Min',\n",
       "  'Bwd Pkt Len Mean',\n",
       "  'Bwd Pkt Len Std',\n",
       "  'Flow IAT Mean',\n",
       "  'Flow IAT Std',\n",
       "  'Flow IAT Max',\n",
       "  'Fwd IAT Tot',\n",
       "  'Fwd IAT Mean',\n",
       "  'Fwd IAT Min',\n",
       "  'Bwd IAT Tot',\n",
       "  'Bwd IAT Std',\n",
       "  'Bwd PSH Flags',\n",
       "  'Fwd Header Len',\n",
       "  'Pkt Len Std',\n",
       "  'Pkt Len Var',\n",
       "  'FIN Flag Cnt',\n",
       "  'SYN Flag Cnt',\n",
       "  'PSH Flag Cnt',\n",
       "  'Pkt Size Avg',\n",
       "  'Fwd Seg Size Avg',\n",
       "  'Bwd Seg Size Avg',\n",
       "  'Subflow Bwd Pkts',\n",
       "  'Subflow Bwd Byts',\n",
       "  'Init Bwd Win Byts',\n",
       "  'Active Mean',\n",
       "  'Active Std',\n",
       "  'Idle Std',\n",
       "  'Label'],\n",
       " 'MHDis': ['Src Port',\n",
       "  'Dst Port',\n",
       "  'Flow Duration',\n",
       "  'Tot Fwd Pkts',\n",
       "  'Tot Bwd Pkts',\n",
       "  'TotLen Bwd Pkts',\n",
       "  'Fwd Pkt Len Max',\n",
       "  'Fwd Pkt Len Mean',\n",
       "  'Fwd Pkt Len Std',\n",
       "  'Bwd Pkt Len Max',\n",
       "  'Bwd Pkt Len Mean',\n",
       "  'Bwd Pkt Len Std',\n",
       "  'Flow IAT Std',\n",
       "  'Fwd IAT Tot',\n",
       "  'Fwd IAT Mean',\n",
       "  'Fwd IAT Max',\n",
       "  'Fwd IAT Min',\n",
       "  'Bwd IAT Mean',\n",
       "  'Bwd IAT Min',\n",
       "  'Bwd Header Len',\n",
       "  'Fwd Pkts/s',\n",
       "  'Pkt Len Max',\n",
       "  'Pkt Len Mean',\n",
       "  'Pkt Len Std',\n",
       "  'Pkt Len Var',\n",
       "  'Fwd Seg Size Avg',\n",
       "  'Subflow Fwd Pkts',\n",
       "  'Subflow Bwd Pkts',\n",
       "  'Init Bwd Win Byts',\n",
       "  'Fwd Act Data Pkts',\n",
       "  'Idle Std',\n",
       "  'Idle Min',\n",
       "  'Label']}"
      ]
     },
     "execution_count": 4,
     "metadata": {},
     "output_type": "execute_result"
    }
   ],
   "source": [
    "feature_list"
   ]
  },
  {
   "cell_type": "code",
   "execution_count": 5,
   "metadata": {},
   "outputs": [],
   "source": [
    "file_list={\n",
    "'SYN': ['../csvs\\\\dos-synflooding-1-dec.pcap_Flow.csv', '../csvs\\\\dos-synflooding-6-dec.pcap_Flow.csv'],\n",
    "'HTTP': ['../csvs\\\\mirai-httpflooding-4-dec.pcap_Flow.csv', '../csvs\\\\http-flood -maze.csv'],\n",
    "'ACK': ['../csvs\\\\mirai-ackflooding-4-dec.pcap_Flow.csv', '../csvs\\\\ack_maze.csv'],\n",
    "'UDP': ['../csvs\\\\mirai-udpflooding-4-dec.pcap_Flow.csv', '../csvs\\\\UDP_DDoS_00001.pcap_Flow.csv'],\n",
    "'ARP': ['../csvs\\\\mitm-arpspoofing-6-dec.pcap_Flow.csv', '../csvs\\\\mitm-arpspoofing-5-dec.pcap_Flow.csv'],\n",
    "'SP': ['../csvs\\\\scan-hostport-3-dec.pcap_Flow.csv', '../csvs\\\\Edge-Port Scanning attack.pcap_Flow.csv'],\n",
    "'BF': ['../csvs\\\\mirai-hostbruteforce-5-dec.pcap_Flow.csv','../csvs\\\\edges-password attacks.pcap_Flow.csv'],\n",
    "'OS': ['../csvs\\\\scan-portos-3-dec.pcap_Flow.csv', '../csvs\\\\BoT-IoT_OSScan.csv'],\n",
    "'SCHD': ['../csvs\\\\scan-hostport-3-dec.pcap_Flow.csv', '../csvs\\\\scan-hostport-5-dec.pcap_Flow.csv'],\n",
    "'MHDis': ['../csvs\\\\mirai-hostbruteforce-3-dec.pcap_Flow.csv', '../csvs\\\\mirai-hostbruteforce-4-dec.pcap_Flow.csv']}"
   ]
  },
  {
   "cell_type": "code",
   "execution_count": 11,
   "metadata": {},
   "outputs": [],
   "source": [
    "param_grid = {\n",
    "    'solver': ['newton-cg', 'lbfgs', 'liblinear'],\n",
    "    'penalty': ['none', 'l1', 'l2', 'elasticnet'],  # We'll filter penalties in the loop based on the solver\n",
    "    'C': loguniform(1e-5, 100)\n",
    "}\n",
    "\n",
    "# Custom function to filter invalid penalty values based on the solver\n",
    "def get_valid_penalties(solver):\n",
    "    if solver == 'lbfgs' or solver == 'newton-cg':\n",
    "        return ['none', 'l2']  # Valid penalties for 'lbfgs' and 'newton-cg'\n",
    "    elif solver == 'liblinear':\n",
    "        return ['l1', 'l2', 'elasticnet']  # Valid penalties for 'liblinear'\n",
    "    else:\n",
    "        return ['none', 'l2']  # Default for other solvers\n"
   ]
  },
  {
   "cell_type": "code",
   "execution_count": 12,
   "metadata": {},
   "outputs": [],
   "source": [
    "def run_random_search(model, param_grid, x_train, y_train):\n",
    "    # Create parameter grid with valid penalties\n",
    "    valid_penalties = get_valid_penalties(param_grid['solver'][0])  # Assuming first solver in the list is selected\n",
    "    param_grid['penalty'] = [pen for pen in param_grid['penalty'] if pen in valid_penalties]\n",
    "\n",
    "    # Perform random search with cross-validation\n",
    "    grid = RandomizedSearchCV(model, param_grid, cv=ps, scoring='f1_macro')\n",
    "    grid.fit(x_train, y_train)\n",
    "    return grid.best_params_, round(grid.best_score_, 8), grid.best_estimator_"
   ]
  },
  {
   "cell_type": "code",
   "execution_count": 7,
   "metadata": {},
   "outputs": [],
   "source": [
    "def find_the_way(path,file_format,con=\"\"):\n",
    "    files_add = []\n",
    "    # r=root, d=directories, f = files\n",
    "    for r, d, f in os.walk(path):\n",
    "        for file in f:\n",
    "            if file_format in file:\n",
    "                if con in file:\n",
    "                    files_add.append(os.path.join(r, file))  \n",
    "            \n",
    "    return files_add"
   ]
  },
  {
   "cell_type": "markdown",
   "metadata": {},
   "source": [
    "# RandomizedSearchCV  DT"
   ]
  },
  {
   "cell_type": "code",
   "execution_count": 8,
   "metadata": {
    "scrolled": false
   },
   "outputs": [
    {
     "name": "stdout",
     "output_type": "stream",
     "text": [
      "SYN\n",
      "HYPERPARAMETERS                     F1 Score             Time     No      \n",
      "default                             0.9922977652517754   3.003    24      \n"
     ]
    },
    {
     "name": "stderr",
     "output_type": "stream",
     "text": [
      "100%|██████████| 50/50 [01:33<00:00,  1.87s/it]\n"
     ]
    },
    {
     "name": "stdout",
     "output_type": "stream",
     "text": [
      "HTTP\n",
      "HYPERPARAMETERS                     F1 Score             Time     No      \n",
      "default                             1.0                  0.7      24      \n"
     ]
    },
    {
     "name": "stderr",
     "output_type": "stream",
     "text": [
      "100%|██████████| 50/50 [00:18<00:00,  2.63it/s]\n"
     ]
    },
    {
     "name": "stdout",
     "output_type": "stream",
     "text": [
      "ACK\n",
      "HYPERPARAMETERS                     F1 Score             Time     No      \n",
      "default                             0.49670078103959076  0.741    24      \n"
     ]
    },
    {
     "name": "stderr",
     "output_type": "stream",
     "text": [
      "100%|██████████| 50/50 [00:20<00:00,  2.41it/s]\n"
     ]
    },
    {
     "name": "stdout",
     "output_type": "stream",
     "text": [
      "UDP\n",
      "HYPERPARAMETERS                     F1 Score             Time     No      \n",
      "default                             0.046623720076876145 3.181    24      \n"
     ]
    },
    {
     "name": "stderr",
     "output_type": "stream",
     "text": [
      "100%|██████████| 50/50 [03:51<00:00,  4.63s/it]\n"
     ]
    },
    {
     "name": "stdout",
     "output_type": "stream",
     "text": [
      "ARP\n",
      "HYPERPARAMETERS                     F1 Score             Time     No      \n",
      "default                             0.9637880501443797   0.836    24      \n"
     ]
    },
    {
     "name": "stderr",
     "output_type": "stream",
     "text": [
      "100%|██████████| 50/50 [00:14<00:00,  3.53it/s]\n"
     ]
    },
    {
     "name": "stdout",
     "output_type": "stream",
     "text": [
      "SP\n",
      "HYPERPARAMETERS                     F1 Score             Time     No      \n",
      "default                             1.0                  0.593    24      \n"
     ]
    },
    {
     "name": "stderr",
     "output_type": "stream",
     "text": [
      "100%|██████████| 50/50 [00:19<00:00,  2.53it/s]\n"
     ]
    },
    {
     "name": "stdout",
     "output_type": "stream",
     "text": [
      "BF\n",
      "HYPERPARAMETERS                     F1 Score             Time     No      \n",
      "default                             0.6701335598388362   4.622    24      \n"
     ]
    },
    {
     "name": "stderr",
     "output_type": "stream",
     "text": [
      "100%|██████████| 50/50 [03:31<00:00,  4.23s/it]\n"
     ]
    },
    {
     "name": "stdout",
     "output_type": "stream",
     "text": [
      "OS\n",
      "HYPERPARAMETERS                     F1 Score             Time     No      \n",
      "default                             0.8573114634373856   1.896    24      \n"
     ]
    },
    {
     "name": "stderr",
     "output_type": "stream",
     "text": [
      "100%|██████████| 50/50 [01:08<00:00,  1.38s/it]\n"
     ]
    },
    {
     "name": "stdout",
     "output_type": "stream",
     "text": [
      "SCHD\n",
      "HYPERPARAMETERS                     F1 Score             Time     No      \n",
      "default                             0.9876450359316712   0.368    24      \n"
     ]
    },
    {
     "name": "stderr",
     "output_type": "stream",
     "text": [
      "100%|██████████| 50/50 [00:13<00:00,  3.62it/s]\n"
     ]
    },
    {
     "name": "stdout",
     "output_type": "stream",
     "text": [
      "MHDis\n",
      "HYPERPARAMETERS                     F1 Score             Time     No      \n",
      "default                             0.526428294886419    0.755    24      \n"
     ]
    },
    {
     "name": "stderr",
     "output_type": "stream",
     "text": [
      "100%|██████████| 50/50 [00:30<00:00,  1.65it/s]\n"
     ]
    },
    {
     "name": "stdout",
     "output_type": "stream",
     "text": [
      "    criterion      max_depth    max_features    min_samples_split         F1          Std    Time    No  Attack\n",
      "--  -----------  -----------  --------------  -------------------  ---------  -----------  ------  ----  --------\n",
      " 0  gini                  24              20                    8  0.994223   3.87425e-05   1.818    32  SYN\n",
      " 1  entropy                2               7                    9  1          0             0.411     0  HTTP\n",
      " 2  entropy                1              11                    2  0.496701   0             0.411     5  ACK\n",
      " 3  gini                   4               1                    2  0.0506277  0.0201468     3.232    48  UDP\n",
      " 4  gini                  32              31                    2  0.965399   0.00464241    0.225    49  ARP\n",
      " 5  gini                   2              27                    7  1          0             0.375    16  SP\n",
      " 6  gini                  20               7                    7  0.6642     0.130705      5.652    20  BF\n",
      " 7  gini                   9              31                    5  0.909145   0.0258157     1.626    18  OS\n",
      " 8  gini                   8              17                    7  1          0             0.254    34  SCHD\n",
      " 9  entropy               19              29                    2  0.535598   0.00143383    0.764    19  MHDis\n"
     ]
    }
   ],
   "source": [
    "lines=[['criterion', 'max_depth', 'max_features', 'min_samples_split', \"F1\",\"Std\",\"Time\",\"No\",\"Attack\"]]\n",
    "\n",
    "for j in file_list:\n",
    "    print(j)\n",
    "    df=pd.read_csv(file_list[j][0],usecols=feature_list[j]) \n",
    "    X_train = df.iloc[:,0:-1]\n",
    "    df['Label'] = df['Label'].astype('category')\n",
    "    y_train=df['Label'].cat.codes  \n",
    "\n",
    "    df=pd.read_csv(file_list[j][1],usecols=feature_list[j]) \n",
    "    X_test = df.iloc[:,0:-1]\n",
    "    df['Label'] = df['Label'].astype('category')\n",
    "    y_test=df['Label'].cat.codes  \n",
    "    \n",
    "    X= np.concatenate([X_train, X_test])\n",
    "    test_fold = [-1 for _ in range(X_train.shape[0])] + [0 for _ in range(X_test.shape[0])]\n",
    "    y = np.concatenate([y_train, y_test])\n",
    "    ps = PredefinedSplit(test_fold)\n",
    "    \n",
    "    print ('%-35s %-20s %-8s %-8s' % (\"HYPERPARAMETERS\",\"F1 Score\", \"Time\", \"No\"))\n",
    "\n",
    "    nfolds=10\n",
    "    param_grid = { 'criterion':['gini','entropy'],\n",
    "                      \"max_depth\":np.linspace(1, 32, 32, endpoint=True).astype(int),\n",
    "                     \"min_samples_split\": sp_randint(2,10),#uniform(0.1,1 ),\n",
    "                        # \"min_samples_leafs\" : np.linspace(0.1, 0.5, 5, endpoint=True)\n",
    "                        \"max_features\" : sp_randint(1,X_train.shape[1])}\n",
    "\n",
    "    second=time()\n",
    "    f1=[]\n",
    "    clf=DecisionTreeClassifier()\n",
    "    for ii in range(25):\n",
    "        clf.fit(X_train, y_train)\n",
    "        predict =clf.predict(X_test)\n",
    "        f1.append(sklearn.metrics.f1_score(y_test, predict,average= \"macro\") )\n",
    "    f1=sum(f1)/len(f1)   \n",
    "    #if f1>0.76:\n",
    "    print('%-35s %-20s %-8s %-8s' % (\"default\",f1,round(time()-second,3),ii))\n",
    "    ######################################################################################################################\n",
    "    for i in tqdm(range(50)):\n",
    "        second=time()\n",
    "        a,b,clf=run_random_search(DecisionTreeClassifier(),param_grid,X,y)\n",
    "        f1=[]\n",
    "        for ii in range(10):\n",
    "            clf.fit(X_train, y_train)\n",
    "            predict =clf.predict(X_test)\n",
    "            f1.append(sklearn.metrics.f1_score(y_test, predict,average= \"macro\") )\n",
    "        f1_result=sum(f1)/len(f1)   \n",
    "        f1=np.array(f1)\n",
    "        stndtd=f1.std()\n",
    "        temp=list(a.values())\n",
    "        #print('%-90s %-20s %-8s %-8s' % (a,f1_result,round(time()-second,3),i))\n",
    "        temp=temp+[f1_result,stndtd,round(time()-second,3),i,j]\n",
    "        lines.append(temp)\n",
    "\n",
    "        #if f1>0.76:\n",
    "results = pd.DataFrame (lines[1:], columns = lines[0])\n",
    "results.to_csv(\"DT_HPO.csv\",index=False)\n",
    "\n",
    "final_parametres=[['criterion', 'max_depth', 'max_features', 'min_samples_split', \"F1\",\"Std\",\"Time\",\"No\",\"Attack\"]]\n",
    "for i in results[\"Attack\"].unique():\n",
    "    df=results[results[\"Attack\"]==i]\n",
    "    m=df[\"F1\"].max()\n",
    "    df=df[df[\"F1\"]==m]\n",
    "    m=df[\"max_depth\"].min()\n",
    "    df=df[df[\"max_depth\"]==m]  \n",
    "    final_parametres.append(list(df.values)[0])\n",
    "results = pd.DataFrame (final_parametres[1:], columns=  final_parametres[0])\n",
    "print (tabulate(results, headers=list(results.columns)))"
   ]
  },
  {
   "cell_type": "markdown",
   "metadata": {},
   "source": [
    "# LR"
   ]
  },
  {
   "cell_type": "code",
   "execution_count": 14,
   "metadata": {},
   "outputs": [
    {
     "name": "stdout",
     "output_type": "stream",
     "text": [
      "SYN\n",
      "default                             0.9229715197382704   2.102    0       \n"
     ]
    },
    {
     "name": "stderr",
     "output_type": "stream",
     "text": [
      "100%|██████████| 10/10 [05:18<00:00, 31.88s/it]\n"
     ]
    },
    {
     "name": "stdout",
     "output_type": "stream",
     "text": [
      "HTTP\n",
      "default                             0.3333333333333333   0.131    0       \n"
     ]
    },
    {
     "name": "stderr",
     "output_type": "stream",
     "text": [
      "100%|██████████| 10/10 [00:40<00:00,  4.04s/it]\n"
     ]
    },
    {
     "name": "stdout",
     "output_type": "stream",
     "text": [
      "ACK\n",
      "default                             0.49670078103959064  0.142    0       \n"
     ]
    },
    {
     "name": "stderr",
     "output_type": "stream",
     "text": [
      "100%|██████████| 10/10 [00:52<00:00,  5.24s/it]\n"
     ]
    },
    {
     "name": "stdout",
     "output_type": "stream",
     "text": [
      "UDP\n",
      "default                             3.432991814221741e-05 0.193    0       \n"
     ]
    },
    {
     "name": "stderr",
     "output_type": "stream",
     "text": [
      "100%|██████████| 10/10 [01:50<00:00, 11.05s/it]\n"
     ]
    },
    {
     "name": "stdout",
     "output_type": "stream",
     "text": [
      "ARP\n",
      "default                             0.9238331892826275   0.091    0       \n"
     ]
    },
    {
     "name": "stderr",
     "output_type": "stream",
     "text": [
      "100%|██████████| 10/10 [00:39<00:00,  3.94s/it]\n"
     ]
    },
    {
     "name": "stdout",
     "output_type": "stream",
     "text": [
      "SP\n",
      "default                             0.9204860056142987   0.201    0       \n"
     ]
    },
    {
     "name": "stderr",
     "output_type": "stream",
     "text": [
      "100%|██████████| 10/10 [00:38<00:00,  3.82s/it]\n"
     ]
    },
    {
     "name": "stdout",
     "output_type": "stream",
     "text": [
      "BF\n",
      "default                             0.3161659243587106   0.183    0       \n"
     ]
    },
    {
     "name": "stderr",
     "output_type": "stream",
     "text": [
      "100%|██████████| 10/10 [01:05<00:00,  6.52s/it]\n"
     ]
    },
    {
     "name": "stdout",
     "output_type": "stream",
     "text": [
      "OS\n",
      "default                             0.7108637184917509   0.18     0       \n"
     ]
    },
    {
     "name": "stderr",
     "output_type": "stream",
     "text": [
      "100%|██████████| 10/10 [02:50<00:00, 17.09s/it]\n"
     ]
    },
    {
     "name": "stdout",
     "output_type": "stream",
     "text": [
      "SCHD\n",
      "default                             0.7975432319618366   0.259    0       \n"
     ]
    },
    {
     "name": "stderr",
     "output_type": "stream",
     "text": [
      "100%|██████████| 10/10 [00:49<00:00,  4.97s/it]\n"
     ]
    },
    {
     "name": "stdout",
     "output_type": "stream",
     "text": [
      "MHDis\n",
      "default                             0.363789939490434    0.096    0       \n"
     ]
    },
    {
     "name": "stderr",
     "output_type": "stream",
     "text": [
      "100%|██████████| 10/10 [00:43<00:00,  4.39s/it]"
     ]
    },
    {
     "name": "stdout",
     "output_type": "stream",
     "text": [
      "               C  penalty    Solver              F1          Std    Time    No  Attack\n",
      "--  ------------  ---------  ---------  -----------  -----------  ------  ----  --------\n",
      " 0   0.285136     l2         newton-cg  0.95947      1.11022e-16  44.205     0  SYN\n",
      " 1   0.710229     l2         newton-cg  0.95947      1.11022e-16  35.425     1  SYN\n",
      " 2   0.00932418   l2         lbfgs      0.94789      0            11.246     2  SYN\n",
      " 3   2.65609e-05  l2         newton-cg  0.940047     1.11022e-16  40.809     3  SYN\n",
      " 4   0.213318     l2         newton-cg  0.95947      1.11022e-16  39.799     4  SYN\n",
      " 5  39.7795       l2         newton-cg  0.964859     0            44.008     5  SYN\n",
      " 6   0.00559524   l2         liblinear  0.837293     0             5.18      6  SYN\n",
      " 7   0.034284     l2         newton-cg  0.95947      1.11022e-16  34.997     7  SYN\n",
      " 8   7.00727e-05  l2         lbfgs      0.953145     0            22.909     8  SYN\n",
      " 9   0.0125401    l2         newton-cg  0.946673     0            40.207     9  SYN\n",
      "10  15.1125       l2         liblinear  0.333333     0             0.981     0  HTTP\n",
      "11   0.00029785   l2         liblinear  0.333333     0             0.278     1  HTTP\n",
      "12   0.00787145   l2         liblinear  0.333333     0             1.977     2  HTTP\n",
      "13   0.261723     l2         newton-cg  1            0             7.096     3  HTTP\n",
      "14  25.0849       l2         lbfgs      0.333333     0             3.121     4  HTTP\n",
      "15   2.69935      l2         lbfgs      0.333333     0             2.277     5  HTTP\n",
      "16   0.109432     l2         newton-cg  1            0             5.581     6  HTTP\n",
      "17   0.00668453   l2         newton-cg  1            0             8.752     7  HTTP\n",
      "18  14.9632       l2         newton-cg  1            0             4.666     8  HTTP\n",
      "19  14.5715       l2         newton-cg  1            0             5.647     9  HTTP\n",
      "20   0.0458038    l2         liblinear  0.496701     0             2.137     0  ACK\n",
      "21   0.127571     l2         newton-cg  0.496701     0             8.553     1  ACK\n",
      "22   7.76469      l2         liblinear  0.496701     0             1.195     2  ACK\n",
      "23   0.00953629   l2         newton-cg  0.496701     0             9.86      3  ACK\n",
      "24   0.000923592  l2         newton-cg  0.496701     0             9.344     4  ACK\n",
      "25  22.89         l2         lbfgs      0.496701     0             3.757     5  ACK\n",
      "26   0.0880594    l2         liblinear  0.496701     0             0.372     6  ACK\n",
      "27   2.24988e-05  l2         newton-cg  0.496701     0            14.05      7  ACK\n",
      "28   1.57535      l2         liblinear  0.496701     0             1.194     8  ACK\n",
      "29   0.206971     l2         liblinear  0.496701     0             1.918     9  ACK\n",
      "30   0.000865444  l2         newton-cg  3.43299e-05  0            22.316     0  UDP\n",
      "31   1.26882      l2         newton-cg  3.43299e-05  0            20.3       1  UDP\n",
      "32  12.6617       l2         newton-cg  3.43299e-05  0            21.333     2  UDP\n",
      "33   8.00686e-05  l2         lbfgs      3.43299e-05  0             4.403     3  UDP\n",
      "34   0.0212245    l2         liblinear  3.43299e-05  0             3.763     4  UDP\n",
      "35   8.59561e-05  l2         lbfgs      3.43299e-05  0             4.641     5  UDP\n",
      "36   0.162684     l2         newton-cg  3.43299e-05  0            22.422     6  UDP\n",
      "37   0.0273605    l2         liblinear  3.43299e-05  0             4.854     7  UDP\n",
      "38   0.00911496   l2         lbfgs      3.43299e-05  0             3.033     8  UDP\n",
      "39   7.06252e-05  l2         liblinear  3.43299e-05  0             3.37      9  UDP\n",
      "40   0.0164555    l2         newton-cg  0.936777     1.11022e-16   8.635     0  ARP\n",
      "41   0.00154754   l2         newton-cg  0.931541     0             6.355     1  ARP\n",
      "42   0.0031663    l2         liblinear  0.941205     1.11022e-16   2.431     2  ARP\n",
      "43   0.0247948    l2         liblinear  0.936269     1.11022e-16   3.35      3  ARP\n",
      "44   0.382522     l2         liblinear  0.941205     1.11022e-16   2.465     4  ARP\n",
      "45   0.0177594    l2         liblinear  0.94384      0             3.041     5  ARP\n",
      "46   0.311079     l2         newton-cg  0.934163     0             6.985     6  ARP\n",
      "47   2.61809e-05  l2         liblinear  0.941205     1.11022e-16   1.86      7  ARP\n",
      "48   0.0297637    l2         liblinear  0.931541     0             1.659     8  ARP\n",
      "49   0.612833     l2         liblinear  0.938734     0             2.63      9  ARP\n",
      "50  95.3856       l2         liblinear  0.997395     0             1.965     0  SP\n",
      "51   4.21163      l2         newton-cg  0.938253     1.11022e-16   6.736     1  SP\n",
      "52   0.00358175   l2         liblinear  0.929502     1.11022e-16   1.119     2  SP\n",
      "53  10.0492       l2         lbfgs      0.942532     0             4.812     3  SP\n",
      "54  23.3319       l2         liblinear  0.942532     0             3.263     4  SP\n",
      "55   0.000160576  l2         newton-cg  0.931714     0             5.53      5  SP\n",
      "56   0.000186569  l2         lbfgs      0.942532     0             3.565     6  SP\n",
      "57  17.3254       l2         liblinear  0.997395     0             1.978     7  SP\n",
      "58  69.0431       l2         lbfgs      0.902823     0             3.806     8  SP\n",
      "59   0.00354085   l2         lbfgs      0.942532     0             5.401     9  SP\n",
      "60  19.9399       l2         liblinear  0.316166     0            11.748     0  BF\n",
      "61   0.000132483  l2         lbfgs      0.316166     0             5.708     1  BF\n",
      "62   2.99802      l2         lbfgs      0.316166     0             5.355     2  BF\n",
      "63   0.179617     l2         lbfgs      0.316221     0             5.68      3  BF\n",
      "64   0.0127482    l2         liblinear  0.316166     0             7.389     4  BF\n",
      "65   0.00536358   l2         liblinear  0.316166     0             6.709     5  BF\n",
      "66   4.78125e-05  l2         lbfgs      0.316199     0             4.547     6  BF\n",
      "67   4.62126      l2         lbfgs      0.316166     0             5.365     7  BF\n",
      "68   1.22947e-05  l2         lbfgs      0.316177     0             6.186     8  BF\n",
      "69   0.0246296    l2         lbfgs      0.316166     0             6.446     9  BF\n",
      "70  11.1          l2         newton-cg  0.749323     0            21.253     0  OS\n",
      "71  64.9075       l2         newton-cg  0.75526      0            17.559     1  OS\n",
      "72   0.00891705   l2         newton-cg  0.755138     0            20.017     2  OS\n",
      "73  39.1662       l2         newton-cg  0.755276     0            18.347     3  OS\n",
      "74   0.0174231    l2         newton-cg  0.755784     0            23.708     4  OS\n",
      "75  75.0716       l2         newton-cg  0.752118     0            13.25      5  OS\n",
      "76   0.0608095    l2         lbfgs      0.704591     0             2.514     6  OS\n",
      "77   0.00317919   l2         newton-cg  0.751518     0            15.018     7  OS\n",
      "78   0.301671     l2         newton-cg  0.747586     0            19.079     8  OS\n",
      "79   0.120953     l2         newton-cg  0.75387      0            20.159     9  OS\n",
      "80   0.0331973    l2         newton-cg  0.970687     0             4.982     0  SCHD\n",
      "81   0.00343143   l2         lbfgs      0.807934     1.11022e-16   2.056     1  SCHD\n",
      "82   0.000132745  l2         newton-cg  0.957812     1.11022e-16   4.736     2  SCHD\n",
      "83  43.5861       l2         newton-cg  0.938981     0             4.406     3  SCHD\n",
      "84   1.40394      l2         newton-cg  0.966744     0             6.958     4  SCHD\n",
      "85   3.60996      l2         newton-cg  0.957812     1.11022e-16   6.398     5  SCHD\n",
      "86   0.0162805    l2         newton-cg  0.95843      0             6.163     6  SCHD\n",
      "87   0.00125446   l2         newton-cg  0.938981     0             7.664     7  SCHD\n",
      "88   7.10193e-05  l2         newton-cg  0.938981     0             4.551     8  SCHD\n",
      "89   0.00199638   l2         lbfgs      0.812186     0             1.739     9  SCHD\n",
      "90   8.93968e-05  l2         liblinear  0.412242     0             2.526     0  MHDis\n",
      "91   0.897466     l2         newton-cg  0.412242     0             6.365     1  MHDis\n",
      "92   2.5464       l2         newton-cg  0.412242     0             6.194     2  MHDis\n",
      "93   0.0571382    l2         lbfgs      0.435362     0             2.901     3  MHDis\n",
      "94   2.35357e-05  l2         newton-cg  0.411808     0             6.526     4  MHDis\n",
      "95  24.527        l2         lbfgs      0.423559     0             2.558     5  MHDis\n",
      "96   0.570663     l2         lbfgs      0.446262     5.55112e-17   2.424     6  MHDis\n",
      "97   5.77094      l2         newton-cg  0.412242     0             5.845     7  MHDis\n",
      "98  14.3589       l2         lbfgs      0.430085     0             2.264     8  MHDis\n",
      "99   0.000103686  l2         newton-cg  0.412676     5.55112e-17   6.264     9  MHDis\n",
      "               C  penalty    Solver              F1          Std    Time    No  Attack\n",
      "--  ------------  ---------  ---------  -----------  -----------  ------  ----  --------\n",
      " 0  39.7795       l2         newton-cg  0.964859     0            44.008     5  SYN\n",
      " 1   0.261723     l2         newton-cg  1            0             7.096     3  HTTP\n",
      " 2   0.0458038    l2         liblinear  0.496701     0             2.137     0  ACK\n",
      " 3   0.000865444  l2         newton-cg  3.43299e-05  0            22.316     0  UDP\n",
      " 4   0.0177594    l2         liblinear  0.94384      0             3.041     5  ARP\n",
      " 5  95.3856       l2         liblinear  0.997395     0             1.965     0  SP\n",
      " 6   0.179617     l2         lbfgs      0.316221     0             5.68      3  BF\n",
      " 7   0.0174231    l2         newton-cg  0.755784     0            23.708     4  OS\n",
      " 8   0.0331973    l2         newton-cg  0.970687     0             4.982     0  SCHD\n",
      " 9   0.570663     l2         lbfgs      0.446262     5.55112e-17   2.424     6  MHDis\n"
     ]
    },
    {
     "name": "stderr",
     "output_type": "stream",
     "text": [
      "\n"
     ]
    }
   ],
   "source": [
    "from scipy.stats import loguniform\n",
    "from sklearn.linear_model import LogisticRegression\n",
    "lines=[[\"C\",'penalty','Solver',  \"F1\",\"Std\",\"Time\",\"No\",\"Attack\"]]\n",
    "for j in file_list:\n",
    "    print(j)\n",
    "    \n",
    "    df=pd.read_csv(file_list[j][0],usecols=feature_list[j]) \n",
    "    X_train = df.iloc[:,0:-1]\n",
    "    df['Label'] = df['Label'].astype('category')\n",
    "    y_train=df['Label'].cat.codes  \n",
    "\n",
    "    df=pd.read_csv(file_list[j][1],usecols=feature_list[j]) \n",
    "    X_test = df.iloc[:,0:-1]\n",
    "    df['Label'] = df['Label'].astype('category')\n",
    "    y_test=df['Label'].cat.codes  \n",
    "\n",
    "    X_train = X_train.dropna()\n",
    "    y_train = y_train[X_train.index]\n",
    "    X_test = X_test.dropna()\n",
    "    y_test = y_test[X_test.index]\n",
    "    \n",
    "    X= np.concatenate([X_train, X_test])\n",
    "    test_fold = [-1 for _ in range(X_train.shape[0])] + [0 for _ in range(X_test.shape[0])]\n",
    "    y = np.concatenate([y_train, y_test])\n",
    "    ps = PredefinedSplit(test_fold)\n",
    "    \n",
    "    second=time()\n",
    "\n",
    "    param_grid = {\n",
    "     'solver': ['newton-cg', 'lbfgs', 'liblinear'],\n",
    "    'penalty' : ['none', 'l1', 'l2', 'elasticnet'],\n",
    "    'C' : loguniform(1e-5, 100)\n",
    "        }\n",
    "    \n",
    "    second=time()\n",
    "    f1=[]\n",
    "    clf=LogisticRegression()\n",
    "    for ii in range(1):\n",
    "        clf.fit(X_train, y_train)\n",
    "        predict =clf.predict(X_test)\n",
    "        f1.append(sklearn.metrics.f1_score(y_test, predict,average= \"macro\") )\n",
    "    f1=sum(f1)/len(f1)   \n",
    "    #if f1>0.76:\n",
    "    print('%-35s %-20s %-8s %-8s' % (\"default\",f1,round(time()-second,3),ii))\n",
    "    ######################################################################################################################\n",
    "    for i in tqdm(range(10)):\n",
    "        second=time()\n",
    "        a,b,clf=run_random_search(LogisticRegression(),param_grid,X,y)\n",
    "        f1=[]\n",
    "        for ii in range(5):\n",
    "            clf.fit(X_train, y_train)\n",
    "            predict =clf.predict(X_test)\n",
    "            f1.append(sklearn.metrics.f1_score(y_test, predict,average= \"macro\") )\n",
    "        f1_result=sum(f1)/len(f1)   \n",
    "        f1=np.array(f1)\n",
    "        stndtd=f1.std()\n",
    "        temp=list(a.values())\n",
    "        #print('%-90s %-20s %-8s %-8s' % (a,f1_result,round(time()-second,3),i))\n",
    "        temp=temp+[f1_result,stndtd,round(time()-second,3),i,j]\n",
    "        lines.append(temp)\n",
    "\n",
    "results = pd.DataFrame (lines[1:], columns = lines[0])\n",
    "results.to_csv(\"LR_HPO.csv\",index=False)\n",
    "print (tabulate(results, headers=list(results.columns)))\n",
    "    \n",
    "final_parametres=[[\"C\",'penalty','Solver',  \"F1\",\"Std\",\"Time\",\"No\",\"Attack\"]]\n",
    "for i in results[\"Attack\"].unique():\n",
    "    df=results[results[\"Attack\"]==i]\n",
    "    m=df[\"F1\"].max()\n",
    "    df=df[df[\"F1\"]==m]\n",
    "    final_parametres.append(list(df.values)[0])\n",
    "results = pd.DataFrame (final_parametres[1:], columns=  final_parametres[0])\n",
    "print (tabulate(results, headers=list(results.columns)))"
   ]
  }
 ],
 "metadata": {
  "kernelspec": {
   "display_name": "Python 3",
   "language": "python",
   "name": "python3"
  },
  "language_info": {
   "codemirror_mode": {
    "name": "ipython",
    "version": 3
   },
   "file_extension": ".py",
   "mimetype": "text/x-python",
   "name": "python",
   "nbconvert_exporter": "python",
   "pygments_lexer": "ipython3",
   "version": "3.12.2"
  }
 },
 "nbformat": 4,
 "nbformat_minor": 2
}
