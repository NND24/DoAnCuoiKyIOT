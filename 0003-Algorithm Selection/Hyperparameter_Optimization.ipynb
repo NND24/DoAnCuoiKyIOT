{
 "cells": [
  {
   "cell_type": "code",
   "execution_count": 154,
   "metadata": {},
   "outputs": [],
   "source": [
    "%matplotlib inline\n",
    "from scipy.stats import randint as sp_randint\n",
    "from scipy.stats import uniform\n",
    "from scipy.stats import uniform as sp_randFloat\n",
    "from sklearn import svm\n",
    "from tqdm import tqdm\n",
    "from sklearn.ensemble import GradientBoostingClassifier\n",
    "from sklearn.naive_bayes import CategoricalNB\n",
    "from sklearn.model_selection import GridSearchCV\n",
    "from sklearn.ensemble import RandomForestClassifier\n",
    "from sklearn.model_selection import GridSearchCV\n",
    "from sklearn.model_selection import RandomizedSearchCV\n",
    "from sklearn.model_selection import train_test_split\n",
    "from sklearn.neighbors import KNeighborsClassifier\n",
    "from sklearn.tree import DecisionTreeClassifier\n",
    "from time import time\n",
    "from tabulate import tabulate\n",
    "import numpy as np\n",
    "import pandas as pd\n",
    "import sklearn\n",
    "import warnings\n",
    "warnings.filterwarnings('ignore')\n",
    "import os\n",
    "from scipy.stats import loguniform\n",
    "from sklearn.linear_model import LogisticRegression"
   ]
  },
  {
   "cell_type": "code",
   "execution_count": 155,
   "metadata": {},
   "outputs": [],
   "source": [
    "from scipy.stats import randint as sp_randInt\n",
    "\n",
    "from sklearn.model_selection import GridSearchCV, PredefinedSplit\n",
    "from sklearn.metrics import make_scorer\n",
    "from scipy import sparse"
   ]
  },
  {
   "cell_type": "code",
   "execution_count": 156,
   "metadata": {},
   "outputs": [],
   "source": [
    "def folder(f_name): #this function creates a folder named \"attacks\" in the program directory.\n",
    "    try:\n",
    "        if not os.path.exists(f_name):\n",
    "            os.makedirs(f_name)\n",
    "    except OSError:\n",
    "        print (\"The folder could not be created!\")"
   ]
  },
  {
   "cell_type": "code",
   "execution_count": 157,
   "metadata": {},
   "outputs": [],
   "source": [
    "folder(\"models\")"
   ]
  },
  {
   "cell_type": "code",
   "execution_count": 158,
   "metadata": {},
   "outputs": [],
   "source": [
    "import json\n",
    "with open('GA_output_ET.json', 'r') as fp:\n",
    "    feature_list = json.load(fp)"
   ]
  },
  {
   "cell_type": "code",
   "execution_count": 159,
   "metadata": {},
   "outputs": [
    {
     "data": {
      "text/plain": [
       "{'SYN': ['Src Port',\n",
       "  'Tot Bwd Pkts',\n",
       "  'TotLen Fwd Pkts',\n",
       "  'Fwd Pkt Len Min',\n",
       "  'Fwd Pkt Len Mean',\n",
       "  'Bwd Pkt Len Mean',\n",
       "  'Bwd Pkt Len Std',\n",
       "  'Flow IAT Mean',\n",
       "  'Flow IAT Std',\n",
       "  'Flow IAT Max',\n",
       "  'Flow IAT Min',\n",
       "  'Fwd IAT Min',\n",
       "  'Bwd IAT Tot',\n",
       "  'Bwd IAT Mean',\n",
       "  'Bwd IAT Std',\n",
       "  'Bwd IAT Max',\n",
       "  'Bwd PSH Flags',\n",
       "  'Fwd Header Len',\n",
       "  'Fwd Pkts/s',\n",
       "  'Bwd Pkts/s',\n",
       "  'Pkt Len Mean',\n",
       "  'Pkt Len Var',\n",
       "  'FIN Flag Cnt',\n",
       "  'SYN Flag Cnt',\n",
       "  'ACK Flag Cnt',\n",
       "  'Bwd Seg Size Avg',\n",
       "  'Subflow Fwd Pkts',\n",
       "  'Subflow Fwd Byts',\n",
       "  'Subflow Bwd Pkts',\n",
       "  'Subflow Bwd Byts',\n",
       "  'Fwd Act Data Pkts',\n",
       "  'Active Max',\n",
       "  'Active Min',\n",
       "  'Idle Std',\n",
       "  'Idle Min',\n",
       "  'Label'],\n",
       " 'HTTP': ['Dst Port',\n",
       "  'Flow Duration',\n",
       "  'Flow IAT Mean',\n",
       "  'Fwd IAT Tot',\n",
       "  'Fwd IAT Mean',\n",
       "  'Fwd IAT Min',\n",
       "  'Fwd Pkts/s',\n",
       "  'FIN Flag Cnt',\n",
       "  'Label'],\n",
       " 'ACK': ['Flow IAT Mean', 'Label'],\n",
       " 'UDP': ['Src Port', 'Flow IAT Std', 'Fwd IAT Std', 'Label'],\n",
       " 'ARP': ['Src Port',\n",
       "  'Dst Port',\n",
       "  'Protocol',\n",
       "  'TotLen Fwd Pkts',\n",
       "  'TotLen Bwd Pkts',\n",
       "  'Fwd Pkt Len Min',\n",
       "  'Fwd Pkt Len Std',\n",
       "  'Bwd Pkt Len Max',\n",
       "  'Bwd Pkt Len Min',\n",
       "  'Bwd Pkt Len Mean',\n",
       "  'Bwd Pkt Len Std',\n",
       "  'Flow Pkts/s',\n",
       "  'Flow IAT Std',\n",
       "  'Flow IAT Max',\n",
       "  'Fwd IAT Tot',\n",
       "  'Fwd IAT Mean',\n",
       "  'Fwd IAT Std',\n",
       "  'Fwd IAT Max',\n",
       "  'Fwd IAT Min',\n",
       "  'Bwd IAT Mean',\n",
       "  'Bwd IAT Std',\n",
       "  'Bwd IAT Max',\n",
       "  'Bwd IAT Min',\n",
       "  'Bwd Header Len',\n",
       "  'Pkt Len Min',\n",
       "  'Pkt Len Max',\n",
       "  'Pkt Len Var',\n",
       "  'SYN Flag Cnt',\n",
       "  'PSH Flag Cnt',\n",
       "  'ACK Flag Cnt',\n",
       "  'Pkt Size Avg',\n",
       "  'Subflow Fwd Pkts',\n",
       "  'Subflow Fwd Byts',\n",
       "  'Subflow Bwd Pkts',\n",
       "  'Subflow Bwd Byts',\n",
       "  'Init Bwd Win Byts',\n",
       "  'Active Std',\n",
       "  'Idle Mean',\n",
       "  'Label'],\n",
       " 'SP': ['Protocol',\n",
       "  'Tot Bwd Pkts',\n",
       "  'Fwd Pkt Len Max',\n",
       "  'Fwd Pkt Len Min',\n",
       "  'Fwd Pkt Len Std',\n",
       "  'Bwd Pkt Len Max',\n",
       "  'Bwd Pkt Len Mean',\n",
       "  'Flow Byts/s',\n",
       "  'Flow IAT Std',\n",
       "  'Fwd IAT Tot',\n",
       "  'Fwd IAT Std',\n",
       "  'Fwd IAT Max',\n",
       "  'Fwd IAT Min',\n",
       "  'Fwd Pkts/s',\n",
       "  'Pkt Len Min',\n",
       "  'Pkt Len Max',\n",
       "  'Pkt Len Mean',\n",
       "  'Pkt Len Std',\n",
       "  'SYN Flag Cnt',\n",
       "  'Pkt Size Avg',\n",
       "  'Fwd Seg Size Avg',\n",
       "  'Subflow Fwd Pkts',\n",
       "  'Subflow Bwd Pkts',\n",
       "  'Init Bwd Win Byts',\n",
       "  'Fwd Act Data Pkts',\n",
       "  'Active Mean',\n",
       "  'Active Max',\n",
       "  'Active Min',\n",
       "  'Idle Mean',\n",
       "  'Idle Std',\n",
       "  'Idle Max',\n",
       "  'Label'],\n",
       " 'BF': ['TotLen Fwd Pkts',\n",
       "  'Flow IAT Std',\n",
       "  'Flow IAT Max',\n",
       "  'Fwd IAT Tot',\n",
       "  'Fwd IAT Std',\n",
       "  'Fwd IAT Max',\n",
       "  'Fwd IAT Min',\n",
       "  'Bwd IAT Min',\n",
       "  'Bwd Header Len',\n",
       "  'Label'],\n",
       " 'OS': ['Dst Port',\n",
       "  'Protocol',\n",
       "  'Tot Fwd Pkts',\n",
       "  'Tot Bwd Pkts',\n",
       "  'TotLen Fwd Pkts',\n",
       "  'TotLen Bwd Pkts',\n",
       "  'Fwd Pkt Len Max',\n",
       "  'Fwd Pkt Len Min',\n",
       "  'Fwd Pkt Len Mean',\n",
       "  'Fwd Pkt Len Std',\n",
       "  'Bwd Pkt Len Min',\n",
       "  'Bwd Pkt Len Mean',\n",
       "  'Flow IAT Mean',\n",
       "  'Flow IAT Std',\n",
       "  'Flow IAT Max',\n",
       "  'Fwd IAT Tot',\n",
       "  'Fwd IAT Mean',\n",
       "  'Fwd IAT Std',\n",
       "  'Fwd IAT Min',\n",
       "  'Bwd IAT Tot',\n",
       "  'Bwd IAT Mean',\n",
       "  'Bwd IAT Max',\n",
       "  'Pkt Len Min',\n",
       "  'Pkt Len Mean',\n",
       "  'Pkt Len Std',\n",
       "  'Pkt Len Var',\n",
       "  'SYN Flag Cnt',\n",
       "  'RST Flag Cnt',\n",
       "  'PSH Flag Cnt',\n",
       "  'Down/Up Ratio',\n",
       "  'Fwd Seg Size Avg',\n",
       "  'Subflow Fwd Pkts',\n",
       "  'Subflow Bwd Pkts',\n",
       "  'Subflow Bwd Byts',\n",
       "  'Init Bwd Win Byts',\n",
       "  'Active Mean',\n",
       "  'Active Max',\n",
       "  'Idle Mean',\n",
       "  'Idle Max',\n",
       "  'Label'],\n",
       " 'SCHD': ['Dst Port',\n",
       "  'Tot Fwd Pkts',\n",
       "  'Tot Bwd Pkts',\n",
       "  'TotLen Bwd Pkts',\n",
       "  'Fwd Pkt Len Min',\n",
       "  'Bwd Pkt Len Max',\n",
       "  'Bwd Pkt Len Min',\n",
       "  'Bwd Pkt Len Mean',\n",
       "  'Flow IAT Mean',\n",
       "  'Flow IAT Std',\n",
       "  'Flow IAT Max',\n",
       "  'Flow IAT Min',\n",
       "  'Fwd IAT Mean',\n",
       "  'Fwd IAT Std',\n",
       "  'Fwd IAT Max',\n",
       "  'Bwd IAT Mean',\n",
       "  'Bwd PSH Flags',\n",
       "  'Bwd Header Len',\n",
       "  'Fwd Pkts/s',\n",
       "  'Bwd Pkts/s',\n",
       "  'Pkt Len Min',\n",
       "  'Pkt Len Max',\n",
       "  'Pkt Len Mean',\n",
       "  'Pkt Len Var',\n",
       "  'FIN Flag Cnt',\n",
       "  'SYN Flag Cnt',\n",
       "  'RST Flag Cnt',\n",
       "  'PSH Flag Cnt',\n",
       "  'Down/Up Ratio',\n",
       "  'Fwd Seg Size Avg',\n",
       "  'Bwd Seg Size Avg',\n",
       "  'Subflow Fwd Pkts',\n",
       "  'Subflow Fwd Byts',\n",
       "  'Subflow Bwd Byts',\n",
       "  'Init Bwd Win Byts',\n",
       "  'Fwd Act Data Pkts',\n",
       "  'Active Min',\n",
       "  'Idle Mean',\n",
       "  'Idle Std',\n",
       "  'Idle Max',\n",
       "  'Label'],\n",
       " 'MHDis': ['Src Port',\n",
       "  'Dst Port',\n",
       "  'Flow Duration',\n",
       "  'Tot Fwd Pkts',\n",
       "  'Tot Bwd Pkts',\n",
       "  'TotLen Bwd Pkts',\n",
       "  'Fwd Pkt Len Std',\n",
       "  'Flow Pkts/s',\n",
       "  'Flow IAT Min',\n",
       "  'Fwd IAT Std',\n",
       "  'Fwd IAT Max',\n",
       "  'Bwd IAT Min',\n",
       "  'Fwd Header Len',\n",
       "  'Bwd Header Len',\n",
       "  'Fwd Pkts/s',\n",
       "  'Pkt Len Mean',\n",
       "  'Pkt Len Var',\n",
       "  'Pkt Size Avg',\n",
       "  'Fwd Seg Size Avg',\n",
       "  'Bwd Seg Size Avg',\n",
       "  'Subflow Fwd Pkts',\n",
       "  'Subflow Fwd Byts',\n",
       "  'Subflow Bwd Pkts',\n",
       "  'Subflow Bwd Byts',\n",
       "  'Init Bwd Win Byts',\n",
       "  'Fwd Act Data Pkts',\n",
       "  'Active Max',\n",
       "  'Active Min',\n",
       "  'Idle Mean',\n",
       "  'Idle Std',\n",
       "  'Idle Max',\n",
       "  'Label']}"
      ]
     },
     "execution_count": 159,
     "metadata": {},
     "output_type": "execute_result"
    }
   ],
   "source": [
    "feature_list"
   ]
  },
  {
   "cell_type": "code",
   "execution_count": 160,
   "metadata": {},
   "outputs": [],
   "source": [
    "file_list={\n",
    "'SYN': ['../csvs\\\\dos-synflooding-1-dec.pcap_Flow.csv', '../csvs\\\\dos-synflooding-6-dec.pcap_Flow.csv'],\n",
    "'HTTP': ['../csvs\\\\mirai-httpflooding-4-dec.pcap_Flow.csv', '../csvs\\\\http-flood -maze.csv'],\n",
    "'ACK': ['../csvs\\\\mirai-ackflooding-4-dec.pcap_Flow.csv', '../csvs\\\\mirai-ackflooding-2-dec.pcap_Flow.csv'],\n",
    "'UDP': ['../csvs\\\\mirai-udpflooding-4-dec.pcap_Flow.csv', '../csvs\\\\mirai-udpflooding-2-dec.pcap_Flow.csv'],\n",
    "'ARP': ['../csvs\\\\mitm-arpspoofing-6-dec.pcap_Flow.csv', '../csvs\\\\mitm-arpspoofing-5-dec.pcap_Flow.csv'],\n",
    "'SP': ['../csvs\\\\scan-hostport-3-dec.pcap_Flow.csv', '../csvs\\\\Edge-Port Scanning attack.pcap_Flow.csv'],\n",
    "'BF': ['../csvs\\\\mirai-hostbruteforce-5-dec.pcap_Flow.csv','../csvs\\\\mirai-hostbruteforce-3-dec.pcap_Flow.csv'],\n",
    "'OS': ['../csvs\\\\scan-portos-3-dec.pcap_Flow.csv', '../csvs\\\\BoT-IoT_OSScan.csv'],\n",
    "'SCHD': ['../csvs\\\\scan-hostport-3-dec.pcap_Flow.csv', '../csvs\\\\scan-hostport-5-dec.pcap_Flow.csv'],\n",
    "'MHDis': ['../csvs\\\\mirai-hostbruteforce-3-dec.pcap_Flow.csv', '../csvs\\\\mirai-hostbruteforce-5-dec.pcap_Flow.csv']}"
   ]
  },
  {
   "cell_type": "code",
   "execution_count": 161,
   "metadata": {},
   "outputs": [],
   "source": [
    "def run_random_search(model, params, x_train, y_train):\n",
    "    #grid = GridSearchCV(model, params, cv = ps, n_jobs = -1, scoring = score, verbose = 0, refit = False)\n",
    "    grid =RandomizedSearchCV(model, param_grid, cv=ps,scoring = 'f1_macro')\n",
    "    grid.fit(x_train, y_train)\n",
    "    return (grid.best_params_, round(grid.best_score_,8),grid.best_estimator_)"
   ]
  },
  {
   "cell_type": "code",
   "execution_count": 162,
   "metadata": {},
   "outputs": [],
   "source": [
    "def find_the_way(path,file_format,con=\"\"):\n",
    "    files_add = []\n",
    "    # r=root, d=directories, f = files\n",
    "    for r, d, f in os.walk(path):\n",
    "        for file in f:\n",
    "            if file_format in file:\n",
    "                if con in file:\n",
    "                    files_add.append(os.path.join(r, file))  \n",
    "            \n",
    "    return files_add"
   ]
  },
  {
   "cell_type": "code",
   "execution_count": 169,
   "metadata": {},
   "outputs": [
    {
     "name": "stdout",
     "output_type": "stream",
     "text": [
      "Detected Attacks:\n",
      " - Attack Type: SP, Probability: 1.0\n",
      " - Attack Type: OS, Probability: 1.0\n",
      " - Attack Type: SCHD, Probability: 1.0\n",
      " - Attack Type: MHDis, Probability: 1.0\n"
     ]
    }
   ],
   "source": [
    "import pandas as pd\n",
    "import joblib\n",
    "import os\n",
    "\n",
    "# Đường dẫn tới tệp JSON\n",
    "ATTACK_FEATURES_FILE = 'GA_output_ET.json'\n",
    "\n",
    "# Hàm tải attack_features từ tệp JSON\n",
    "def load_attack_features(json_file_path):\n",
    "    with open(json_file_path, 'r') as file:\n",
    "        attack_features = json.load(file)\n",
    "    return attack_features\n",
    "\n",
    "# Tải attack_features từ JSON\n",
    "attack_features = load_attack_features(ATTACK_FEATURES_FILE)\n",
    "\n",
    "model_paths =  {\n",
    "    'SYN': './models/DT_SYN_model.pkl',\n",
    "    'HTTP': './models/DT_HTTP_model.pkl',\n",
    "    'ACK': './models/DT_ACK_model.pkl',\n",
    "    'UDP': './models/DT_UDP_model.pkl',\n",
    "    'ARP': './models/DT_ARP_model.pkl',\n",
    "    'SP': './models/DT_SP_model.pkl',\n",
    "    'BF': './models/DT_BF_model.pkl',\n",
    "    'OS': './models/DT_OS_model.pkl',\n",
    "    'SCHD': './models/DT_SCHD_model.pkl',\n",
    "    'MHDis': './models/DT_MHDis_model.pkl'\n",
    "}\n",
    "\n",
    "# Hàm dự đoán kiểu tấn công\n",
    "def predict_attack(input_data):\n",
    "    results = []\n",
    "    for attack, model_path in model_paths.items():\n",
    "        # Tải mô hình và đặc trưng tương ứng\n",
    "        model = joblib.load(model_path)\n",
    "        features = attack_features[attack]\n",
    "        \n",
    "        # Lọc dữ liệu đầu vào theo đặc trưng\n",
    "        filtered_data = input_data[features[:-1]]  # Bỏ cột 'Label'\n",
    "        \n",
    "        # Dự đoán\n",
    "        predictions = model.predict(filtered_data)\n",
    "        probabilities = model.predict_proba(filtered_data)[:, 1]\n",
    "        \n",
    "        # Lưu kết quả\n",
    "        for pred, prob in zip(predictions, probabilities):\n",
    "            result = {\"Attack_Type\": attack, \"Prediction\": int(pred), \"Probability\": float(prob)}\n",
    "\n",
    "            if result not in results:\n",
    "                results.append(result)\n",
    "    \n",
    "    return results\n",
    "\n",
    "# Tổng hợp kết quả\n",
    "def summarize_results(results):\n",
    "    import pandas as pd\n",
    "    results_df = pd.DataFrame(results)\n",
    "    attack_predictions = results_df[results_df[\"Prediction\"] == 1]\n",
    "    \n",
    "    if not attack_predictions.empty:\n",
    "        # Trả về toàn bộ các kiểu tấn công được phát hiện\n",
    "        attack_predictions = attack_predictions.sort_values(by=\"Probability\", ascending=False)\n",
    "        return attack_predictions.to_dict(orient=\"records\")\n",
    "    else:\n",
    "        return []\n",
    "\n",
    "\n",
    "# Chạy chương trình\n",
    "if __name__ == \"__main__\":\n",
    "    # Tải dữ liệu đầu vào để dự đoán\n",
    "    test_data = pd.read_csv(\"./new_attack_data.csv\")\n",
    "    \n",
    "    # Dự đoán\n",
    "    results = predict_attack(test_data)\n",
    "    \n",
    "    # Tổng hợp kết quả\n",
    "    final_results = summarize_results(results)\n",
    "    \n",
    "    if final_results:\n",
    "        print(\"Detected Attacks:\")\n",
    "        for attack in final_results:\n",
    "            print(f\" - Attack Type: {attack['Attack_Type']}, Probability: {attack['Probability']}\")\n",
    "    else:\n",
    "        print(\"No attacks detected.\")\n"
   ]
  },
  {
   "cell_type": "code",
   "execution_count": 167,
   "metadata": {},
   "outputs": [
    {
     "name": "stdout",
     "output_type": "stream",
     "text": [
      "Training model for SYN attack\n",
      "Training completed for SYN with average F1: 0.9920774211121652\n",
      "Model saved as DT_SYN_model.pkl\n",
      "Training model for HTTP attack\n",
      "Training completed for HTTP with average F1: 1.0\n",
      "Model saved as DT_HTTP_model.pkl\n",
      "Training model for ACK attack\n",
      "Training completed for ACK with average F1: 0.9991569450604618\n",
      "Model saved as DT_ACK_model.pkl\n",
      "Training model for UDP attack\n",
      "Training completed for UDP with average F1: 1.0\n",
      "Model saved as DT_UDP_model.pkl\n",
      "Training model for ARP attack\n",
      "Training completed for ARP with average F1: 0.9610384671738221\n",
      "Model saved as DT_ARP_model.pkl\n",
      "Training model for SP attack\n",
      "Training completed for SP with average F1: 1.0\n",
      "Model saved as DT_SP_model.pkl\n",
      "Training model for BF attack\n",
      "Training completed for BF with average F1: 0.8216098452407635\n",
      "Model saved as DT_BF_model.pkl\n",
      "Training model for OS attack\n",
      "Training completed for OS with average F1: 0.9169560480928106\n",
      "Model saved as DT_OS_model.pkl\n",
      "Training model for SCHD attack\n",
      "Training completed for SCHD with average F1: 0.9887525309455576\n",
      "Model saved as DT_SCHD_model.pkl\n",
      "Training model for MHDis attack\n",
      "Training completed for MHDis with average F1: 0.9694013403979589\n",
      "Model saved as DT_MHDis_model.pkl\n"
     ]
    }
   ],
   "source": [
    "import joblib  # for saving models\n",
    "\n",
    "# Assume `results` is the DataFrame you are using to collect the training details\n",
    "\n",
    "# Loop over all attack types and train a model for each\n",
    "for attack_type in file_list:\n",
    "    print(f\"Training model for {attack_type} attack\")\n",
    "\n",
    "    # Load data for the current attack\n",
    "    df_train = pd.read_csv(file_list[attack_type][0], usecols=feature_list[attack_type])\n",
    "    X_train = df_train.iloc[:, 0:-1]\n",
    "    df_train['Label'] = df_train['Label'].astype('category')\n",
    "    y_train = df_train['Label'].cat.codes\n",
    "\n",
    "    df_test = pd.read_csv(file_list[attack_type][1], usecols=feature_list[attack_type])\n",
    "    X_test = df_test.iloc[:, 0:-1]\n",
    "    df_test['Label'] = df_test['Label'].astype('category')\n",
    "    y_test = df_test['Label'].cat.codes\n",
    "\n",
    "    X = np.concatenate([X_train, X_test])\n",
    "    test_fold = [-1 for _ in range(X_train.shape[0])] + [0 for _ in range(X_test.shape[0])]\n",
    "    y = np.concatenate([y_train, y_test])\n",
    "    ps = PredefinedSplit(test_fold)\n",
    "\n",
    "    # Hyperparameter tuning and model training\n",
    "    param_grid = {\n",
    "        'criterion': ['gini', 'entropy'],\n",
    "        'max_depth': np.linspace(1, 32, 32, endpoint=True).astype(int),\n",
    "        'min_samples_split': sp_randint(2, 10),\n",
    "        'max_features': sp_randint(1, X_train.shape[1])\n",
    "    }\n",
    "\n",
    "    second = time()\n",
    "    f1 = []\n",
    "    clf = DecisionTreeClassifier()\n",
    "\n",
    "    # Fit the model and calculate the F1 score\n",
    "    for ii in range(25):\n",
    "        clf.fit(X_train, y_train)\n",
    "        predict = clf.predict(X_test)\n",
    "        f1.append(sklearn.metrics.f1_score(y_test, predict, average=\"macro\"))\n",
    "    avg_f1 = sum(f1) / len(f1)\n",
    "\n",
    "    print(f\"Training completed for {attack_type} with average F1: {avg_f1}\")\n",
    "\n",
    "    # Save the trained model for each attack type\n",
    "    model_filename = f\"DT_{attack_type}_model.pkl\"\n",
    "    joblib.dump(clf, open(f'./models/{model_filename}', 'wb'))\n",
    "    print(f\"Model saved as {model_filename}\")\n"
   ]
  },
  {
   "cell_type": "markdown",
   "metadata": {},
   "source": [
    "# RandomizedSearchCV  DT"
   ]
  },
  {
   "cell_type": "code",
   "execution_count": 165,
   "metadata": {
    "scrolled": false
   },
   "outputs": [
    {
     "name": "stdout",
     "output_type": "stream",
     "text": [
      "SYN\n"
     ]
    },
    {
     "name": "stdout",
     "output_type": "stream",
     "text": [
      "HYPERPARAMETERS                     F1 Score             Time     No      \n",
      "default                             0.991818137395952    2.83     24      \n"
     ]
    },
    {
     "name": "stderr",
     "output_type": "stream",
     "text": [
      "100%|██████████| 50/50 [02:36<00:00,  3.13s/it]\n"
     ]
    },
    {
     "name": "stdout",
     "output_type": "stream",
     "text": [
      "HTTP\n",
      "HYPERPARAMETERS                     F1 Score             Time     No      \n",
      "default                             1.0                  0.738    24      \n"
     ]
    },
    {
     "name": "stderr",
     "output_type": "stream",
     "text": [
      "100%|██████████| 50/50 [00:22<00:00,  2.26it/s]\n"
     ]
    },
    {
     "name": "stdout",
     "output_type": "stream",
     "text": [
      "ACK\n",
      "HYPERPARAMETERS                     F1 Score             Time     No      \n",
      "default                             0.9991569450604618   0.4      24      \n"
     ]
    },
    {
     "name": "stderr",
     "output_type": "stream",
     "text": [
      "100%|██████████| 50/50 [00:16<00:00,  3.00it/s]\n"
     ]
    },
    {
     "name": "stdout",
     "output_type": "stream",
     "text": [
      "UDP\n",
      "HYPERPARAMETERS                     F1 Score             Time     No      \n",
      "default                             1.0                  0.344    24      \n"
     ]
    },
    {
     "name": "stderr",
     "output_type": "stream",
     "text": [
      "100%|██████████| 50/50 [00:11<00:00,  4.18it/s]\n"
     ]
    },
    {
     "name": "stdout",
     "output_type": "stream",
     "text": [
      "ARP\n",
      "HYPERPARAMETERS                     F1 Score             Time     No      \n",
      "default                             0.9607506179478835   0.545    24      \n"
     ]
    },
    {
     "name": "stderr",
     "output_type": "stream",
     "text": [
      "100%|██████████| 50/50 [00:15<00:00,  3.13it/s]\n"
     ]
    },
    {
     "name": "stdout",
     "output_type": "stream",
     "text": [
      "SP\n",
      "HYPERPARAMETERS                     F1 Score             Time     No      \n",
      "default                             1.0                  0.554    24      \n"
     ]
    },
    {
     "name": "stderr",
     "output_type": "stream",
     "text": [
      "100%|██████████| 50/50 [00:16<00:00,  3.02it/s]\n"
     ]
    },
    {
     "name": "stdout",
     "output_type": "stream",
     "text": [
      "BF\n",
      "HYPERPARAMETERS                     F1 Score             Time     No      \n",
      "default                             0.8219276465276752   0.327    24      \n"
     ]
    },
    {
     "name": "stderr",
     "output_type": "stream",
     "text": [
      "100%|██████████| 50/50 [00:21<00:00,  2.35it/s]\n"
     ]
    },
    {
     "name": "stdout",
     "output_type": "stream",
     "text": [
      "OS\n",
      "HYPERPARAMETERS                     F1 Score             Time     No      \n",
      "default                             0.9165296017673815   1.548    24      \n"
     ]
    },
    {
     "name": "stderr",
     "output_type": "stream",
     "text": [
      "100%|██████████| 50/50 [01:08<00:00,  1.37s/it]\n"
     ]
    },
    {
     "name": "stdout",
     "output_type": "stream",
     "text": [
      "SCHD\n",
      "HYPERPARAMETERS                     F1 Score             Time     No      \n",
      "default                             0.9827890906915157   0.291    24      \n"
     ]
    },
    {
     "name": "stderr",
     "output_type": "stream",
     "text": [
      "100%|██████████| 50/50 [00:10<00:00,  4.90it/s]\n"
     ]
    },
    {
     "name": "stdout",
     "output_type": "stream",
     "text": [
      "MHDis\n",
      "HYPERPARAMETERS                     F1 Score             Time     No      \n",
      "default                             0.969822440886506    0.725    24      \n"
     ]
    },
    {
     "name": "stderr",
     "output_type": "stream",
     "text": [
      "100%|██████████| 50/50 [00:19<00:00,  2.58it/s]"
     ]
    },
    {
     "name": "stdout",
     "output_type": "stream",
     "text": [
      "    criterion      max_depth    max_features    min_samples_split        F1          Std    Time    No  Attack\n",
      "--  -----------  -----------  --------------  -------------------  --------  -----------  ------  ----  --------\n",
      " 0  entropy                5              19                    5  0.99421   0             3.079    14  SYN\n",
      " 1  entropy                2               8                    2  1         0             0.419     2  HTTP\n",
      " 2  gini                  32               1                    2  0.998314  0             0.311    23  ACK\n",
      " 3  gini                   7               3                    3  1         0             0.223    37  UDP\n",
      " 4  entropy               14              24                    2  0.96792   0.0060254     0.337    34  ARP\n",
      " 5  gini                   2              30                    5  1         0             0.254    38  SP\n",
      " 6  gini                  23               9                    3  0.823944  0.00666371    0.426    35  BF\n",
      " 7  entropy                1              39                    7  0.92586   2.22045e-16   1.284     5  OS\n",
      " 8  entropy                6              40                    5  1         0             0.216    20  SCHD\n",
      " 9  gini                  28              29                    5  0.96997   0.00474783    0.545     2  MHDis\n"
     ]
    },
    {
     "name": "stderr",
     "output_type": "stream",
     "text": [
      "\n"
     ]
    }
   ],
   "source": [
    "from scipy.stats import randint\n",
    "lines=[['criterion', 'max_depth', 'max_features', 'min_samples_split', \"F1\",\"Std\",\"Time\",\"No\",\"Attack\"]]\n",
    "\n",
    "for j in file_list:\n",
    "    print(j)\n",
    "    df=pd.read_csv(file_list[j][0],usecols=feature_list[j]) \n",
    "    X_train = df.iloc[:,0:-1]\n",
    "    df['Label'] = df['Label'].astype('category')\n",
    "    y_train=df['Label'].cat.codes  \n",
    "\n",
    "    df=pd.read_csv(file_list[j][1],usecols=feature_list[j]) \n",
    "    X_test = df.iloc[:,0:-1]\n",
    "    df['Label'] = df['Label'].astype('category')\n",
    "    y_test=df['Label'].cat.codes  \n",
    "       \n",
    "    X= np.concatenate([X_train, X_test])\n",
    "    test_fold = [-1 for _ in range(X_train.shape[0])] + [0 for _ in range(X_test.shape[0])]\n",
    "    y = np.concatenate([y_train, y_test])\n",
    "    ps = PredefinedSplit(test_fold)\n",
    "        \n",
    "    print ('%-35s %-20s %-8s %-8s' % (\"HYPERPARAMETERS\",\"F1 Score\", \"Time\", \"No\"))\n",
    "\n",
    "    nfolds=10\n",
    "    param_grid = {\n",
    "        'criterion': ['gini', 'entropy'],\n",
    "        'max_depth': np.linspace(1, 32, 32, endpoint=True).astype(int),\n",
    "        'min_samples_split': randint(2, 10),\n",
    "        'max_features': randint(1, X_train.shape[1] + 1)  # Adding +1 to ensure scale is positive\n",
    "    }\n",
    "\n",
    "    second=time()\n",
    "    f1=[]\n",
    "    clf=DecisionTreeClassifier()\n",
    "    for ii in range(25):\n",
    "        clf.fit(X_train, y_train)\n",
    "        predict =clf.predict(X_test)\n",
    "        f1.append(sklearn.metrics.f1_score(y_test, predict,average= \"macro\") )\n",
    "    f1=sum(f1)/len(f1)   \n",
    "    #if f1>0.76:\n",
    "    print('%-35s %-20s %-8s %-8s' % (\"default\",f1,round(time()-second,3),ii))\n",
    "    ######################################################################################################################\n",
    "    for i in tqdm(range(50)):\n",
    "        second=time()\n",
    "        a,b,clf=run_random_search(DecisionTreeClassifier(),param_grid,X,y)\n",
    "        f1=[]\n",
    "        for ii in range(10):\n",
    "            clf.fit(X_train, y_train)\n",
    "            predict =clf.predict(X_test)\n",
    "            f1.append(sklearn.metrics.f1_score(y_test, predict,average= \"macro\") )\n",
    "        f1_result=sum(f1)/len(f1)   \n",
    "        f1=np.array(f1)\n",
    "        stndtd=f1.std()\n",
    "        temp=list(a.values())\n",
    "        #print('%-90s %-20s %-8s %-8s' % (a,f1_result,round(time()-second,3),i))\n",
    "        temp=temp+[f1_result,stndtd,round(time()-second,3),i,j]\n",
    "        lines.append(temp)\n",
    "\n",
    "        #if f1>0.76:\n",
    "results = pd.DataFrame (lines[1:], columns = lines[0])\n",
    "results.to_csv(\"DT_HPO.csv\",index=False)\n",
    "\n",
    "final_parametres=[['criterion', 'max_depth', 'max_features', 'min_samples_split', \"F1\",\"Std\",\"Time\",\"No\",\"Attack\"]]\n",
    "for i in results[\"Attack\"].unique():\n",
    "    df=results[results[\"Attack\"]==i]\n",
    "    m=df[\"F1\"].max()\n",
    "    df=df[df[\"F1\"]==m]\n",
    "    m=df[\"max_depth\"].min()\n",
    "    df=df[df[\"max_depth\"]==m]  \n",
    "    final_parametres.append(list(df.values)[0])\n",
    "results = pd.DataFrame (final_parametres[1:], columns=  final_parametres[0])\n",
    "print (tabulate(results, headers=list(results.columns)))"
   ]
  },
  {
   "cell_type": "markdown",
   "metadata": {},
   "source": [
    "# LR"
   ]
  },
  {
   "cell_type": "code",
   "execution_count": 166,
   "metadata": {},
   "outputs": [
    {
     "name": "stdout",
     "output_type": "stream",
     "text": [
      "SYN\n",
      "default                             0.9280132490952585   1.633    0       \n"
     ]
    },
    {
     "name": "stderr",
     "output_type": "stream",
     "text": [
      "100%|██████████| 10/10 [15:27<00:00, 92.75s/it]\n"
     ]
    },
    {
     "name": "stdout",
     "output_type": "stream",
     "text": [
      "HTTP\n",
      "default                             0.3333333333333333   0.092    0       \n"
     ]
    },
    {
     "name": "stderr",
     "output_type": "stream",
     "text": [
      "100%|██████████| 10/10 [00:51<00:00,  5.15s/it]\n"
     ]
    },
    {
     "name": "stdout",
     "output_type": "stream",
     "text": [
      "ACK\n",
      "default                             0.2909196067090804   0.021    0       \n"
     ]
    },
    {
     "name": "stderr",
     "output_type": "stream",
     "text": [
      "100%|██████████| 10/10 [00:18<00:00,  1.80s/it]\n"
     ]
    },
    {
     "name": "stdout",
     "output_type": "stream",
     "text": [
      "UDP\n",
      "default                             0.4931693989071038   0.044    0       \n"
     ]
    },
    {
     "name": "stderr",
     "output_type": "stream",
     "text": [
      "100%|██████████| 10/10 [00:10<00:00,  1.04s/it]\n"
     ]
    },
    {
     "name": "stdout",
     "output_type": "stream",
     "text": [
      "ARP\n",
      "default                             0.93078391563892     0.288    0       \n"
     ]
    },
    {
     "name": "stderr",
     "output_type": "stream",
     "text": [
      "100%|██████████| 10/10 [00:34<00:00,  3.40s/it]\n"
     ]
    },
    {
     "name": "stdout",
     "output_type": "stream",
     "text": [
      "SP\n",
      "default                             0.9802861269117935   0.242    0       \n"
     ]
    },
    {
     "name": "stderr",
     "output_type": "stream",
     "text": [
      "100%|██████████| 10/10 [00:32<00:00,  3.26s/it]\n"
     ]
    },
    {
     "name": "stdout",
     "output_type": "stream",
     "text": [
      "BF\n",
      "default                             0.46302467358511823  0.07     0       \n"
     ]
    },
    {
     "name": "stderr",
     "output_type": "stream",
     "text": [
      "100%|██████████| 10/10 [00:09<00:00,  1.10it/s]\n"
     ]
    },
    {
     "name": "stdout",
     "output_type": "stream",
     "text": [
      "OS\n",
      "default                             0.6711401983204647   0.165    0       \n"
     ]
    },
    {
     "name": "stderr",
     "output_type": "stream",
     "text": [
      "100%|██████████| 10/10 [04:52<00:00, 29.28s/it]\n"
     ]
    },
    {
     "name": "stdout",
     "output_type": "stream",
     "text": [
      "SCHD\n",
      "default                             0.8978659439606658   0.169    0       \n"
     ]
    },
    {
     "name": "stderr",
     "output_type": "stream",
     "text": [
      "100%|██████████| 10/10 [01:04<00:00,  6.46s/it]\n"
     ]
    },
    {
     "name": "stdout",
     "output_type": "stream",
     "text": [
      "MHDis\n",
      "default                             0.47672317687310195  0.176    0       \n"
     ]
    },
    {
     "name": "stderr",
     "output_type": "stream",
     "text": [
      "100%|██████████| 10/10 [01:04<00:00,  6.48s/it]"
     ]
    },
    {
     "name": "stdout",
     "output_type": "stream",
     "text": [
      "               C  penalty    Solver           F1          Std     Time    No  Attack\n",
      "--  ------------  ---------  ---------  --------  -----------  -------  ----  --------\n",
      " 0   0.233258     l2         lbfgs      0.970374  0             46.761     0  SYN\n",
      " 1   2.52723      l2         lbfgs      0.964028  0             21.53      1  SYN\n",
      " 2   3.50388      l1         liblinear  0.969665  0            195.088     2  SYN\n",
      " 3   1.9936e-05   l2         newton-cg  0.945397  0             74.021     3  SYN\n",
      " 4   0.0517194    l2         lbfgs      0.957531  0            112.746     4  SYN\n",
      " 5   0.261764     l2         newton-cg  0.953145  0            113.599     5  SYN\n",
      " 6   1.1593       l1         liblinear  0.969665  0            227.932     6  SYN\n",
      " 7   0.00232309   l2         lbfgs      0.964028  0             16.664     7  SYN\n",
      " 8   0.858753     l2         lbfgs      0.957531  0            105.92      8  SYN\n",
      " 9  44.1357       l2         lbfgs      0.924729  1.11022e-16   13.164     9  SYN\n",
      "10   0.0407033    l2         newton-cg  1         0              6.772     0  HTTP\n",
      "11   0.253089     l2         newton-cg  1         0              6.639     1  HTTP\n",
      "12   0.0780181    l2         newton-cg  1         0              4.061     2  HTTP\n",
      "13   0.284831     l2         newton-cg  1         0              4.431     3  HTTP\n",
      "14  92.8056       l2         newton-cg  1         0              4.333     4  HTTP\n",
      "15   0.000107578  l2         newton-cg  1         0              6.163     5  HTTP\n",
      "16  73.5147       l2         newton-cg  1         0              4.107     6  HTTP\n",
      "17   0.0106518    l2         newton-cg  1         0              5.321     7  HTTP\n",
      "18   0.00686252   l2         newton-cg  1         0              5.775     8  HTTP\n",
      "19   0.304496     l1         liblinear  1         0              3.86      9  HTTP\n",
      "20   0.00885815   l2         newton-cg  0.792558  0              4.147     0  ACK\n",
      "21   0.32928      l1         liblinear  0.79455   0              0.84      1  ACK\n",
      "22   0.316081     l2         newton-cg  0.792558  0              2.221     2  ACK\n",
      "23  12.6298       l1         liblinear  0.792957  0.000488233    1.553     3  ACK\n",
      "24   0.0471302    l1         liblinear  0.798137  0              0.444     4  ACK\n",
      "25   0.018075     l1         liblinear  0.807095  0.000386906    1.069     5  ACK\n",
      "26   1.16313e-05  l2         newton-cg  0.792558  0              2.206     6  ACK\n",
      "27   0.0155943    l1         liblinear  0.812474  0.000470284    0.163     7  ACK\n",
      "28   1.84574      l2         newton-cg  0.793555  0              2.96      8  ACK\n",
      "29  16.3431       l2         newton-cg  0.792558  0              2.407     9  ACK\n",
      "30   0.0425062    l2         liblinear  0.493169  5.55112e-17    0.459     0  UDP\n",
      "31   7.03645e-05  l2         lbfgs      0.493169  5.55112e-17    0.988     1  UDP\n",
      "32   0.000151463  l2         liblinear  0.493169  5.55112e-17    0.28      2  UDP\n",
      "33   0.467225     l2         newton-cg  0.493169  5.55112e-17    2.114     3  UDP\n",
      "34   0.000152245  l2         newton-cg  0.493169  5.55112e-17    1.928     4  UDP\n",
      "35   0.00301754   l2         newton-cg  0.493169  5.55112e-17    2.128     5  UDP\n",
      "36  31.4859       l2         lbfgs      0.493169  5.55112e-17    0.617     6  UDP\n",
      "37   0.0018493    l2         liblinear  0.493169  5.55112e-17    0.703     7  UDP\n",
      "38   0.0207706    l2         liblinear  0.493169  5.55112e-17    0.541     8  UDP\n",
      "39   1.26412e-05  l2         liblinear  0.493169  5.55112e-17    0.647     9  UDP\n",
      "40  75.7893       l2         liblinear  0.941368  0              5.249     0  ARP\n",
      "41   4.16204      l2         liblinear  0.943994  0              3.057     1  ARP\n",
      "42   0.000651576  l2         liblinear  0.938902  0              3.116     2  ARP\n",
      "43   0.000113742  l2         liblinear  0.938902  0              3.708     3  ARP\n",
      "44   0.522754     l1         liblinear  0.957248  0.00269947     2.489     4  ARP\n",
      "45   0.00209146   l2         liblinear  0.938902  0              1.154     5  ARP\n",
      "46   0.176293     l1         liblinear  0.961289  0.00200722     1.684     6  ARP\n",
      "47   0.00731041   l1         liblinear  0.944765  0.00159059     3.737     7  ARP\n",
      "48   0.000306432  l2         liblinear  0.936269  1.11022e-16    1.976     8  ARP\n",
      "49   0.0333726    l2         liblinear  0.938902  0              7.847     9  ARP\n",
      "50   0.000810692  l2         liblinear  0.997395  0              2.97      0  SP\n",
      "51   8.20218      l2         liblinear  0.997395  0              3.312     1  SP\n",
      "52   1.41416      l1         liblinear  0.980489  0.0138726      2.367     2  SP\n",
      "53   0.0117868    l2         liblinear  0.997395  0              2.62      3  SP\n",
      "54   2.42034e-05  l2         lbfgs      0.997395  0              5.505     4  SP\n",
      "55   2.17794e-05  l2         lbfgs      0.998266  0              3.983     5  SP\n",
      "56   0.000550712  l2         liblinear  0.997395  0              3.317     6  SP\n",
      "57   0.000235186  l2         liblinear  0.997395  0              2.71      7  SP\n",
      "58   0.000177325  l2         liblinear  0.997395  0              2.934     8  SP\n",
      "59   0.408966     l1         liblinear  0.97939   0.0135644      2.868     9  SP\n",
      "60   0.00395957   l2         liblinear  0.463025  0              0.638     0  BF\n",
      "61   0.0012493    l1         liblinear  0.465817  0              0.627     1  BF\n",
      "62   0.0310693    l2         liblinear  0.463025  0              1.102     2  BF\n",
      "63  16.7792       l2         lbfgs      0.463305  0              0.794     3  BF\n",
      "64   5.1226       l2         lbfgs      0.463305  0              1.411     4  BF\n",
      "65   0.0011067    l2         liblinear  0.465817  0              0.776     5  BF\n",
      "66   1.67183      l2         lbfgs      0.463586  0              1.449     6  BF\n",
      "67   0.107724     l2         lbfgs      0.463305  0              1.211     7  BF\n",
      "68   0.000880926  l1         liblinear  0.465817  0              0.668     8  BF\n",
      "69   0.00278972   l1         liblinear  0.596104  0              0.412     9  BF\n",
      "70   0.0377837    l1         liblinear  0.759801  0.00104699    41.022     0  OS\n",
      "71   1.48374      l2         liblinear  0.683823  0              5.982     1  OS\n",
      "72   2.24273      l2         newton-cg  0.689098  0             22.624     2  OS\n",
      "73   2.40063      l2         newton-cg  0.690447  0             18.634     3  OS\n",
      "74   0.0173324    l1         liblinear  0.747241  0             18.974     4  OS\n",
      "75  49.6936       l1         liblinear  0.926057  0.00282982    31.79      5  OS\n",
      "76  17.9477       l2         newton-cg  0.689575  0             15.308     6  OS\n",
      "77   0.0301022    l1         liblinear  0.763042  0.00225931    35.862     7  OS\n",
      "78   0.213319     l1         liblinear  0.927794  0.00114981    82.412     8  OS\n",
      "79  18.3284       l2         newton-cg  0.697365  0             20.196     9  OS\n",
      "80   8.2728       l1         liblinear  0.998337  0.0033256      2.989     0  SCHD\n",
      "81   0.0600157    l2         lbfgs      0.902462  0              8.27      1  SCHD\n",
      "82   5.69812e-05  l2         newton-cg  0.955836  0              7.699     2  SCHD\n",
      "83   0.0237934    l1         liblinear  0.951629  0.0208899      7.802     3  SCHD\n",
      "84   0.0094785    l2         lbfgs      0.912377  1.11022e-16    1.877     4  SCHD\n",
      "85   0.0243872    l1         liblinear  0.954502  0.0090411     15.561     5  SCHD\n",
      "86   3.65312      l2         lbfgs      0.92159   0              2.923     6  SCHD\n",
      "87   3.11613e-05  l2         newton-cg  0.969325  1.11022e-16    6.288     7  SCHD\n",
      "88   0.0203645    l1         liblinear  0.956515  0.00787651     8.547     8  SCHD\n",
      "89   3.45532      l1         liblinear  0.998337  0.0033256      2.628     9  SCHD\n",
      "90   9.11948      l1         liblinear  0.681485  0              5.792     0  MHDis\n",
      "91  82.9097       l1         liblinear  0.681485  0              3.718     1  MHDis\n",
      "92   0.321591     l1         liblinear  0.689853  0.000660218    6.881     2  MHDis\n",
      "93  32.482        l2         newton-cg  0.671108  0              7.504     3  MHDis\n",
      "94   0.327569     l1         liblinear  0.689853  0.000660218    5.326     4  MHDis\n",
      "95  38.392        l1         liblinear  0.681485  0              8.713     5  MHDis\n",
      "96   0.0500872    l2         newton-cg  0.672374  0             13.612     6  MHDis\n",
      "97   5.53156e-05  l2         newton-cg  0.630184  0              6.541     7  MHDis\n",
      "98   0.289136     l1         liblinear  0.689314  0              3.112     8  MHDis\n",
      "99   0.483936     l1         liblinear  0.684145  0              3.605     9  MHDis\n",
      "              C  penalty    Solver           F1          Std    Time    No  Attack\n",
      "--  -----------  ---------  ---------  --------  -----------  ------  ----  --------\n",
      " 0  0.233258     l2         lbfgs      0.970374  0            46.761     0  SYN\n",
      " 1  0.0407033    l2         newton-cg  1         0             6.772     0  HTTP\n",
      " 2  0.0155943    l1         liblinear  0.812474  0.000470284   0.163     7  ACK\n",
      " 3  0.0425062    l2         liblinear  0.493169  5.55112e-17   0.459     0  UDP\n",
      " 4  0.176293     l1         liblinear  0.961289  0.00200722    1.684     6  ARP\n",
      " 5  2.17794e-05  l2         lbfgs      0.998266  0             3.983     5  SP\n",
      " 6  0.00278972   l1         liblinear  0.596104  0             0.412     9  BF\n",
      " 7  0.213319     l1         liblinear  0.927794  0.00114981   82.412     8  OS\n",
      " 8  8.2728       l1         liblinear  0.998337  0.0033256     2.989     0  SCHD\n",
      " 9  0.321591     l1         liblinear  0.689853  0.000660218   6.881     2  MHDis\n"
     ]
    },
    {
     "name": "stderr",
     "output_type": "stream",
     "text": [
      "\n"
     ]
    }
   ],
   "source": [
    "from scipy.stats import loguniform\n",
    "from sklearn.linear_model import LogisticRegression\n",
    "lines=[[\"C\",'penalty','Solver',  \"F1\",\"Std\",\"Time\",\"No\",\"Attack\"]]\n",
    "for j in file_list:\n",
    "    print(j)\n",
    "    \n",
    "    df=pd.read_csv(file_list[j][0],usecols=feature_list[j]) \n",
    "    X_train = df.iloc[:,0:-1]\n",
    "    df['Label'] = df['Label'].astype('category')\n",
    "    y_train=df['Label'].cat.codes  \n",
    "\n",
    "\n",
    "    df=pd.read_csv(file_list[j][1],usecols=feature_list[j]) \n",
    "    X_test = df.iloc[:,0:-1]\n",
    "    df['Label'] = df['Label'].astype('category')\n",
    "    y_test=df['Label'].cat.codes  \n",
    "    \n",
    "    X= np.concatenate([X_train, X_test])\n",
    "    test_fold = [-1 for _ in range(X_train.shape[0])] + [0 for _ in range(X_test.shape[0])]\n",
    "    y = np.concatenate([y_train, y_test])\n",
    "    ps = PredefinedSplit(test_fold)\n",
    "    \n",
    "    second=time()\n",
    "\n",
    "    param_grid = {\n",
    "    'solver': ['newton-cg', 'lbfgs', 'liblinear'],\n",
    "    'penalty': ['none', 'l1', 'l2', 'elasticnet'],  # Initially, allow all\n",
    "    'C': loguniform(1e-5, 100)\n",
    "}\n",
    "\n",
    "    # Ensure compatibility between the solver and the penalty\n",
    "    for solver in param_grid['solver']:\n",
    "        if solver == 'newton-cg':\n",
    "            param_grid['penalty'] = ['none', 'l2']  # Only 'none' and 'l2' are valid for 'newton-cg'\n",
    "        elif solver == 'liblinear':\n",
    "            param_grid['penalty'] = ['l1', 'l2']  # 'liblinear' supports both 'l1' and 'l2'\n",
    "        else:\n",
    "            param_grid['penalty'] = ['l2', 'none']  # Other solvers support 'l2' or 'none'\n",
    "     \n",
    "    second=time()\n",
    "    f1=[]\n",
    "    clf=LogisticRegression()\n",
    "    for ii in range(1):\n",
    "        clf.fit(X_train, y_train)\n",
    "        predict =clf.predict(X_test)\n",
    "        f1.append(sklearn.metrics.f1_score(y_test, predict,average= \"macro\") )\n",
    "    f1=sum(f1)/len(f1)   \n",
    "    #if f1>0.76:\n",
    "    print('%-35s %-20s %-8s %-8s' % (\"default\",f1,round(time()-second,3),ii))\n",
    "    ######################################################################################################################\n",
    "    for i in tqdm(range(10)):\n",
    "        second = time()\n",
    "        a, b, clf = run_random_search(LogisticRegression(), param_grid, X, y)\n",
    "        f1 = []\n",
    "        for ii in range(5):\n",
    "            clf.fit(X_train, y_train)\n",
    "            predict = clf.predict(X_test)\n",
    "            f1.append(sklearn.metrics.f1_score(y_test, predict, average=\"macro\"))\n",
    "        f1_result = sum(f1) / len(f1)\n",
    "        f1 = np.array(f1)\n",
    "        stndtd = f1.std()\n",
    "        temp = list(a.values())\n",
    "        temp = temp + [f1_result, stndtd, round(time() - second, 3), i, j]\n",
    "        lines.append(temp)\n",
    "\n",
    "results = pd.DataFrame (lines[1:], columns = lines[0])\n",
    "results.to_csv(\"LR_HPO.csv\",index=False)\n",
    "print (tabulate(results, headers=list(results.columns)))\n",
    "    \n",
    "final_parametres=[[\"C\",'penalty','Solver',  \"F1\",\"Std\",\"Time\",\"No\",\"Attack\"]]\n",
    "for i in results[\"Attack\"].unique():\n",
    "    df=results[results[\"Attack\"]==i]\n",
    "    m=df[\"F1\"].max()\n",
    "    df=df[df[\"F1\"]==m]\n",
    "    final_parametres.append(list(df.values)[0])\n",
    "results = pd.DataFrame (final_parametres[1:], columns=  final_parametres[0])\n",
    "print (tabulate(results, headers=list(results.columns)))"
   ]
  }
 ],
 "metadata": {
  "kernelspec": {
   "display_name": "Python 3",
   "language": "python",
   "name": "python3"
  },
  "language_info": {
   "codemirror_mode": {
    "name": "ipython",
    "version": 3
   },
   "file_extension": ".py",
   "mimetype": "text/x-python",
   "name": "python",
   "nbconvert_exporter": "python",
   "pygments_lexer": "ipython3",
   "version": "3.12.2"
  }
 },
 "nbformat": 4,
 "nbformat_minor": 2
}
