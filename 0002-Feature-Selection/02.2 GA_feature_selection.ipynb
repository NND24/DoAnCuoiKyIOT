{
 "cells": [
  {
   "cell_type": "code",
   "execution_count": 13,
   "metadata": {},
   "outputs": [],
   "source": [
    "import warnings\n",
    "warnings.filterwarnings(\"ignore\")"
   ]
  },
  {
   "cell_type": "code",
   "execution_count": 14,
   "metadata": {},
   "outputs": [],
   "source": [
    "import os\n",
    "import time\n",
    "import sklearn\n",
    "import random\n",
    "import numpy as np\n",
    "import pandas as pd\n",
    "from tqdm import tqdm\n",
    "import sklearn\n",
    "from tabulate import tabulate\n",
    "import pandas as pd\n",
    "import seaborn as sns\n",
    "import matplotlib.pyplot as plt\n",
    "%matplotlib inline\n",
    "from sklearn.tree import ExtraTreeClassifier\n",
    "evaluate={'Acc':\"Accuracy\", 'b_Acc':\"Balanced Accuracy\", 'F1':\"F1 Score\", 'kap':\"Kappa\", 'ROC':\"Roc\"}"
   ]
  },
  {
   "cell_type": "code",
   "execution_count": 15,
   "metadata": {},
   "outputs": [
    {
     "name": "stdout",
     "output_type": "stream",
     "text": [
      "Sleep time:  3600 seconds\n",
      "Woke up after:  3 seconds\n"
     ]
    }
   ],
   "source": [
    "import time\n",
    "\n",
    "# sleep for 3 seconds\n",
    "print('Sleep time: ', str(3600), 'seconds')\n",
    "#time.sleep(3600)\n",
    "print('Woke up after: ', str(3), 'seconds')"
   ]
  },
  {
   "cell_type": "code",
   "execution_count": 28,
   "metadata": {},
   "outputs": [],
   "source": [
    "def clean_data(X):\n",
    "    # Convert to float to handle NaN values\n",
    "    X = X.astype(np.float64)\n",
    "    # Replace inf and -inf with NaN\n",
    "    X[np.isinf(X)] = np.nan\n",
    "    # Fill NaN with 0 or a specific value\n",
    "    X = np.nan_to_num(X)\n",
    "    return X"
   ]
  },
  {
   "cell_type": "code",
   "execution_count": null,
   "metadata": {},
   "outputs": [],
   "source": [
    "def GA(train,test,cols,gen_number=25,outputcsv=\"GA_output.csv\"):\n",
    "    #defining various steps required for the genetic algorithm\n",
    "    # GA adapted from https://datascienceplus.com/genetic-algorithm-in-machine-learning-using-python/\n",
    "    def initilization_of_population(size, n_feat):\n",
    "        population = []\n",
    "        for i in range(size):\n",
    "            chromosome = np.ones(n_feat, dtype=bool)  # Thay np.bool bằng bool\n",
    "            chromosome[:int(0.3 * n_feat)] = False\n",
    "            np.random.shuffle(chromosome)\n",
    "            population.append(chromosome)\n",
    "        return population\n",
    "\n",
    "    def fitness_score(population):\n",
    "        scores = []\n",
    "        for chromosome in population:\n",
    "            # Chọn các cột từ X_train và X_test dựa trên chromosome\n",
    "            try:\n",
    "                selected_columns = X_train.columns[chromosome]  # Lấy các cột đã chọn\n",
    "                logmodel.fit(X_train[selected_columns], y_train)\n",
    "                predictions = logmodel.predict(X_test[selected_columns])\n",
    "                scores.append(sklearn.metrics.f1_score(y_test, predictions, average=\"macro\"))\n",
    "            except Exception as e:\n",
    "                scores.append(0)  # Trả về điểm 0 nếu có lỗi\n",
    "        scores, population = np.array(scores), np.array(population)\n",
    "        inds = np.argsort(scores)\n",
    "        return list(scores[inds][::-1]), list(population[inds, :][::-1])\n",
    "\n",
    "\n",
    "    def selection(pop_after_fit,n_parents):\n",
    "        population_nextgen = []\n",
    "        for i in range(n_parents):\n",
    "            population_nextgen.append(pop_after_fit[i])\n",
    "        return population_nextgen\n",
    "\n",
    "    def crossover(pop_after_sel):\n",
    "        population_nextgen=pop_after_sel\n",
    "        for i in range(len(pop_after_sel)):\n",
    "            child=pop_after_sel[i]\n",
    "            child[3:7]=pop_after_sel[(i+1)%len(pop_after_sel)][3:7]\n",
    "            population_nextgen.append(child)\n",
    "        return population_nextgen\n",
    "\n",
    "    def mutation(pop_after_cross,mutation_rate):\n",
    "        population_nextgen = []\n",
    "        for i in range(0,len(pop_after_cross)):\n",
    "            chromosome = pop_after_cross[i]\n",
    "            for j in range(len(chromosome)):\n",
    "                if random.random() < mutation_rate:\n",
    "                    chromosome[j]= not chromosome[j]\n",
    "            population_nextgen.append(chromosome)\n",
    "        #print(population_nextgen)\n",
    "        return population_nextgen\n",
    "\n",
    "    def generations(size,n_feat,n_parents,mutation_rate,n_gen,X_train,\n",
    "                                       X_test, y_train, y_test):\n",
    "\n",
    "        best_chromo= []\n",
    "        best_score= []\n",
    "        population_nextgen=initilization_of_population(size,n_feat)\n",
    "        for i in tqdm(range(n_gen)):\n",
    "            second=time.time()\n",
    "            scores, pop_after_fit = fitness_score(population_nextgen)\n",
    "            #print(scores[:2])\n",
    "            zaman=time.time()-second\n",
    "\n",
    "            ths.write(f\"{np.mean(scores)},{np.mean(scores)},{zaman}\\n\")\n",
    "            \n",
    "            pop_after_sel = selection(pop_after_fit,n_parents)\n",
    "            pop_after_cross = crossover(pop_after_sel)\n",
    "            population_nextgen = mutation(pop_after_cross,mutation_rate)\n",
    "            best_chromo.append(pop_after_fit[0])\n",
    "            best_score.append(scores[0])\n",
    "        return best_chromo,best_score\n",
    "\n",
    "    df = pd.read_csv(train,usecols=cols)#,header=None )\n",
    "    df=df.fillna(0)\n",
    "    #df = df.sample(n = 10000)\n",
    "    X_train =df[df.columns[0:-1]]\n",
    "    #X_train=np.array(X_train)\n",
    "    df[df.columns[-1]] = df[df.columns[-1]].astype('category')\n",
    "    y_train=df[df.columns[-1]].cat.codes  \n",
    "    df = pd.read_csv(test,usecols=cols)#,header=None )\n",
    "    df=df.fillna(0)\n",
    "    #df = df.sample(n = 10000)\n",
    "    X_test =df[df.columns[0:-1]]\n",
    "    #X_test=np.array(X_test)\n",
    "    df[df.columns[-1]] = df[df.columns[-1]].astype('category')\n",
    "    y_test=df[df.columns[-1]].cat.codes  \n",
    "\n",
    "    ths = open(f\"./{outputcsv}\", \"w\")\n",
    "    ths.write(\"MEAN,STD,TIME\\n\")\n",
    "    logmodel=ExtraTreeClassifier()\n",
    "    #print ('%-30s %-30s %-30s' % (\"MEAN\",\"STD\",\"TIME\"))\n",
    "    chromo,score=generations(size=200,n_feat=X_train.shape[1],n_parents=120,mutation_rate=0.005,\n",
    "                         n_gen=gen_number,X_train=X_train,X_test=X_test,y_train=y_train,y_test=y_test)\n",
    "    #logmodel.fit(X_train.iloc[:,chromo[-1]],y_train)\n",
    "    #predictions = logmodel.predict(X_test.iloc[:,chromo[-1]])\n",
    "    #print(\"F1 Score score after genetic algorithm is= \"+str(sklearn.metrics.f1_score(y_test,predictions,average= \"macro\")))\n",
    "    ths.close()\n",
    "    sonuç=[]\n",
    "    for k,j in enumerate(chromo):\n",
    "        temp=X_train.iloc[:,j]\n",
    "        temp=list(temp.columns)\n",
    "        temp.append(\"Label\")\n",
    "        sonuç.append(temp)\n",
    "    max_length = max(len(x) for x in sonuç)\n",
    "    normalized_sonuç = [x + [None] * (max_length - len(x)) for x in sonuç]  # Làm đầy danh sách để có cùng độ dài\n",
    "    np.save(outputcsv.replace(\"csv\", \"npy\"), np.array(normalized_sonuç, dtype=object))\n",
    "    gf = pd.read_csv(outputcsv)\n",
    "    gf=gf[\"MEAN\"].values\n",
    "    gf=np.argmax(gf) \n",
    "    return sonuç[gf],gf"
   ]
  },
  {
   "cell_type": "code",
   "execution_count": 17,
   "metadata": {},
   "outputs": [],
   "source": [
    "def folder(f_name): #this function creates a folder named \"attacks\" in the program directory.\n",
    "    try:\n",
    "        if not os.path.exists(f_name):\n",
    "            os.makedirs(f_name)\n",
    "    except OSError:\n",
    "        print (\"The folder could not be created!\")"
   ]
  },
  {
   "cell_type": "code",
   "execution_count": 18,
   "metadata": {},
   "outputs": [],
   "source": [
    "def find_the_way(path,file_format,con=\"\"):\n",
    "    files_add = []\n",
    "    # r=root, d=directories, f = files\n",
    "    for r, d, f in os.walk(path):\n",
    "        for file in f:\n",
    "            if file_format in file:\n",
    "                if con in file:\n",
    "                    files_add.append(os.path.join(r, file))  \n",
    "            \n",
    "    return files_add"
   ]
  },
  {
   "cell_type": "code",
   "execution_count": 19,
   "metadata": {},
   "outputs": [],
   "source": [
    "ml_list={\"ET\": ExtraTreeClassifier()}#,\"SVC\":SVC()}}"
   ]
  },
  {
   "cell_type": "code",
   "execution_count": 20,
   "metadata": {},
   "outputs": [],
   "source": [
    "def target_name(name):\n",
    "    df = pd.read_csv(name,usecols=[\"Label\"])\n",
    "    target_names=sorted(list(df[\"Label\"].unique()))\n",
    "    return target_names"
   ]
  },
  {
   "cell_type": "code",
   "execution_count": 21,
   "metadata": {},
   "outputs": [],
   "source": [
    "folder(\"results\")\n",
    "folder(\"results/beforeGA/\")\n",
    "folder(\"results/afterGA/\")\n",
    "folder(\"pdfs\")"
   ]
  },
  {
   "cell_type": "markdown",
   "metadata": {},
   "source": [
    "## Calculation of evaluations"
   ]
  },
  {
   "cell_type": "code",
   "execution_count": 22,
   "metadata": {},
   "outputs": [],
   "source": [
    "def score(train_time,test_time,predict,y_test,class_based_results,repeat,cv,dname,ml,sw):\n",
    "    train_time=train_time[0]\n",
    "    test_time=test_time[0]\n",
    "    rc=sklearn.metrics.recall_score(y_test, predict,average= \"macro\")\n",
    "    pr=sklearn.metrics.precision_score(y_test, predict,average= \"macro\")\n",
    "    f_1=sklearn.metrics.f1_score(y_test, predict,average= \"macro\")     \n",
    "    accuracy=sklearn.metrics.accuracy_score(y_test, predict)\n",
    "    accuracy_b=sklearn.metrics.balanced_accuracy_score( y_test,predict)\n",
    "    kappa=sklearn.metrics.cohen_kappa_score(y_test, predict,labels=None, weights=None, sample_weight=None)\n",
    "    try:\n",
    "        roc=sklearn.metrics.roc_auc_score(y_test, predict)\n",
    "    except:roc=0\n",
    "    report = sklearn.metrics.classification_report(y_test, predict, target_names=target_names,output_dict=True)\n",
    "    cr = pd.DataFrame(report).transpose()\n",
    "    line=[dname,sw,repeat,cv,ml,accuracy,accuracy_b,pr,rc,f_1,kappa,roc,train_time,test_time]\n",
    "\n",
    "    if class_based_results.empty:\n",
    "        class_based_results =cr\n",
    "    else:\n",
    "        class_based_results = class_based_results.add(cr, fill_value=0)\n",
    "    return class_based_results,line"
   ]
  },
  {
   "cell_type": "code",
   "execution_count": 30,
   "metadata": {},
   "outputs": [],
   "source": [
    "def ML_CV(loop1,loop2,output_csv,cols,dname,sw):\n",
    "    fold=5\n",
    "    repetition=10\n",
    "\n",
    "    for ii in ml_list:\n",
    "        class_based_results=pd.DataFrame()#\"\" #pd.DataFrame(0, index=np.arange((len(target_names)+3)), columns=[\"f1-score\",\"precision\",\"recall\",\"support\"])\n",
    "        cm=pd.DataFrame()\n",
    "        cv=0\n",
    "        lines=[[\"Dataset\",\"SW\",\"T\",\"CV\",\"ML\",\"Acc\",\"b_Acc\",\"Prec\",\"Rec\",\"F1\",\"kap\",\"ROC\",\"tra-T\",\"test-T\"]]\n",
    "        for i in range(repetition):\n",
    "\n",
    "            #rnd = random()\n",
    "            \n",
    "            #kfold = sklearn.model_selection.KFold(n_splits=fold, shuffle=True, random_state=int(rnd*100))  \n",
    "            cv=0\n",
    "            df = pd.read_csv(loop1,usecols=cols)#,header=None )\n",
    "            df=df.fillna(0)\n",
    "            X_train =df[df.columns[0:-1]]\n",
    "            X_train=np.array(X_train)\n",
    "            df[df.columns[-1]] = df[df.columns[-1]].astype('category')\n",
    "            y_train=df[df.columns[-1]].cat.codes  \n",
    "\n",
    "            df = pd.read_csv(loop2,usecols=cols)#,header=None )\n",
    "            df=df.fillna(0)\n",
    "            X_test =df[df.columns[0:-1]]\n",
    "            X_test=np.array(X_test)\n",
    "            df[df.columns[-1]] = df[df.columns[-1]].astype('category')\n",
    "            y_test=df[df.columns[-1]].cat.codes  \n",
    "            \n",
    "            # Clean data\n",
    "            X_train = clean_data(X_train)\n",
    "            X_test = clean_data(X_test)\n",
    "\n",
    "            #dname=loop1  [6:-13]  \n",
    "            results_y=[]\n",
    "            cv+=1\n",
    "            results_y.append(y_test)\n",
    "\n",
    "            precision=[]\n",
    "            recall=[]\n",
    "            f1=[]\n",
    "            accuracy=[]\n",
    "            train_time=[]\n",
    "            test_time=[]\n",
    "            total_time=[]\n",
    "            kappa=[]\n",
    "            accuracy_b=[]\n",
    "\n",
    "                #machine learning algorithm is applied in this section\n",
    "            clf = ml_list[ii]#choose algorithm from ml_list dictionary\n",
    "            second=time.time()\n",
    "            clf.fit(X_train, y_train)\n",
    "            train_time.append(float((time.time()-second)) )\n",
    "            second=time.time()\n",
    "            predict =clf.predict(X_test)\n",
    "            test_time.append(float((time.time()-second)) )\n",
    "\n",
    "            altime=0\n",
    "            class_based_results,line=score(train_time,test_time,predict,y_test,class_based_results,cv,i,dname,ii,sw)\n",
    "            lines.append(line)\n",
    "            df_cm = pd.DataFrame(sklearn.metrics.confusion_matrix(y_test, predict))\n",
    "            if cm.empty:\n",
    "                cm =df_cm\n",
    "            else:\n",
    "                cm = cm.add(df_cm, fill_value=0)\n",
    "\n",
    "        results = pd.DataFrame (lines[1:], columns = lines[0])\n",
    "        results.to_csv(output_csv.replace(\"ML\",ii),index=False)\n",
    "        results=results.round(3)\n",
    "        print (tabulate(results, headers=list(results.columns)))\n",
    "        print()\n",
    "        \n",
    "        class_based_results=class_based_results/repetition\n",
    "        print (tabulate(class_based_results, headers=list(class_based_results.columns)))\n",
    "        class_based_results.to_csv(output_csv.replace(\".csv\",\"class_based_results.csv\"))\n",
    "        if True:\n",
    "            cm=cm//repetition\n",
    "            graph_name=output_csv[:-4]+\"_confusion matrix.pdf\"   \n",
    "            plt.figure(figsize = (5,3.5))\n",
    "            sns.heatmap(cm,xticklabels=target_names, yticklabels=target_names, annot=True, fmt='g')\n",
    "            plt.savefig(graph_name,bbox_inches='tight')#, dpi=400)\n",
    "            plt.show()\n",
    "            #print(cm)\n",
    "            print(\"\\n\\n\\n\")             \n"
   ]
  },
  {
   "cell_type": "code",
   "execution_count": 31,
   "metadata": {},
   "outputs": [],
   "source": [
    "#find_the_way(\"../csvs\",\"csv\",con=\"\")"
   ]
  },
  {
   "cell_type": "code",
   "execution_count": 32,
   "metadata": {},
   "outputs": [],
   "source": [
    "file_list={\n",
    "'SYN': ['../csvs\\\\dos-synflooding-1-dec.pcap_Flow.csv', '../csvs\\\\dos-synflooding-6-dec.pcap_Flow.csv'],\n",
    "'HTTP': ['../csvs\\\\mirai-httpflooding-4-dec.pcap_Flow.csv', '../csvs\\\\http-flood -maze.csv'],\n",
    "'ACK': ['../csvs\\\\mirai-ackflooding-4-dec.pcap_Flow.csv', '../csvs\\\\ack_maze.csv'],\n",
    "'UDP': ['../csvs\\\\mirai-udpflooding-4-dec.pcap_Flow.csv', '../csvs\\\\UDP_DDoS_00001.pcap_Flow.csv'],\n",
    "'ARP': ['../csvs\\\\mitm-arpspoofing-6-dec.pcap_Flow.csv', '../csvs\\\\mitm-arpspoofing-5-dec.pcap_Flow.csv'],\n",
    "'SP': ['../csvs\\\\scan-hostport-3-dec.pcap_Flow.csv', '../csvs\\\\Edge-Port Scanning attack.pcap_Flow.csv'],\n",
    "'BF': ['../csvs\\\\mirai-hostbruteforce-5-dec.pcap_Flow.csv','../csvs\\\\edges-password attacks.pcap_Flow.csv'],\n",
    "'OS': ['../csvs\\\\scan-portos-3-dec.pcap_Flow.csv', '../csvs\\\\BoT-IoT_OSScan.csv'],\n",
    "'SCHD': ['../csvs\\\\scan-hostport-3-dec.pcap_Flow.csv', '../csvs\\\\scan-hostport-5-dec.pcap_Flow.csv'],\n",
    "'MHDis': ['../csvs\\\\mirai-hostbruteforce-3-dec.pcap_Flow.csv', '../csvs\\\\mirai-hostbruteforce-4-dec.pcap_Flow.csv']}"
   ]
  },
  {
   "cell_type": "code",
   "execution_count": 33,
   "metadata": {},
   "outputs": [],
   "source": [
    "import json\n",
    "with open('GA_input.json', 'r') as fp:\n",
    "    feature_list = json.load(fp)"
   ]
  },
  {
   "cell_type": "code",
   "execution_count": 34,
   "metadata": {
    "scrolled": true
   },
   "outputs": [
    {
     "name": "stdout",
     "output_type": "stream",
     "text": [
      "SYN\n",
      "['ACK Flag Cnt', 'Active Max', 'Active Mean', 'Active Min', 'Active Std', 'Bwd IAT Max', 'Bwd IAT Mean', 'Bwd IAT Min', 'Bwd IAT Std', 'Bwd IAT Tot', 'Bwd Pkt Len Max', 'Bwd Pkt Len Mean', 'Bwd Pkt Len Min', 'Bwd Pkt Len Std', 'Bwd Pkts/s', 'Bwd PSH Flags', 'Bwd Seg Size Avg', 'FIN Flag Cnt', 'Flow Byts/s', 'Flow Duration', 'Flow IAT Max', 'Flow IAT Mean', 'Flow IAT Min', 'Flow IAT Std', 'Flow Pkts/s', 'Fwd Act Data Pkts', 'Fwd Header Len', 'Fwd IAT Max', 'Fwd IAT Mean', 'Fwd IAT Min', 'Fwd IAT Std', 'Fwd IAT Tot', 'Fwd Pkt Len Max', 'Fwd Pkt Len Mean', 'Fwd Pkt Len Min', 'Fwd Pkt Len Std', 'Fwd Pkts/s', 'Fwd Seg Size Avg', 'Idle Max', 'Idle Mean', 'Idle Min', 'Idle Std', 'Pkt Len Max', 'Pkt Len Mean', 'Pkt Len Min', 'Pkt Len Std', 'Pkt Len Var', 'Pkt Size Avg', 'Protocol', 'PSH Flag Cnt', 'Src Port', 'Subflow Bwd Byts', 'Subflow Bwd Pkts', 'Subflow Fwd Byts', 'Subflow Fwd Pkts', 'SYN Flag Cnt', 'Tot Bwd Pkts', 'Tot Fwd Pkts', 'TotLen Bwd Pkts', 'TotLen Fwd Pkts', 'Label']\n",
      "    Dataset      SW    T    CV  ML      Acc    b_Acc    Prec    Rec     F1    kap    ROC    tra-T    test-T\n",
      "--  ---------  ----  ---  ----  ----  -----  -------  ------  -----  -----  -----  -----  -------  --------\n",
      " 0  SYN           5    1     0  ET    0.999    0.977   0.988  0.977  0.983  0.965  0.977    0.104     0.004\n",
      " 1  SYN           5    1     1  ET    1        0.989   1      0.989  0.994  0.988  0.989    0.022     0.004\n",
      " 2  SYN           5    1     2  ET    1        0.977   1      0.977  0.988  0.977  0.977    0.009     0.002\n",
      " 3  SYN           5    1     3  ET    1        0.977   1      0.977  0.988  0.977  0.977    0.013     0.005\n",
      " 4  SYN           5    1     4  ET    1        0.989   1      0.989  0.994  0.988  0.989    0.01      0.002\n",
      " 5  SYN           5    1     5  ET    0.999    0.988   0.967  0.988  0.978  0.955  0.988    0.016     0.003\n",
      " 6  SYN           5    1     6  ET    0.999    0.966   1      0.966  0.982  0.964  0.966    0.017     0.003\n",
      " 7  SYN           5    1     7  ET    1        0.989   1      0.989  0.994  0.988  0.989    0.015     0.003\n",
      " 8  SYN           5    1     8  ET    0.999    0.977   0.977  0.977  0.977  0.954  0.977    0.016     0.001\n",
      " 9  SYN           5    1     9  ET    1        0.989   0.989  0.989  0.989  0.977  0.989    0.011     0.004\n",
      "\n",
      "                precision    recall    f1-score      support\n",
      "------------  -----------  --------  ----------  -----------\n",
      "Benign           0.984334  0.963636    0.97366     44\n",
      "SYN              0.999725  0.99988     0.999803  5824\n",
      "accuracy         0.999608  0.999608    0.999608     0.999608\n",
      "macro avg        0.99203   0.981758    0.986731  5868\n",
      "weighted avg     0.99961   0.999608    0.999607  5868\n"
     ]
    },
    {
     "data": {
      "image/png": "[encoded data removed]",
      "text/plain": [
       "<Figure size 500x350 with 2 Axes>"
      ]
     },
     "metadata": {},
     "output_type": "display_data"
    },
    {
     "name": "stdout",
     "output_type": "stream",
     "text": [
      "\n",
      "\n",
      "\n",
      "\n",
      "HTTP\n",
      "['Bwd Pkts/s', 'Dst Port', 'FIN Flag Cnt', 'Flow Duration', 'Flow IAT Max', 'Flow IAT Mean', 'Flow Pkts/s', 'Fwd IAT Max', 'Fwd IAT Mean', 'Fwd IAT Min', 'Fwd IAT Tot', 'Fwd Pkts/s', 'Subflow Fwd Pkts', 'SYN Flag Cnt', 'Tot Fwd Pkts', 'Label']\n",
      "    Dataset      SW    T    CV  ML      Acc    b_Acc    Prec    Rec     F1    kap    ROC    tra-T    test-T\n",
      "--  ---------  ----  ---  ----  ----  -----  -------  ------  -----  -----  -----  -----  -------  --------\n",
      " 0  HTTP          5    1     0  ET    0.5      0.5     0.25   0.5    0.333  0      0.5      0.006     0.001\n",
      " 1  HTTP          5    1     1  ET    0.66     0.66    0.798  0.66   0.616  0.321  0.66     0.006     0\n",
      " 2  HTTP          5    1     2  ET    0.524    0.524   0.756  0.524  0.384  0.048  0.524    0.01      0\n",
      " 3  HTTP          5    1     3  ET    0.978    0.978   0.979  0.978  0.978  0.957  0.978    0.005     0.001\n",
      " 4  HTTP          5    1     4  ET    0.696    0.696   0.811  0.696  0.665  0.392  0.696    0.003     0\n",
      " 5  HTTP          5    1     5  ET    1        1       1      1      1      1      1        0.002     0\n",
      " 6  HTTP          5    1     6  ET    0.947    0.947   0.952  0.947  0.947  0.895  0.947    0.003     0\n",
      " 7  HTTP          5    1     7  ET    0.952    0.952   0.956  0.952  0.952  0.904  0.952    0.002     0\n",
      " 8  HTTP          5    1     8  ET    0.658    0.658   0.797  0.658  0.613  0.316  0.658    0.006     0.001\n",
      " 9  HTTP          5    1     9  ET    0.976    0.976   0.977  0.976  0.976  0.952  0.976    0.017     0\n",
      "\n",
      "                precision    recall    f1-score     support\n",
      "------------  -----------  --------  ----------  ----------\n",
      "Benign           0.755395  1           0.846253  209\n",
      "HTTP             0.9       0.578469    0.646808  209\n",
      "accuracy         0.789234  0.789234    0.789234    0.789234\n",
      "macro avg        0.827697  0.789234    0.746531  418\n",
      "weighted avg     0.827697  0.789234    0.746531  418\n"
     ]
    },
    {
     "data": {
      "image/png": "[encoded data removed]",
      "text/plain": [
       "<Figure size 500x350 with 2 Axes>"
      ]
     },
     "metadata": {},
     "output_type": "display_data"
    },
    {
     "name": "stdout",
     "output_type": "stream",
     "text": [
      "\n",
      "\n",
      "\n",
      "\n",
      "ACK\n",
      "['ACK Flag Cnt', 'Bwd IAT Std', 'Bwd Pkt Len Max', 'Bwd Pkt Len Mean', 'Bwd Pkt Len Std', 'Bwd Seg Size Avg', 'Flow Byts/s', 'Flow IAT Std', 'Fwd Act Data Pkts', 'Fwd IAT Max', 'Fwd IAT Mean', 'Fwd IAT Min', 'Fwd IAT Std', 'Fwd IAT Tot', 'Fwd Pkt Len Max', 'Fwd Pkt Len Mean', 'Fwd Pkt Len Std', 'Fwd Seg Size Avg', 'Pkt Len Max', 'Pkt Len Mean', 'Pkt Len Std', 'Pkt Len Var', 'Pkt Size Avg', 'Src Port', 'Subflow Bwd Byts', 'Subflow Fwd Byts', 'SYN Flag Cnt', 'TotLen Bwd Pkts', 'TotLen Fwd Pkts', 'Label']\n",
      "    Dataset      SW    T    CV  ML      Acc    b_Acc    Prec    Rec     F1     kap    ROC    tra-T    test-T\n",
      "--  ---------  ----  ---  ----  ----  -----  -------  ------  -----  -----  ------  -----  -------  --------\n",
      " 0  ACK           5    1     0  ET    0.917    0.465   0.493  0.465  0.478  -0.023  0.465    0.003     0.005\n",
      " 1  ACK           5    1     1  ET    0.908    0.46    0.493  0.46   0.476  -0.023  0.46     0.003     0.008\n",
      " 2  ACK           5    1     2  ET    0.914    0.463   0.493  0.463  0.478  -0.023  0.463    0.002     0.011\n",
      " 3  ACK           5    1     3  ET    0.92     0.466   0.493  0.466  0.479  -0.022  0.466    0.003     0.009\n",
      " 4  ACK           5    1     4  ET    0.932    0.472   0.493  0.472  0.482  -0.022  0.472    0.004     0.005\n",
      " 5  ACK           5    1     5  ET    0.931    0.472   0.493  0.472  0.482  -0.022  0.472    0.003     0.004\n",
      " 6  ACK           5    1     6  ET    0.907    0.459   0.493  0.459  0.476  -0.023  0.459    0.003     0.014\n",
      " 7  ACK           5    1     7  ET    0.897    0.455   0.493  0.455  0.473  -0.023  0.455    0.004     0.012\n",
      " 8  ACK           5    1     8  ET    0.912    0.462   0.493  0.462  0.477  -0.023  0.462    0.004     0.009\n",
      " 9  ACK           5    1     9  ET    0.934    0.473   0.493  0.473  0.483  -0.021  0.473    0.002     0.005\n",
      "\n",
      "                precision    recall    f1-score       support\n",
      "------------  -----------  --------  ----------  ------------\n",
      "Benign           0         0           0           196\n",
      "ACK              0.985904  0.929301    0.956729  14754\n",
      "accuracy         0.917117  0.917117    0.917117      0.917117\n",
      "macro avg        0.492952  0.46465     0.478364  14950\n",
      "weighted avg     0.972979  0.917117    0.944186  14950\n"
     ]
    },
    {
     "data": {
      "image/png": "[encoded data removed]",
      "text/plain": [
       "<Figure size 500x350 with 2 Axes>"
      ]
     },
     "metadata": {},
     "output_type": "display_data"
    },
    {
     "name": "stdout",
     "output_type": "stream",
     "text": [
      "\n",
      "\n",
      "\n",
      "\n",
      "UDP\n",
      "['Flow IAT Std', 'Fwd IAT Std', 'Src Port', 'Label']\n",
      "    Dataset      SW    T    CV  ML      Acc    b_Acc    Prec    Rec     F1    kap    ROC    tra-T    test-T\n",
      "--  ---------  ----  ---  ----  ----  -----  -------  ------  -----  -----  -----  -----  -------  --------\n",
      " 0  UDP           5    1     0  ET    0.064    0.532     0.5  0.532  0.06       0  0.532    0.001     0.047\n",
      " 1  UDP           5    1     1  ET    0.023    0.512     0.5  0.512  0.023      0  0.512    0.003     0.043\n",
      " 2  UDP           5    1     2  ET    0.012    0.506     0.5  0.506  0.012      0  0.506    0.001     0.044\n",
      " 3  UDP           5    1     3  ET    0.044    0.522     0.5  0.522  0.042      0  0.522    0.003     0.038\n",
      " 4  UDP           5    1     4  ET    0.02     0.51      0.5  0.51   0.02       0  0.51     0.002     0.028\n",
      " 5  UDP           5    1     5  ET    0.028    0.514     0.5  0.514  0.028      0  0.514    0.003     0.029\n",
      " 6  UDP           5    1     6  ET    0.019    0.509     0.5  0.509  0.019      0  0.509    0.001     0.032\n",
      " 7  UDP           5    1     7  ET    0.039    0.519     0.5  0.519  0.037      0  0.519    0.003     0.041\n",
      " 8  UDP           5    1     8  ET    0.034    0.517     0.5  0.517  0.032      0  0.517    0.002     0.033\n",
      " 9  UDP           5    1     9  ET    0.023    0.512     0.5  0.512  0.023      0  0.512    0.001     0.03\n",
      "\n",
      "                precision     recall     f1-score         support\n",
      "------------  -----------  ---------  -----------  --------------\n",
      "Benign        3.54196e-05  1          7.08366e-05       9\n",
      "UDP           1            0.0305199  0.0588675    262144\n",
      "accuracy      0.0305532    0.0305532  0.0305532         0.0305532\n",
      "macro avg     0.500018     0.51526    0.0294692    262153\n",
      "weighted avg  0.999966     0.0305532  0.0588655    262153\n"
     ]
    },
    {
     "data": {
      "image/png": "[encoded data removed]",
      "text/plain": [
       "<Figure size 500x350 with 2 Axes>"
      ]
     },
     "metadata": {},
     "output_type": "display_data"
    },
    {
     "name": "stdout",
     "output_type": "stream",
     "text": [
      "\n",
      "\n",
      "\n",
      "\n",
      "ARP\n",
      "['ACK Flag Cnt', 'Active Max', 'Active Mean', 'Active Min', 'Active Std', 'Bwd Header Len', 'Bwd IAT Max', 'Bwd IAT Mean', 'Bwd IAT Min', 'Bwd IAT Std', 'Bwd IAT Tot', 'Bwd Pkt Len Max', 'Bwd Pkt Len Mean', 'Bwd Pkt Len Min', 'Bwd Pkt Len Std', 'Bwd Pkts/s', 'Bwd PSH Flags', 'Bwd Seg Size Avg', 'Down/Up Ratio', 'Dst Port', 'Flow Byts/s', 'Flow Duration', 'Flow IAT Max', 'Flow IAT Mean', 'Flow IAT Min', 'Flow IAT Std', 'Flow Pkts/s', 'Fwd Act Data Pkts', 'Fwd Header Len', 'Fwd IAT Max', 'Fwd IAT Mean', 'Fwd IAT Min', 'Fwd IAT Std', 'Fwd IAT Tot', 'Fwd Pkt Len Max', 'Fwd Pkt Len Mean', 'Fwd Pkt Len Min', 'Fwd Pkt Len Std', 'Fwd Pkts/s', 'Fwd Seg Size Avg', 'Idle Max', 'Idle Mean', 'Idle Min', 'Idle Std', 'Init Bwd Win Byts', 'Pkt Len Max', 'Pkt Len Mean', 'Pkt Len Min', 'Pkt Len Std', 'Pkt Len Var', 'Pkt Size Avg', 'Protocol', 'PSH Flag Cnt', 'Src Port', 'Subflow Bwd Byts', 'Subflow Bwd Pkts', 'Subflow Fwd Byts', 'Subflow Fwd Pkts', 'Tot Bwd Pkts', 'Tot Fwd Pkts', 'TotLen Bwd Pkts', 'TotLen Fwd Pkts', 'Label']\n",
      "    Dataset      SW    T    CV  ML      Acc    b_Acc    Prec    Rec     F1    kap    ROC    tra-T    test-T\n",
      "--  ---------  ----  ---  ----  ----  -----  -------  ------  -----  -----  -----  -----  -------  --------\n",
      " 0  ARP           5    1     0  ET    0.948    0.947   0.944  0.947  0.945  0.891  0.947    0.003     0.001\n",
      " 1  ARP           5    1     1  ET    0.936    0.93    0.935  0.93   0.932  0.865  0.93     0.002     0.001\n",
      " 2  ARP           5    1     2  ET    0.936    0.931   0.934  0.931  0.933  0.865  0.931    0.002     0\n",
      " 3  ARP           5    1     3  ET    0.976    0.976   0.974  0.976  0.975  0.95   0.976    0.001     0.001\n",
      " 4  ARP           5    1     4  ET    0.95     0.951   0.946  0.951  0.948  0.896  0.951    0.002     0\n",
      " 5  ARP           5    1     5  ET    0.948    0.95    0.942  0.95   0.946  0.891  0.95     0.003     0.004\n",
      " 6  ARP           5    1     6  ET    0.962    0.958   0.962  0.958  0.96   0.92   0.958    0.002     0\n",
      " 7  ARP           5    1     7  ET    0.946    0.946   0.941  0.946  0.943  0.886  0.946    0.003     0.001\n",
      " 8  ARP           5    1     8  ET    0.896    0.885   0.895  0.885  0.889  0.778  0.885    0.002     0.001\n",
      " 9  ARP           5    1     9  ET    0.929    0.93    0.923  0.93   0.926  0.852  0.93     0.002     0\n",
      "\n",
      "                precision    recall    f1-score    support\n",
      "------------  -----------  --------  ----------  ---------\n",
      "Benign           0.923743  0.929268    0.926212  164\n",
      "ARP              0.955425  0.951351    0.953265  259\n",
      "accuracy         0.94279   0.94279     0.94279     0.94279\n",
      "macro avg        0.939584  0.94031     0.939739  423\n",
      "weighted avg     0.943142  0.94279     0.942777  423\n"
     ]
    },
    {
     "data": {
      "image/png": "[encoded data removed]",
      "text/plain": [
       "<Figure size 500x350 with 2 Axes>"
      ]
     },
     "metadata": {},
     "output_type": "display_data"
    },
    {
     "name": "stdout",
     "output_type": "stream",
     "text": [
      "\n",
      "\n",
      "\n",
      "\n",
      "SP\n",
      "['Active Max', 'Active Mean', 'Active Min', 'Active Std', 'Bwd Pkt Len Max', 'Bwd Pkt Len Mean', 'Bwd Pkt Len Min', 'Bwd Seg Size Avg', 'Down/Up Ratio', 'Flow Byts/s', 'Flow IAT Std', 'Fwd Act Data Pkts', 'Fwd Header Len', 'Fwd IAT Max', 'Fwd IAT Mean', 'Fwd IAT Min', 'Fwd IAT Std', 'Fwd IAT Tot', 'Fwd Pkt Len Max', 'Fwd Pkt Len Mean', 'Fwd Pkt Len Min', 'Fwd Pkt Len Std', 'Fwd Pkts/s', 'Fwd Seg Size Avg', 'Idle Max', 'Idle Mean', 'Idle Min', 'Idle Std', 'Init Bwd Win Byts', 'Pkt Len Max', 'Pkt Len Mean', 'Pkt Len Min', 'Pkt Len Std', 'Pkt Len Var', 'Pkt Size Avg', 'Protocol', 'Subflow Bwd Byts', 'Subflow Bwd Pkts', 'Subflow Fwd Byts', 'Subflow Fwd Pkts', 'SYN Flag Cnt', 'Tot Bwd Pkts', 'Tot Fwd Pkts', 'TotLen Bwd Pkts', 'TotLen Fwd Pkts', 'Label']\n",
      "    Dataset      SW    T    CV  ML      Acc    b_Acc    Prec    Rec    F1    kap    ROC    tra-T    test-T\n",
      "--  ---------  ----  ---  ----  ----  -----  -------  ------  -----  ----  -----  -----  -------  --------\n",
      " 0  SP            5    1     0  ET        1        1       1      1     1      1      1    0.001     0.003\n",
      " 1  SP            5    1     1  ET        1        1       1      1     1      1      1    0.004     0.002\n",
      " 2  SP            5    1     2  ET        1        1       1      1     1      1      1    0.005     0.004\n",
      " 3  SP            5    1     3  ET        1        1       1      1     1      1      1    0.005     0.01\n",
      " 4  SP            5    1     4  ET        1        1       1      1     1      1      1    0.002     0.004\n",
      " 5  SP            5    1     5  ET        1        1       1      1     1      1      1    0.002     0.002\n",
      " 6  SP            5    1     6  ET        1        1       1      1     1      1      1    0.003     0.008\n",
      " 7  SP            5    1     7  ET        1        1       1      1     1      1      1    0.003     0.004\n",
      " 8  SP            5    1     8  ET        1        1       1      1     1      1      1    0.003     0.003\n",
      " 9  SP            5    1     9  ET        1        1       1      1     1      1      1    0.002     0.002\n",
      "\n",
      "                precision    recall    f1-score    support\n",
      "------------  -----------  --------  ----------  ---------\n",
      "Benign                  1         1           1        298\n",
      "SP                      1         1           1       9987\n",
      "accuracy                1         1           1          1\n",
      "macro avg               1         1           1      10285\n",
      "weighted avg            1         1           1      10285\n"
     ]
    },
    {
     "data": {
      "image/png": "[encoded data removed]",
      "text/plain": [
       "<Figure size 500x350 with 2 Axes>"
      ]
     },
     "metadata": {},
     "output_type": "display_data"
    },
    {
     "name": "stdout",
     "output_type": "stream",
     "text": [
      "\n",
      "\n",
      "\n",
      "\n",
      "BF\n",
      "['Bwd IAT Min', 'Bwd Pkts/s', 'Flow IAT Max', 'Flow IAT Std', 'Fwd IAT Max', 'Fwd IAT Min', 'Fwd IAT Std', 'Fwd IAT Tot', 'Fwd Pkts/s', 'Init Bwd Win Byts', 'Src Port', 'Subflow Bwd Pkts', 'Subflow Fwd Byts', 'Tot Bwd Pkts', 'TotLen Fwd Pkts', 'Label']\n",
      "    Dataset      SW    T    CV  ML      Acc    b_Acc    Prec    Rec     F1     kap    ROC    tra-T    test-T\n",
      "--  ---------  ----  ---  ----  ----  -----  -------  ------  -----  -----  ------  -----  -------  --------\n",
      " 0  BF            5    1     0  ET    0.493    0.529   0.73   0.529  0.378   0.053  0.529    0.003     0.045\n",
      " 1  BF            5    1     1  ET    0.462    0.5     0.272  0.5    0.316  -0      0.5      0.002     0.029\n",
      " 2  BF            5    1     2  ET    0.322    0.347   0.208  0.347  0.251  -0.289  0.347    0.004     0.036\n",
      " 3  BF            5    1     3  ET    0.474    0.511   0.729  0.511  0.34    0.02   0.511    0.003     0.035\n",
      " 4  BF            5    1     4  ET    0.476    0.513   0.732  0.513  0.344   0.024  0.513    0.002     0.05\n",
      " 5  BF            5    1     5  ET    0.541    0.573   0.751  0.573  0.462   0.137  0.573    0.002     0.035\n",
      " 6  BF            5    1     6  ET    0.417    0.451   0.236  0.451  0.297  -0.091  0.451    0.002     0.047\n",
      " 7  BF            5    1     7  ET    0.511    0.545   0.742  0.545  0.41    0.084  0.545    0.002     0.029\n",
      " 8  BF            5    1     8  ET    0.466    0.503   0.537  0.503  0.334   0.005  0.503    0.002     0.039\n",
      " 9  BF            5    1     9  ET    0.463    0.501   0.642  0.501  0.318   0.001  0.501    0.005     0.049\n",
      "\n",
      "                precision     recall    f1-score        support\n",
      "------------  -----------  ---------  ----------  -------------\n",
      "Benign           0.45988   0.956273    0.620806    87355\n",
      "BF               0.655976  0.0381058   0.0693184  101604\n",
      "accuracy         0.462571  0.462571    0.462571        0.462571\n",
      "macro avg        0.557928  0.497189    0.345062   188959\n",
      "weighted avg     0.565321  0.462571    0.324269   188959\n"
     ]
    },
    {
     "data": {
      "image/png": "[encoded data removed]",
      "text/plain": [
       "<Figure size 500x350 with 2 Axes>"
      ]
     },
     "metadata": {},
     "output_type": "display_data"
    },
    {
     "name": "stdout",
     "output_type": "stream",
     "text": [
      "\n",
      "\n",
      "\n",
      "\n",
      "OS\n",
      "['ACK Flag Cnt', 'Active Max', 'Active Mean', 'Active Min', 'Active Std', 'Bwd Header Len', 'Bwd IAT Max', 'Bwd IAT Mean', 'Bwd IAT Min', 'Bwd IAT Std', 'Bwd IAT Tot', 'Bwd Pkt Len Max', 'Bwd Pkt Len Mean', 'Bwd Pkt Len Min', 'Bwd Pkt Len Std', 'Bwd Pkts/s', 'Bwd PSH Flags', 'Bwd Seg Size Avg', 'Down/Up Ratio', 'Dst Port', 'Flow Byts/s', 'Flow Duration', 'Flow IAT Max', 'Flow IAT Mean', 'Flow IAT Min', 'Flow IAT Std', 'Flow Pkts/s', 'Fwd Act Data Pkts', 'Fwd Header Len', 'Fwd IAT Max', 'Fwd IAT Mean', 'Fwd IAT Min', 'Fwd IAT Std', 'Fwd IAT Tot', 'Fwd Pkt Len Max', 'Fwd Pkt Len Mean', 'Fwd Pkt Len Min', 'Fwd Pkt Len Std', 'Fwd Pkts/s', 'Fwd Seg Size Avg', 'Idle Max', 'Idle Mean', 'Idle Min', 'Idle Std', 'Init Bwd Win Byts', 'Pkt Len Max', 'Pkt Len Mean', 'Pkt Len Min', 'Pkt Len Std', 'Pkt Len Var', 'Pkt Size Avg', 'Protocol', 'PSH Flag Cnt', 'RST Flag Cnt', 'Subflow Bwd Byts', 'Subflow Bwd Pkts', 'Subflow Fwd Byts', 'Subflow Fwd Pkts', 'SYN Flag Cnt', 'Tot Bwd Pkts', 'Tot Fwd Pkts', 'TotLen Bwd Pkts', 'TotLen Fwd Pkts', 'Label']\n",
      "    Dataset      SW    T    CV  ML      Acc    b_Acc    Prec    Rec     F1     kap    ROC    tra-T    test-T\n",
      "--  ---------  ----  ---  ----  ----  -----  -------  ------  -----  -----  ------  -----  -------  --------\n",
      " 0  OS            5    1     0  ET    0.449    0.676   0.538  0.676  0.374   0.062  0.676    0.002     0.015\n",
      " 1  OS            5    1     1  ET    0.986    0.973   0.909  0.973  0.938   0.876  0.973    0.003     0.018\n",
      " 2  OS            5    1     2  ET    0.965    0.76    0.871  0.76   0.804   0.61   0.76     0.003     0.016\n",
      " 3  OS            5    1     3  ET    0.984    0.968   0.898  0.968  0.93    0.86   0.968    0.001     0.01\n",
      " 4  OS            5    1     4  ET    0.988    0.967   0.926  0.967  0.945   0.891  0.967    0.002     0.017\n",
      " 5  OS            5    1     5  ET    0.978    0.965   0.863  0.965  0.907   0.814  0.965    0.001     0.012\n",
      " 6  OS            5    1     6  ET    0.967    0.926   0.821  0.926  0.865   0.729  0.926    0.005     0.016\n",
      " 7  OS            5    1     7  ET    0.577    0.448   0.489  0.448  0.399  -0.026  0.448    0.003     0.017\n",
      " 8  OS            5    1     8  ET    0.976    0.978   0.852  0.978  0.904   0.808  0.978    0.002     0.014\n",
      " 9  OS            5    1     9  ET    0.966    0.817   0.841  0.817  0.829   0.657  0.817    0.003     0.018\n",
      "\n",
      "                precision    recall    f1-score       support\n",
      "------------  -----------  --------  ----------  ------------\n",
      "Benign           0.615661  0.807318    0.657247   1995\n",
      "OS               0.985955  0.888117    0.921641  34369\n",
      "accuracy         0.883684  0.883684    0.883684      0.883684\n",
      "macro avg        0.800808  0.847718    0.789444  36364\n",
      "weighted avg     0.96564   0.883684    0.907136  36364\n"
     ]
    },
    {
     "data": {
      "image/png": "[encoded data removed]",
      "text/plain": [
       "<Figure size 500x350 with 2 Axes>"
      ]
     },
     "metadata": {},
     "output_type": "display_data"
    },
    {
     "name": "stdout",
     "output_type": "stream",
     "text": [
      "\n",
      "\n",
      "\n",
      "\n",
      "SCHD\n",
      "['ACK Flag Cnt', 'Active Max', 'Active Mean', 'Active Min', 'Active Std', 'Bwd Header Len', 'Bwd IAT Max', 'Bwd IAT Mean', 'Bwd IAT Min', 'Bwd IAT Std', 'Bwd IAT Tot', 'Bwd Pkt Len Max', 'Bwd Pkt Len Mean', 'Bwd Pkt Len Min', 'Bwd Pkt Len Std', 'Bwd Pkts/s', 'Bwd PSH Flags', 'Bwd Seg Size Avg', 'Down/Up Ratio', 'Dst Port', 'FIN Flag Cnt', 'Flow Byts/s', 'Flow Duration', 'Flow IAT Max', 'Flow IAT Mean', 'Flow IAT Min', 'Flow IAT Std', 'Flow Pkts/s', 'Fwd Act Data Pkts', 'Fwd Header Len', 'Fwd IAT Max', 'Fwd IAT Mean', 'Fwd IAT Min', 'Fwd IAT Std', 'Fwd IAT Tot', 'Fwd Pkt Len Max', 'Fwd Pkt Len Mean', 'Fwd Pkt Len Min', 'Fwd Pkt Len Std', 'Fwd Pkts/s', 'Fwd Seg Size Avg', 'Idle Max', 'Idle Mean', 'Idle Min', 'Idle Std', 'Init Bwd Win Byts', 'Pkt Len Max', 'Pkt Len Mean', 'Pkt Len Min', 'Pkt Len Std', 'Pkt Len Var', 'Pkt Size Avg', 'Protocol', 'PSH Flag Cnt', 'RST Flag Cnt', 'Subflow Bwd Byts', 'Subflow Bwd Pkts', 'Subflow Fwd Byts', 'Subflow Fwd Pkts', 'SYN Flag Cnt', 'Tot Bwd Pkts', 'Tot Fwd Pkts', 'TotLen Bwd Pkts', 'TotLen Fwd Pkts', 'Label']\n",
      "    Dataset      SW    T    CV  ML      Acc    b_Acc    Prec    Rec     F1    kap    ROC    tra-T    test-T\n",
      "--  ---------  ----  ---  ----  ----  -----  -------  ------  -----  -----  -----  -----  -------  --------\n",
      " 0  SCHD          5    1     0  ET    0.955    0.976   0.786  0.976  0.851  0.705  0.976    0.003     0\n",
      " 1  SCHD          5    1     1  ET    0.986    0.992   0.905  0.992  0.944  0.888  0.992    0.001     0.001\n",
      " 2  SCHD          5    1     2  ET    0.997    0.998   0.978  0.998  0.988  0.976  0.998    0.002     0.001\n",
      " 3  SCHD          5    1     3  ET    0.999    0.992   0.999  0.992  0.996  0.992  0.992    0.002     0\n",
      " 4  SCHD          5    1     4  ET    0.999    0.992   0.999  0.992  0.996  0.992  0.992    0.003     0.001\n",
      " 5  SCHD          5    1     5  ET    0.998    0.984   0.999  0.984  0.992  0.983  0.984    0.003     0.002\n",
      " 6  SCHD          5    1     6  ET    0.999    0.992   0.999  0.992  0.996  0.992  0.992    0.005     0.001\n",
      " 7  SCHD          5    1     7  ET    1        1       1      1      1      1      1        0.009     0.001\n",
      " 8  SCHD          5    1     8  ET    1        1       1      1      1      1      1        0.002     0.001\n",
      " 9  SCHD          5    1     9  ET    1        1       1      1      1      1      1        0.001     0.001\n",
      "\n",
      "                precision    recall    f1-score      support\n",
      "------------  -----------  --------  ----------  -----------\n",
      "Benign           0.933678  0.992188    0.955998    64\n",
      "SCHD             0.999499  0.99338     0.996374   997\n",
      "accuracy         0.993308  0.993308    0.993308     0.993308\n",
      "macro avg        0.966589  0.992784    0.976186  1061\n",
      "weighted avg     0.995529  0.993308    0.993939  1061\n"
     ]
    },
    {
     "data": {
      "image/png": "[encoded data removed]",
      "text/plain": [
       "<Figure size 500x350 with 2 Axes>"
      ]
     },
     "metadata": {},
     "output_type": "display_data"
    },
    {
     "name": "stdout",
     "output_type": "stream",
     "text": [
      "\n",
      "\n",
      "\n",
      "\n",
      "MHDis\n",
      "['Active Min', 'Active Std', 'Bwd Header Len', 'Bwd IAT Max', 'Bwd IAT Mean', 'Bwd IAT Min', 'Bwd IAT Std', 'Bwd IAT Tot', 'Bwd Pkt Len Max', 'Bwd Pkt Len Mean', 'Bwd Pkt Len Std', 'Bwd Pkts/s', 'Bwd Seg Size Avg', 'Dst Port', 'Flow Duration', 'Flow IAT Max', 'Flow IAT Mean', 'Flow IAT Min', 'Flow IAT Std', 'Flow Pkts/s', 'Fwd Act Data Pkts', 'Fwd Header Len', 'Fwd IAT Max', 'Fwd IAT Mean', 'Fwd IAT Min', 'Fwd IAT Std', 'Fwd IAT Tot', 'Fwd Pkt Len Max', 'Fwd Pkt Len Mean', 'Fwd Pkt Len Std', 'Fwd Pkts/s', 'Fwd Seg Size Avg', 'Idle Max', 'Idle Mean', 'Idle Min', 'Idle Std', 'Init Bwd Win Byts', 'Pkt Len Max', 'Pkt Len Mean', 'Pkt Len Std', 'Pkt Len Var', 'Pkt Size Avg', 'Src Port', 'Subflow Bwd Byts', 'Subflow Bwd Pkts', 'Subflow Fwd Byts', 'Subflow Fwd Pkts', 'Tot Bwd Pkts', 'Tot Fwd Pkts', 'TotLen Bwd Pkts', 'TotLen Fwd Pkts', 'Label']\n",
      "    Dataset      SW    T    CV  ML      Acc    b_Acc    Prec    Rec     F1    kap    ROC    tra-T    test-T\n",
      "--  ---------  ----  ---  ----  ----  -----  -------  ------  -----  -----  -----  -----  -------  --------\n",
      " 0  MHDis         5    1     0  ET    0.594    0.55    0.616  0.55   0.497  0.107  0.55     0.005     0.001\n",
      " 1  MHDis         5    1     1  ET    0.601    0.558   0.629  0.558  0.509  0.125  0.558    0.003     0.001\n",
      " 2  MHDis         5    1     2  ET    0.593    0.55    0.609  0.55   0.501  0.108  0.55     0.002     0\n",
      " 3  MHDis         5    1     3  ET    0.591    0.548   0.608  0.548  0.496  0.103  0.548    0.002     0.001\n",
      " 4  MHDis         5    1     4  ET    0.595    0.552   0.614  0.552  0.504  0.113  0.552    0.002     0\n",
      " 5  MHDis         5    1     5  ET    0.607    0.565   0.632  0.565  0.524  0.141  0.565    0.003     0\n",
      " 6  MHDis         5    1     6  ET    0.599    0.559   0.614  0.559  0.518  0.126  0.559    0.002     0.001\n",
      " 7  MHDis         5    1     7  ET    0.593    0.553   0.6    0.553  0.513  0.113  0.553    0.004     0.001\n",
      " 8  MHDis         5    1     8  ET    0.596    0.553   0.618  0.553  0.503  0.114  0.553    0.002     0.001\n",
      " 9  MHDis         5    1     9  ET    0.591    0.551   0.597  0.551  0.511  0.11   0.551    0.003     0\n",
      "\n",
      "                precision    recall    f1-score      support\n",
      "------------  -----------  --------  ----------  -----------\n",
      "Benign           0.589668  0.911994    0.716205   692\n",
      "MHDis            0.63776   0.195604    0.298962   546\n",
      "accuracy         0.596042  0.596042    0.596042     0.596042\n",
      "macro avg        0.613714  0.553799    0.507583  1238\n",
      "weighted avg     0.610878  0.596042    0.532186  1238\n"
     ]
    },
    {
     "data": {
      "image/png": "[encoded data removed]",
      "text/plain": [
       "<Figure size 500x350 with 2 Axes>"
      ]
     },
     "metadata": {},
     "output_type": "display_data"
    },
    {
     "name": "stdout",
     "output_type": "stream",
     "text": [
      "\n",
      "\n",
      "\n",
      "\n"
     ]
    }
   ],
   "source": [
    "for file in file_list:\n",
    "    print(file)\n",
    "    features=feature_list[file]\n",
    "    train=file_list[file][0]\n",
    "    test=file_list[file][1]\n",
    "    #feature,_=GA(train,test,features,gen_number=25,outputcsv=f\"{file}_ET_chosed_GA_output.csv\")\n",
    "    feature=features\n",
    "    print(feature)\n",
    "    #GA_output[file]=feature\n",
    "    output_csv=f\"./results/beforeGA/{file}_chosed_output_ML_.csv\"\n",
    "    target_names=[\"Benign\",file]\n",
    "    ML_CV(train,test,output_csv,feature,file,5)   "
   ]
  },
  {
   "cell_type": "code",
   "execution_count": 35,
   "metadata": {},
   "outputs": [],
   "source": [
    "GA_output={}"
   ]
  },
  {
   "cell_type": "code",
   "execution_count": 36,
   "metadata": {
    "scrolled": false
   },
   "outputs": [
    {
     "name": "stdout",
     "output_type": "stream",
     "text": [
      "SYN\n"
     ]
    },
    {
     "name": "stderr",
     "output_type": "stream",
     "text": [
      "100%|██████████| 25/25 [04:14<00:00, 10.19s/it]\n"
     ]
    },
    {
     "name": "stdout",
     "output_type": "stream",
     "text": [
      "['Src Port', 'Tot Fwd Pkts', 'Tot Bwd Pkts', 'TotLen Bwd Pkts', 'Fwd Pkt Len Max', 'Bwd Pkt Len Max', 'Bwd Pkt Len Min', 'Bwd Pkt Len Mean', 'Bwd Pkt Len Std', 'Flow IAT Mean', 'Flow IAT Std', 'Flow IAT Max', 'Flow IAT Min', 'Fwd IAT Tot', 'Fwd IAT Mean', 'Fwd IAT Max', 'Fwd IAT Min', 'Bwd IAT Max', 'Fwd Pkts/s', 'Bwd Pkts/s', 'Pkt Len Max', 'Pkt Len Std', 'SYN Flag Cnt', 'PSH Flag Cnt', 'Pkt Size Avg', 'Subflow Fwd Pkts', 'Subflow Fwd Byts', 'Subflow Bwd Byts', 'Fwd Act Data Pkts', 'Active Std', 'Active Max', 'Idle Mean', 'Idle Std', 'Idle Max', 'Idle Min', 'Label']\n",
      "    Dataset      SW    T    CV  ML      Acc    b_Acc    Prec    Rec     F1    kap    ROC    tra-T    test-T\n",
      "--  ---------  ----  ---  ----  ----  -----  -------  ------  -----  -----  -----  -----  -------  --------\n",
      " 0  SYN           5    1     0  ET    0.999    0.988   0.978  0.988  0.983  0.966  0.988    0.014     0.002\n",
      " 1  SYN           5    1     1  ET    0.999    1       0.968  1      0.983  0.967  1        0.016     0.004\n",
      " 2  SYN           5    1     2  ET    1        1       0.978  1      0.989  0.978  1        0.008     0.002\n",
      " 3  SYN           5    1     3  ET    0.999    0.999   0.94   0.999  0.968  0.936  0.999    0.006     0.004\n",
      " 4  SYN           5    1     4  ET    0.997    0.976   0.868  0.976  0.915  0.83   0.976    0.016     0.004\n",
      " 5  SYN           5    1     5  ET    0.999    0.988   0.957  0.988  0.972  0.945  0.988    0.017     0.003\n",
      " 6  SYN           5    1     6  ET    1        0.989   1      0.989  0.994  0.988  0.989    0.008     0.001\n",
      " 7  SYN           5    1     7  ET    0.999    0.966   0.988  0.966  0.977  0.953  0.966    0.01      0.001\n",
      " 8  SYN           5    1     8  ET    0.999    0.977   0.988  0.977  0.983  0.965  0.977    0.009     0.001\n",
      " 9  SYN           5    1     9  ET    0.999    0.988   0.978  0.988  0.983  0.966  0.988    0.013     0.001\n",
      "\n",
      "                precision    recall    f1-score      support\n",
      "------------  -----------  --------  ----------  -----------\n",
      "Benign           0.928847  0.975       0.949781    44\n",
      "SYN              0.999811  0.999382    0.999596  5824\n",
      "accuracy         0.999199  0.999199    0.999199     0.999199\n",
      "macro avg        0.964329  0.987191    0.974689  5868\n",
      "weighted avg     0.999279  0.999199    0.999223  5868\n"
     ]
    },
    {
     "data": {
      "image/png": "[encoded data removed]",
      "text/plain": [
       "<Figure size 500x350 with 2 Axes>"
      ]
     },
     "metadata": {},
     "output_type": "display_data"
    },
    {
     "name": "stdout",
     "output_type": "stream",
     "text": [
      "\n",
      "\n",
      "\n",
      "\n",
      "HTTP\n"
     ]
    },
    {
     "name": "stderr",
     "output_type": "stream",
     "text": [
      "100%|██████████| 25/25 [01:27<00:00,  3.51s/it]\n"
     ]
    },
    {
     "name": "stdout",
     "output_type": "stream",
     "text": [
      "['Dst Port', 'Flow Duration', 'Flow Pkts/s', 'Flow IAT Max', 'Fwd IAT Tot', 'Fwd IAT Min', 'Fwd Pkts/s', 'FIN Flag Cnt', 'SYN Flag Cnt', 'Label']\n",
      "    Dataset      SW    T    CV  ML      Acc    b_Acc    Prec    Rec     F1    kap    ROC    tra-T    test-T\n",
      "--  ---------  ----  ---  ----  ----  -----  -------  ------  -----  -----  -----  -----  -------  --------\n",
      " 0  HTTP          5    1     0  ET    0.978    0.978   0.979  0.978  0.978  0.957  0.978    0.003     0\n",
      " 1  HTTP          5    1     1  ET    0.974    0.974   0.975  0.974  0.974  0.947  0.974    0.001     0.001\n",
      " 2  HTTP          5    1     2  ET    0.976    0.976   0.977  0.976  0.976  0.952  0.976    0.002     0.001\n",
      " 3  HTTP          5    1     3  ET    1        1       1      1      1      1      1        0.003     0.001\n",
      " 4  HTTP          5    1     4  ET    1        1       1      1      1      1      1        0.002     0.001\n",
      " 5  HTTP          5    1     5  ET    1        1       1      1      1      1      1        0.008     0.001\n",
      " 6  HTTP          5    1     6  ET    0.976    0.976   0.977  0.976  0.976  0.952  0.976    0.002     0\n",
      " 7  HTTP          5    1     7  ET    0.562    0.562   0.767  0.562  0.458  0.124  0.562    0.001     0.001\n",
      " 8  HTTP          5    1     8  ET    0.995    0.995   0.995  0.995  0.995  0.99   0.995    0.005     0\n",
      " 9  HTTP          5    1     9  ET    0.852    0.852   0.886  0.852  0.848  0.703  0.852    0.002     0.001\n",
      "\n",
      "                precision    recall    f1-score    support\n",
      "------------  -----------  --------  ----------  ---------\n",
      "Benign           0.911229  1           0.946813  209\n",
      "HTTP             1         0.862679    0.894426  209\n",
      "accuracy         0.93134   0.93134     0.93134     0.93134\n",
      "macro avg        0.955615  0.93134     0.92062   418\n",
      "weighted avg     0.955615  0.93134     0.92062   418\n"
     ]
    },
    {
     "data": {
      "image/png": "[encoded data removed]",
      "text/plain": [
       "<Figure size 500x350 with 2 Axes>"
      ]
     },
     "metadata": {},
     "output_type": "display_data"
    },
    {
     "name": "stdout",
     "output_type": "stream",
     "text": [
      "\n",
      "\n",
      "\n",
      "\n",
      "ACK\n"
     ]
    },
    {
     "name": "stderr",
     "output_type": "stream",
     "text": [
      "100%|██████████| 25/25 [03:03<00:00,  7.35s/it]\n"
     ]
    },
    {
     "name": "stdout",
     "output_type": "stream",
     "text": [
      "['TotLen Bwd Pkts', 'Fwd Pkt Len Max', 'Fwd Pkt Len Mean', 'Fwd Pkt Len Std', 'Flow Byts/s', 'Flow IAT Std', 'Fwd IAT Tot', 'Fwd IAT Mean', 'Fwd IAT Std', 'Fwd IAT Max', 'Fwd IAT Min', 'Bwd IAT Std', 'Pkt Len Mean', 'Pkt Len Std', 'Pkt Len Var', 'SYN Flag Cnt', 'ACK Flag Cnt', 'Fwd Seg Size Avg', 'Bwd Seg Size Avg', 'Subflow Fwd Byts', 'Subflow Bwd Byts', 'Fwd Act Data Pkts', 'Label']\n",
      "    Dataset      SW    T    CV  ML      Acc    b_Acc    Prec    Rec     F1    kap    ROC    tra-T    test-T\n",
      "--  ---------  ----  ---  ----  ----  -----  -------  ------  -----  -----  -----  -----  -------  --------\n",
      " 0  ACK           5    1     0  ET    0.987      0.5   0.493    0.5  0.497      0    0.5    0.002     0.003\n",
      " 1  ACK           5    1     1  ET    0.987      0.5   0.493    0.5  0.497      0    0.5    0.002     0.003\n",
      " 2  ACK           5    1     2  ET    0.987      0.5   0.493    0.5  0.497      0    0.5    0.004     0.011\n",
      " 3  ACK           5    1     3  ET    0.987      0.5   0.493    0.5  0.497      0    0.5    0.005     0.004\n",
      " 4  ACK           5    1     4  ET    0.987      0.5   0.493    0.5  0.497      0    0.5    0.005     0.004\n",
      " 5  ACK           5    1     5  ET    0.987      0.5   0.493    0.5  0.497      0    0.5    0.001     0.003\n",
      " 6  ACK           5    1     6  ET    0.987      0.5   0.493    0.5  0.497      0    0.5    0.001     0.011\n",
      " 7  ACK           5    1     7  ET    0.987      0.5   0.493    0.5  0.497      0    0.5    0.003     0.003\n",
      " 8  ACK           5    1     8  ET    0.987      0.5   0.493    0.5  0.497      0    0.5    0.002     0.006\n",
      " 9  ACK           5    1     9  ET    0.987      0.5   0.493    0.5  0.497      0    0.5    0.002     0.006\n",
      "\n",
      "                precision    recall    f1-score      support\n",
      "------------  -----------  --------  ----------  -----------\n",
      "Benign           0          0          0           196\n",
      "ACK              0.98689    1          0.993402  14754\n",
      "accuracy         0.98689    0.98689    0.98689       0.98689\n",
      "macro avg        0.493445   0.5        0.496701  14950\n",
      "weighted avg     0.973951   0.98689    0.980378  14950\n"
     ]
    },
    {
     "data": {
      "image/png": "[encoded data removed]",
      "text/plain": [
       "<Figure size 500x350 with 2 Axes>"
      ]
     },
     "metadata": {},
     "output_type": "display_data"
    },
    {
     "name": "stdout",
     "output_type": "stream",
     "text": [
      "\n",
      "\n",
      "\n",
      "\n",
      "UDP\n"
     ]
    },
    {
     "name": "stderr",
     "output_type": "stream",
     "text": [
      "100%|██████████| 25/25 [17:59<00:00, 43.18s/it]\n"
     ]
    },
    {
     "name": "stdout",
     "output_type": "stream",
     "text": [
      "['Src Port', 'Fwd IAT Std', 'Label']\n",
      "    Dataset      SW    T    CV  ML      Acc    b_Acc    Prec    Rec     F1    kap    ROC    tra-T    test-T\n",
      "--  ---------  ----  ---  ----  ----  -----  -------  ------  -----  -----  -----  -----  -------  --------\n",
      " 0  UDP           5    1     0  ET    0.033    0.516     0.5  0.516  0.032      0  0.516    0.002     0.025\n",
      " 1  UDP           5    1     1  ET    0.025    0.512     0.5  0.512  0.024      0  0.512    0.002     0.03\n",
      " 2  UDP           5    1     2  ET    0.043    0.522     0.5  0.522  0.042      0  0.522    0.002     0.03\n",
      " 3  UDP           5    1     3  ET    0.046    0.523     0.5  0.523  0.044      0  0.523    0.001     0.02\n",
      " 4  UDP           5    1     4  ET    0.055    0.527     0.5  0.527  0.052      0  0.527    0.001     0.021\n",
      " 5  UDP           5    1     5  ET    0.024    0.512     0.5  0.512  0.024      0  0.512    0.001     0.02\n",
      " 6  UDP           5    1     6  ET    0.047    0.524     0.5  0.524  0.045      0  0.524    0.003     0.027\n",
      " 7  UDP           5    1     7  ET    0.015    0.508     0.5  0.508  0.015      0  0.508    0.002     0.033\n",
      " 8  UDP           5    1     8  ET    0.068    0.534     0.5  0.534  0.063      0  0.534    0.001     0.022\n",
      " 9  UDP           5    1     9  ET    0.051    0.525     0.5  0.525  0.048      0  0.525    0.002     0.029\n",
      "\n",
      "                precision     recall     f1-score         support\n",
      "------------  -----------  ---------  -----------  --------------\n",
      "Benign        3.57946e-05  1          7.15866e-05       9\n",
      "UDP           1            0.0406445  0.0776994    262144\n",
      "accuracy      0.0406774    0.0406774  0.0406774         0.0406774\n",
      "macro avg     0.500018     0.520322   0.0388855    262153\n",
      "weighted avg  0.999966     0.0406774  0.0776967    262153\n"
     ]
    },
    {
     "data": {
      "image/png": "[encoded data removed]",
      "text/plain": [
       "<Figure size 500x350 with 2 Axes>"
      ]
     },
     "metadata": {},
     "output_type": "display_data"
    },
    {
     "name": "stdout",
     "output_type": "stream",
     "text": [
      "\n",
      "\n",
      "\n",
      "\n",
      "ARP\n"
     ]
    },
    {
     "name": "stderr",
     "output_type": "stream",
     "text": [
      "100%|██████████| 25/25 [01:05<00:00,  2.63s/it]\n"
     ]
    },
    {
     "name": "stdout",
     "output_type": "stream",
     "text": [
      "['Src Port', 'Dst Port', 'Protocol', 'Flow Duration', 'Tot Bwd Pkts', 'TotLen Bwd Pkts', 'Fwd Pkt Len Max', 'Fwd Pkt Len Min', 'Fwd Pkt Len Mean', 'Bwd Pkt Len Max', 'Bwd Pkt Len Min', 'Flow IAT Std', 'Flow IAT Max', 'Flow IAT Min', 'Fwd IAT Tot', 'Fwd IAT Std', 'Fwd IAT Max', 'Fwd IAT Min', 'Bwd IAT Tot', 'Bwd IAT Std', 'Bwd IAT Max', 'Bwd IAT Min', 'Fwd Header Len', 'Pkt Len Min', 'Pkt Len Max', 'Pkt Len Std', 'Pkt Len Var', 'PSH Flag Cnt', 'ACK Flag Cnt', 'Pkt Size Avg', 'Bwd Seg Size Avg', 'Subflow Fwd Pkts', 'Subflow Fwd Byts', 'Subflow Bwd Pkts', 'Subflow Bwd Byts', 'Init Bwd Win Byts', 'Fwd Act Data Pkts', 'Active Std', 'Idle Mean', 'Idle Std', 'Label']\n",
      "    Dataset      SW    T    CV  ML      Acc    b_Acc    Prec    Rec     F1    kap    ROC    tra-T    test-T\n",
      "--  ---------  ----  ---  ----  ----  -----  -------  ------  -----  -----  -----  -----  -------  --------\n",
      " 0  ARP           5    1     0  ET    0.974    0.971   0.974  0.971  0.973  0.945  0.971    0.002     0\n",
      " 1  ARP           5    1     1  ET    0.981    0.982   0.978  0.982  0.98   0.96   0.982    0.003     0\n",
      " 2  ARP           5    1     2  ET    0.974    0.969   0.977  0.969  0.972  0.945  0.969    0.002     0.001\n",
      " 3  ARP           5    1     3  ET    0.96     0.956   0.959  0.956  0.958  0.915  0.956    0.001     0\n",
      " 4  ARP           5    1     4  ET    0.931    0.929   0.927  0.929  0.928  0.856  0.929    0.002     0.001\n",
      " 5  ARP           5    1     5  ET    0.974    0.975   0.97   0.975  0.973  0.946  0.975    0.003     0\n",
      " 6  ARP           5    1     6  ET    0.941    0.942   0.935  0.942  0.938  0.876  0.942    0.003     0.001\n",
      " 7  ARP           5    1     7  ET    0.965    0.96    0.965  0.96   0.962  0.925  0.96     0.003     0\n",
      " 8  ARP           5    1     8  ET    0.946    0.942   0.943  0.942  0.943  0.885  0.942    0.003     0.001\n",
      " 9  ARP           5    1     9  ET    0.965    0.958   0.968  0.958  0.962  0.925  0.958    0.002     0\n",
      "\n",
      "                precision    recall    f1-score     support\n",
      "------------  -----------  --------  ----------  ----------\n",
      "Benign           0.952822  0.946951    0.949641  164\n",
      "ARP              0.966632  0.969884    0.96816   259\n",
      "accuracy         0.960993  0.960993    0.960993    0.960993\n",
      "macro avg        0.959727  0.958418    0.958901  423\n",
      "weighted avg     0.961278  0.960993    0.96098   423\n"
     ]
    },
    {
     "data": {
      "image/png": "[encoded data removed]",
      "text/plain": [
       "<Figure size 500x350 with 2 Axes>"
      ]
     },
     "metadata": {},
     "output_type": "display_data"
    },
    {
     "name": "stdout",
     "output_type": "stream",
     "text": [
      "\n",
      "\n",
      "\n",
      "\n",
      "SP\n"
     ]
    },
    {
     "name": "stderr",
     "output_type": "stream",
     "text": [
      "100%|██████████| 25/25 [01:55<00:00,  4.64s/it]\n"
     ]
    },
    {
     "name": "stdout",
     "output_type": "stream",
     "text": [
      "['Protocol', 'Tot Fwd Pkts', 'Tot Bwd Pkts', 'TotLen Fwd Pkts', 'TotLen Bwd Pkts', 'Fwd Pkt Len Max', 'Fwd Pkt Len Min', 'Fwd Pkt Len Mean', 'Fwd Pkt Len Std', 'Fwd IAT Tot', 'Fwd IAT Max', 'Fwd IAT Min', 'Fwd Header Len', 'Fwd Pkts/s', 'Pkt Len Min', 'Pkt Len Mean', 'Pkt Len Std', 'Pkt Len Var', 'SYN Flag Cnt', 'Pkt Size Avg', 'Subflow Fwd Byts', 'Subflow Bwd Pkts', 'Init Bwd Win Byts', 'Fwd Act Data Pkts', 'Active Mean', 'Active Std', 'Active Max', 'Active Min', 'Idle Std', 'Idle Max', 'Idle Min', 'Label']\n",
      "    Dataset      SW    T    CV  ML      Acc    b_Acc    Prec    Rec     F1    kap    ROC    tra-T    test-T\n",
      "--  ---------  ----  ---  ----  ----  -----  -------  ------  -----  -----  -----  -----  -------  --------\n",
      " 0  SP            5    1     0  ET        1    0.998       1  0.998  0.999  0.998  0.998    0.002     0.002\n",
      " 1  SP            5    1     1  ET        1    1           1  1      1      1      1        0.005     0.003\n",
      " 2  SP            5    1     2  ET        1    1           1  1      1      1      1        0.002     0.002\n",
      " 3  SP            5    1     3  ET        1    1           1  1      1      1      1        0.003     0.003\n",
      " 4  SP            5    1     4  ET        1    1           1  1      1      1      1        0.005     0.004\n",
      " 5  SP            5    1     5  ET        1    1           1  1      1      1      1        0.002     0.003\n",
      " 6  SP            5    1     6  ET        1    1           1  1      1      1      1        0.002     0.003\n",
      " 7  SP            5    1     7  ET        1    1           1  1      1      1      1        0.002     0.003\n",
      " 8  SP            5    1     8  ET        1    1           1  1      1      1      1        0.001     0.002\n",
      " 9  SP            5    1     9  ET        1    1           1  1      1      1      1        0.001     0.002\n",
      "\n",
      "                precision    recall    f1-score      support\n",
      "------------  -----------  --------  ----------  -----------\n",
      "Benign           1         0.999664    0.999832    298\n",
      "SP               0.99999   1           0.999995   9987\n",
      "accuracy         0.99999   0.99999     0.99999       0.99999\n",
      "macro avg        0.999995  0.999832    0.999913  10285\n",
      "weighted avg     0.99999   0.99999     0.99999   10285\n"
     ]
    },
    {
     "data": {
      "image/png": "[encoded data removed]",
      "text/plain": [
       "<Figure size 500x350 with 2 Axes>"
      ]
     },
     "metadata": {},
     "output_type": "display_data"
    },
    {
     "name": "stdout",
     "output_type": "stream",
     "text": [
      "\n",
      "\n",
      "\n",
      "\n",
      "BF\n"
     ]
    },
    {
     "name": "stderr",
     "output_type": "stream",
     "text": [
      "100%|██████████| 25/25 [14:48<00:00, 35.54s/it]\n"
     ]
    },
    {
     "name": "stdout",
     "output_type": "stream",
     "text": [
      "['TotLen Fwd Pkts', 'Flow IAT Std', 'Fwd IAT Tot', 'Fwd IAT Std', 'Fwd IAT Max', 'Fwd Pkts/s', 'Bwd Pkts/s', 'Subflow Fwd Byts', 'Label']\n",
      "    Dataset      SW    T    CV  ML      Acc    b_Acc    Prec    Rec     F1     kap    ROC    tra-T    test-T\n",
      "--  ---------  ----  ---  ----  ----  -----  -------  ------  -----  -----  ------  -----  -------  --------\n",
      " 0  BF            5    1     0  ET    0.495    0.53    0.66   0.53   0.391   0.055  0.53     0.002     0.055\n",
      " 1  BF            5    1     1  ET    0.763    0.772   0.779  0.772  0.763   0.533  0.772    0.002     0.044\n",
      " 2  BF            5    1     2  ET    0.366    0.387   0.332  0.387  0.324  -0.215  0.387    0.001     0.032\n",
      " 3  BF            5    1     3  ET    0.509    0.536   0.574  0.536  0.452   0.068  0.536    0.003     0.057\n",
      " 4  BF            5    1     4  ET    0.729    0.742   0.763  0.742  0.726   0.47   0.742    0.003     0.035\n",
      " 5  BF            5    1     5  ET    0.56     0.586   0.658  0.586  0.517   0.163  0.586    0.002     0.048\n",
      " 6  BF            5    1     6  ET    0.546    0.573   0.644  0.573  0.496   0.138  0.573    0.003     0.043\n",
      " 7  BF            5    1     7  ET    0.56     0.59    0.726  0.59   0.498   0.168  0.59     0.003     0.04\n",
      " 8  BF            5    1     8  ET    0.462    0.492   0.479  0.492  0.385  -0.015  0.492    0.004     0.052\n",
      " 9  BF            5    1     9  ET    0.691    0.709   0.759  0.709  0.68    0.402  0.709    0.003     0.071\n",
      "\n",
      "                precision    recall    f1-score        support\n",
      "------------  -----------  --------  ----------  -------------\n",
      "Benign           0.528639  0.901136    0.662762   87355\n",
      "BF               0.746047  0.282043    0.383673  101604\n",
      "accuracy         0.568247  0.568247    0.568247       0.568247\n",
      "macro avg        0.637343  0.591589    0.523218  188959\n",
      "weighted avg     0.64554   0.568247    0.512695  188959\n"
     ]
    },
    {
     "data": {
      "image/png": "[encoded data removed]",
      "text/plain": [
       "<Figure size 500x350 with 2 Axes>"
      ]
     },
     "metadata": {},
     "output_type": "display_data"
    },
    {
     "name": "stdout",
     "output_type": "stream",
     "text": [
      "\n",
      "\n",
      "\n",
      "\n",
      "OS\n"
     ]
    },
    {
     "name": "stderr",
     "output_type": "stream",
     "text": [
      "  0%|          | 0/25 [00:00<?, ?it/s]"
     ]
    },
    {
     "name": "stdout",
     "output_type": "stream",
     "text": [
      "Error in fitness_score: Input X contains infinity or a value too large for dtype('float32').\n",
      "Error in fitness_score: Input X contains infinity or a value too large for dtype('float32').\n",
      "Error in fitness_score: Input X contains infinity or a value too large for dtype('float32').\n",
      "Error in fitness_score: Input X contains infinity or a value too large for dtype('float32').\n",
      "Error in fitness_score: Input X contains infinity or a value too large for dtype('float32').\n",
      "Error in fitness_score: Input X contains infinity or a value too large for dtype('float32').\n",
      "Error in fitness_score: Input X contains infinity or a value too large for dtype('float32').\n",
      "Error in fitness_score: Input X contains infinity or a value too large for dtype('float32').\n",
      "Error in fitness_score: Input X contains infinity or a value too large for dtype('float32').\n",
      "Error in fitness_score: Input X contains infinity or a value too large for dtype('float32').\n",
      "Error in fitness_score: Input X contains infinity or a value too large for dtype('float32').\n",
      "Error in fitness_score: Input X contains infinity or a value too large for dtype('float32').\n",
      "Error in fitness_score: Input X contains infinity or a value too large for dtype('float32').\n",
      "Error in fitness_score: Input X contains infinity or a value too large for dtype('float32').\n",
      "Error in fitness_score: Input X contains infinity or a value too large for dtype('float32').\n",
      "Error in fitness_score: Input X contains infinity or a value too large for dtype('float32').\n",
      "Error in fitness_score: Input X contains infinity or a value too large for dtype('float32').\n",
      "Error in fitness_score: Input X contains infinity or a value too large for dtype('float32').\n",
      "Error in fitness_score: Input X contains infinity or a value too large for dtype('float32').\n",
      "Error in fitness_score: Input X contains infinity or a value too large for dtype('float32').\n",
      "Error in fitness_score: Input X contains infinity or a value too large for dtype('float32').\n",
      "Error in fitness_score: Input X contains infinity or a value too large for dtype('float32').\n",
      "Error in fitness_score: Input X contains infinity or a value too large for dtype('float32').\n",
      "Error in fitness_score: Input X contains infinity or a value too large for dtype('float32').\n",
      "Error in fitness_score: Input X contains infinity or a value too large for dtype('float32').\n",
      "Error in fitness_score: Input X contains infinity or a value too large for dtype('float32').\n",
      "Error in fitness_score: Input X contains infinity or a value too large for dtype('float32').\n",
      "Error in fitness_score: Input X contains infinity or a value too large for dtype('float32').\n",
      "Error in fitness_score: Input X contains infinity or a value too large for dtype('float32').\n",
      "Error in fitness_score: Input X contains infinity or a value too large for dtype('float32').\n",
      "Error in fitness_score: Input X contains infinity or a value too large for dtype('float32').\n",
      "Error in fitness_score: Input X contains infinity or a value too large for dtype('float32').\n",
      "Error in fitness_score: Input X contains infinity or a value too large for dtype('float32').\n",
      "Error in fitness_score: Input X contains infinity or a value too large for dtype('float32').\n",
      "Error in fitness_score: Input X contains infinity or a value too large for dtype('float32').\n",
      "Error in fitness_score: Input X contains infinity or a value too large for dtype('float32').\n",
      "Error in fitness_score: Input X contains infinity or a value too large for dtype('float32').\n",
      "Error in fitness_score: Input X contains infinity or a value too large for dtype('float32').\n",
      "Error in fitness_score: Input X contains infinity or a value too large for dtype('float32').\n",
      "Error in fitness_score: Input X contains infinity or a value too large for dtype('float32').\n",
      "Error in fitness_score: Input X contains infinity or a value too large for dtype('float32').\n",
      "Error in fitness_score: Input X contains infinity or a value too large for dtype('float32').\n",
      "Error in fitness_score: Input X contains infinity or a value too large for dtype('float32').\n",
      "Error in fitness_score: Input X contains infinity or a value too large for dtype('float32').\n",
      "Error in fitness_score: Input X contains infinity or a value too large for dtype('float32').\n",
      "Error in fitness_score: Input X contains infinity or a value too large for dtype('float32').\n",
      "Error in fitness_score: Input X contains infinity or a value too large for dtype('float32').\n",
      "Error in fitness_score: Input X contains infinity or a value too large for dtype('float32').\n",
      "Error in fitness_score: Input X contains infinity or a value too large for dtype('float32').\n",
      "Error in fitness_score: Input X contains infinity or a value too large for dtype('float32').\n",
      "Error in fitness_score: Input X contains infinity or a value too large for dtype('float32').\n",
      "Error in fitness_score: Input X contains infinity or a value too large for dtype('float32').\n",
      "Error in fitness_score: Input X contains infinity or a value too large for dtype('float32').\n",
      "Error in fitness_score: Input X contains infinity or a value too large for dtype('float32').\n",
      "Error in fitness_score: Input X contains infinity or a value too large for dtype('float32').\n",
      "Error in fitness_score: Input X contains infinity or a value too large for dtype('float32').\n",
      "Error in fitness_score: Input X contains infinity or a value too large for dtype('float32').\n",
      "Error in fitness_score: Input X contains infinity or a value too large for dtype('float32').\n",
      "Error in fitness_score: Input X contains infinity or a value too large for dtype('float32').\n",
      "Error in fitness_score: Input X contains infinity or a value too large for dtype('float32').\n",
      "Error in fitness_score: Input X contains infinity or a value too large for dtype('float32').\n",
      "Error in fitness_score: Input X contains infinity or a value too large for dtype('float32').\n",
      "Error in fitness_score: Input X contains infinity or a value too large for dtype('float32').\n",
      "Error in fitness_score: Input X contains infinity or a value too large for dtype('float32').\n",
      "Error in fitness_score: Input X contains infinity or a value too large for dtype('float32').\n",
      "Error in fitness_score: Input X contains infinity or a value too large for dtype('float32').\n",
      "Error in fitness_score: Input X contains infinity or a value too large for dtype('float32').\n",
      "Error in fitness_score: Input X contains infinity or a value too large for dtype('float32').\n",
      "Error in fitness_score: Input X contains infinity or a value too large for dtype('float32').\n",
      "Error in fitness_score: Input X contains infinity or a value too large for dtype('float32').\n",
      "Error in fitness_score: Input X contains infinity or a value too large for dtype('float32').\n",
      "Error in fitness_score: Input X contains infinity or a value too large for dtype('float32').\n",
      "Error in fitness_score: Input X contains infinity or a value too large for dtype('float32').\n",
      "Error in fitness_score: Input X contains infinity or a value too large for dtype('float32').\n",
      "Error in fitness_score: Input X contains infinity or a value too large for dtype('float32').\n",
      "Error in fitness_score: Input X contains infinity or a value too large for dtype('float32').\n",
      "Error in fitness_score: Input X contains infinity or a value too large for dtype('float32').\n",
      "Error in fitness_score: Input X contains infinity or a value too large for dtype('float32').\n",
      "Error in fitness_score: Input X contains infinity or a value too large for dtype('float32').\n",
      "Error in fitness_score: Input X contains infinity or a value too large for dtype('float32').\n",
      "Error in fitness_score: Input X contains infinity or a value too large for dtype('float32').\n",
      "Error in fitness_score: Input X contains infinity or a value too large for dtype('float32').\n",
      "Error in fitness_score: Input X contains infinity or a value too large for dtype('float32').\n",
      "Error in fitness_score: Input X contains infinity or a value too large for dtype('float32').\n",
      "Error in fitness_score: Input X contains infinity or a value too large for dtype('float32').\n",
      "Error in fitness_score: Input X contains infinity or a value too large for dtype('float32').\n",
      "Error in fitness_score: Input X contains infinity or a value too large for dtype('float32').\n",
      "Error in fitness_score: Input X contains infinity or a value too large for dtype('float32').\n",
      "Error in fitness_score: Input X contains infinity or a value too large for dtype('float32').\n",
      "Error in fitness_score: Input X contains infinity or a value too large for dtype('float32').\n",
      "Error in fitness_score: Input X contains infinity or a value too large for dtype('float32').\n",
      "Error in fitness_score: Input X contains infinity or a value too large for dtype('float32').\n",
      "Error in fitness_score: Input X contains infinity or a value too large for dtype('float32').\n",
      "Error in fitness_score: Input X contains infinity or a value too large for dtype('float32').\n",
      "Error in fitness_score: Input X contains infinity or a value too large for dtype('float32').\n",
      "Error in fitness_score: Input X contains infinity or a value too large for dtype('float32').\n",
      "Error in fitness_score: Input X contains infinity or a value too large for dtype('float32').\n",
      "Error in fitness_score: Input X contains infinity or a value too large for dtype('float32').\n",
      "Error in fitness_score: Input X contains infinity or a value too large for dtype('float32').\n",
      "Error in fitness_score: Input X contains infinity or a value too large for dtype('float32').\n",
      "Error in fitness_score: Input X contains infinity or a value too large for dtype('float32').\n",
      "Error in fitness_score: Input X contains infinity or a value too large for dtype('float32').\n",
      "Error in fitness_score: Input X contains infinity or a value too large for dtype('float32').\n",
      "Error in fitness_score: Input X contains infinity or a value too large for dtype('float32').\n",
      "Error in fitness_score: Input X contains infinity or a value too large for dtype('float32').\n",
      "Error in fitness_score: Input X contains infinity or a value too large for dtype('float32').\n",
      "Error in fitness_score: Input X contains infinity or a value too large for dtype('float32').\n",
      "Error in fitness_score: Input X contains infinity or a value too large for dtype('float32').\n",
      "Error in fitness_score: Input X contains infinity or a value too large for dtype('float32').\n",
      "Error in fitness_score: Input X contains infinity or a value too large for dtype('float32').\n",
      "Error in fitness_score: Input X contains infinity or a value too large for dtype('float32').\n",
      "Error in fitness_score: Input X contains infinity or a value too large for dtype('float32').\n",
      "Error in fitness_score: Input X contains infinity or a value too large for dtype('float32').\n",
      "Error in fitness_score: Input X contains infinity or a value too large for dtype('float32').\n",
      "Error in fitness_score: Input X contains infinity or a value too large for dtype('float32').\n",
      "Error in fitness_score: Input X contains infinity or a value too large for dtype('float32').\n",
      "Error in fitness_score: Input X contains infinity or a value too large for dtype('float32').\n",
      "Error in fitness_score: Input X contains infinity or a value too large for dtype('float32').\n",
      "Error in fitness_score: Input X contains infinity or a value too large for dtype('float32').\n",
      "Error in fitness_score: Input X contains infinity or a value too large for dtype('float32').\n",
      "Error in fitness_score: Input X contains infinity or a value too large for dtype('float32').\n",
      "Error in fitness_score: Input X contains infinity or a value too large for dtype('float32').\n",
      "Error in fitness_score: Input X contains infinity or a value too large for dtype('float32').\n",
      "Error in fitness_score: Input X contains infinity or a value too large for dtype('float32').\n",
      "Error in fitness_score: Input X contains infinity or a value too large for dtype('float32').\n",
      "Error in fitness_score: Input X contains infinity or a value too large for dtype('float32').\n",
      "Error in fitness_score: Input X contains infinity or a value too large for dtype('float32').\n",
      "Error in fitness_score: Input X contains infinity or a value too large for dtype('float32').\n",
      "Error in fitness_score: Input X contains infinity or a value too large for dtype('float32').\n",
      "Error in fitness_score: Input X contains infinity or a value too large for dtype('float32').\n",
      "Error in fitness_score: Input X contains infinity or a value too large for dtype('float32').\n",
      "Error in fitness_score: Input X contains infinity or a value too large for dtype('float32').\n",
      "Error in fitness_score: Input X contains infinity or a value too large for dtype('float32').\n",
      "Error in fitness_score: Input X contains infinity or a value too large for dtype('float32').\n",
      "Error in fitness_score: Input X contains infinity or a value too large for dtype('float32').\n",
      "Error in fitness_score: Input X contains infinity or a value too large for dtype('float32').\n",
      "Error in fitness_score: Input X contains infinity or a value too large for dtype('float32').\n",
      "Error in fitness_score: Input X contains infinity or a value too large for dtype('float32').\n",
      "Error in fitness_score: Input X contains infinity or a value too large for dtype('float32').\n",
      "Error in fitness_score: Input X contains infinity or a value too large for dtype('float32').\n"
     ]
    },
    {
     "name": "stderr",
     "output_type": "stream",
     "text": [
      "  4%|▍         | 1/25 [00:13<05:21, 13.39s/it]"
     ]
    },
    {
     "name": "stdout",
     "output_type": "stream",
     "text": [
      "Error in fitness_score: Input X contains infinity or a value too large for dtype('float32').\n",
      "Error in fitness_score: Input X contains infinity or a value too large for dtype('float32').\n",
      "Error in fitness_score: Input X contains infinity or a value too large for dtype('float32').\n",
      "Error in fitness_score: Input X contains infinity or a value too large for dtype('float32').\n",
      "Error in fitness_score: Input X contains infinity or a value too large for dtype('float32').\n",
      "Error in fitness_score: Input X contains infinity or a value too large for dtype('float32').\n",
      "Error in fitness_score: Input X contains infinity or a value too large for dtype('float32').\n",
      "Error in fitness_score: Input X contains infinity or a value too large for dtype('float32').\n",
      "Error in fitness_score: Input X contains infinity or a value too large for dtype('float32').\n",
      "Error in fitness_score: Input X contains infinity or a value too large for dtype('float32').\n",
      "Error in fitness_score: Input X contains infinity or a value too large for dtype('float32').\n",
      "Error in fitness_score: Input X contains infinity or a value too large for dtype('float32').\n",
      "Error in fitness_score: Input X contains infinity or a value too large for dtype('float32').\n",
      "Error in fitness_score: Input X contains infinity or a value too large for dtype('float32').\n",
      "Error in fitness_score: Input X contains infinity or a value too large for dtype('float32').\n",
      "Error in fitness_score: Input X contains infinity or a value too large for dtype('float32').\n",
      "Error in fitness_score: Input X contains infinity or a value too large for dtype('float32').\n",
      "Error in fitness_score: Input X contains infinity or a value too large for dtype('float32').\n",
      "Error in fitness_score: Input X contains infinity or a value too large for dtype('float32').\n",
      "Error in fitness_score: Input X contains infinity or a value too large for dtype('float32').\n",
      "Error in fitness_score: Input X contains infinity or a value too large for dtype('float32').\n",
      "Error in fitness_score: Input X contains infinity or a value too large for dtype('float32').\n",
      "Error in fitness_score: Input X contains infinity or a value too large for dtype('float32').\n",
      "Error in fitness_score: Input X contains infinity or a value too large for dtype('float32').\n",
      "Error in fitness_score: Input X contains infinity or a value too large for dtype('float32').\n",
      "Error in fitness_score: Input X contains infinity or a value too large for dtype('float32').\n",
      "Error in fitness_score: Input X contains infinity or a value too large for dtype('float32').\n",
      "Error in fitness_score: Input X contains infinity or a value too large for dtype('float32').\n",
      "Error in fitness_score: Input X contains infinity or a value too large for dtype('float32').\n",
      "Error in fitness_score: Input X contains infinity or a value too large for dtype('float32').\n",
      "Error in fitness_score: Input X contains infinity or a value too large for dtype('float32').\n",
      "Error in fitness_score: Input X contains infinity or a value too large for dtype('float32').\n",
      "Error in fitness_score: Input X contains infinity or a value too large for dtype('float32').\n",
      "Error in fitness_score: Input X contains infinity or a value too large for dtype('float32').\n",
      "Error in fitness_score: Input X contains infinity or a value too large for dtype('float32').\n",
      "Error in fitness_score: Input X contains infinity or a value too large for dtype('float32').\n",
      "Error in fitness_score: Input X contains infinity or a value too large for dtype('float32').\n",
      "Error in fitness_score: Input X contains infinity or a value too large for dtype('float32').\n",
      "Error in fitness_score: Input X contains infinity or a value too large for dtype('float32').\n",
      "Error in fitness_score: Input X contains infinity or a value too large for dtype('float32').\n",
      "Error in fitness_score: Input X contains infinity or a value too large for dtype('float32').\n",
      "Error in fitness_score: Input X contains infinity or a value too large for dtype('float32').\n",
      "Error in fitness_score: Input X contains infinity or a value too large for dtype('float32').\n",
      "Error in fitness_score: Input X contains infinity or a value too large for dtype('float32').\n",
      "Error in fitness_score: Input X contains infinity or a value too large for dtype('float32').\n",
      "Error in fitness_score: Input X contains infinity or a value too large for dtype('float32').\n",
      "Error in fitness_score: Input X contains infinity or a value too large for dtype('float32').\n",
      "Error in fitness_score: Input X contains infinity or a value too large for dtype('float32').\n",
      "Error in fitness_score: Input X contains infinity or a value too large for dtype('float32').\n",
      "Error in fitness_score: Input X contains infinity or a value too large for dtype('float32').\n",
      "Error in fitness_score: Input X contains infinity or a value too large for dtype('float32').\n",
      "Error in fitness_score: Input X contains infinity or a value too large for dtype('float32').\n",
      "Error in fitness_score: Input X contains infinity or a value too large for dtype('float32').\n",
      "Error in fitness_score: Input X contains infinity or a value too large for dtype('float32').\n",
      "Error in fitness_score: Input X contains infinity or a value too large for dtype('float32').\n",
      "Error in fitness_score: Input X contains infinity or a value too large for dtype('float32').\n",
      "Error in fitness_score: Input X contains infinity or a value too large for dtype('float32').\n",
      "Error in fitness_score: Input X contains infinity or a value too large for dtype('float32').\n",
      "Error in fitness_score: Input X contains infinity or a value too large for dtype('float32').\n",
      "Error in fitness_score: Input X contains infinity or a value too large for dtype('float32').\n",
      "Error in fitness_score: Input X contains infinity or a value too large for dtype('float32').\n",
      "Error in fitness_score: Input X contains infinity or a value too large for dtype('float32').\n",
      "Error in fitness_score: Input X contains infinity or a value too large for dtype('float32').\n",
      "Error in fitness_score: Input X contains infinity or a value too large for dtype('float32').\n",
      "Error in fitness_score: Input X contains infinity or a value too large for dtype('float32').\n",
      "Error in fitness_score: Input X contains infinity or a value too large for dtype('float32').\n",
      "Error in fitness_score: Input X contains infinity or a value too large for dtype('float32').\n",
      "Error in fitness_score: Input X contains infinity or a value too large for dtype('float32').\n",
      "Error in fitness_score: Input X contains infinity or a value too large for dtype('float32').\n",
      "Error in fitness_score: Input X contains infinity or a value too large for dtype('float32').\n",
      "Error in fitness_score: Input X contains infinity or a value too large for dtype('float32').\n",
      "Error in fitness_score: Input X contains infinity or a value too large for dtype('float32').\n",
      "Error in fitness_score: Input X contains infinity or a value too large for dtype('float32').\n",
      "Error in fitness_score: Input X contains infinity or a value too large for dtype('float32').\n",
      "Error in fitness_score: Input X contains infinity or a value too large for dtype('float32').\n",
      "Error in fitness_score: Input X contains infinity or a value too large for dtype('float32').\n",
      "Error in fitness_score: Input X contains infinity or a value too large for dtype('float32').\n",
      "Error in fitness_score: Input X contains infinity or a value too large for dtype('float32').\n",
      "Error in fitness_score: Input X contains infinity or a value too large for dtype('float32').\n",
      "Error in fitness_score: Input X contains infinity or a value too large for dtype('float32').\n",
      "Error in fitness_score: Input X contains infinity or a value too large for dtype('float32').\n",
      "Error in fitness_score: Input X contains infinity or a value too large for dtype('float32').\n",
      "Error in fitness_score: Input X contains infinity or a value too large for dtype('float32').\n",
      "Error in fitness_score: Input X contains infinity or a value too large for dtype('float32').\n",
      "Error in fitness_score: Input X contains infinity or a value too large for dtype('float32').\n",
      "Error in fitness_score: Input X contains infinity or a value too large for dtype('float32').\n",
      "Error in fitness_score: Input X contains infinity or a value too large for dtype('float32').\n",
      "Error in fitness_score: Input X contains infinity or a value too large for dtype('float32').\n",
      "Error in fitness_score: Input X contains infinity or a value too large for dtype('float32').\n",
      "Error in fitness_score: Input X contains infinity or a value too large for dtype('float32').\n",
      "Error in fitness_score: Input X contains infinity or a value too large for dtype('float32').\n",
      "Error in fitness_score: Input X contains infinity or a value too large for dtype('float32').\n",
      "Error in fitness_score: Input X contains infinity or a value too large for dtype('float32').\n",
      "Error in fitness_score: Input X contains infinity or a value too large for dtype('float32').\n",
      "Error in fitness_score: Input X contains infinity or a value too large for dtype('float32').\n",
      "Error in fitness_score: Input X contains infinity or a value too large for dtype('float32').\n",
      "Error in fitness_score: Input X contains infinity or a value too large for dtype('float32').\n",
      "Error in fitness_score: Input X contains infinity or a value too large for dtype('float32').\n",
      "Error in fitness_score: Input X contains infinity or a value too large for dtype('float32').\n",
      "Error in fitness_score: Input X contains infinity or a value too large for dtype('float32').\n",
      "Error in fitness_score: Input X contains infinity or a value too large for dtype('float32').\n",
      "Error in fitness_score: Input X contains infinity or a value too large for dtype('float32').\n",
      "Error in fitness_score: Input X contains infinity or a value too large for dtype('float32').\n",
      "Error in fitness_score: Input X contains infinity or a value too large for dtype('float32').\n",
      "Error in fitness_score: Input X contains infinity or a value too large for dtype('float32').\n",
      "Error in fitness_score: Input X contains infinity or a value too large for dtype('float32').\n",
      "Error in fitness_score: Input X contains infinity or a value too large for dtype('float32').\n",
      "Error in fitness_score: Input X contains infinity or a value too large for dtype('float32').\n",
      "Error in fitness_score: Input X contains infinity or a value too large for dtype('float32').\n",
      "Error in fitness_score: Input X contains infinity or a value too large for dtype('float32').\n",
      "Error in fitness_score: Input X contains infinity or a value too large for dtype('float32').\n",
      "Error in fitness_score: Input X contains infinity or a value too large for dtype('float32').\n",
      "Error in fitness_score: Input X contains infinity or a value too large for dtype('float32').\n",
      "Error in fitness_score: Input X contains infinity or a value too large for dtype('float32').\n",
      "Error in fitness_score: Input X contains infinity or a value too large for dtype('float32').\n",
      "Error in fitness_score: Input X contains infinity or a value too large for dtype('float32').\n",
      "Error in fitness_score: Input X contains infinity or a value too large for dtype('float32').\n",
      "Error in fitness_score: Input X contains infinity or a value too large for dtype('float32').\n",
      "Error in fitness_score: Input X contains infinity or a value too large for dtype('float32').\n",
      "Error in fitness_score: Input X contains infinity or a value too large for dtype('float32').\n",
      "Error in fitness_score: Input X contains infinity or a value too large for dtype('float32').\n"
     ]
    },
    {
     "name": "stderr",
     "output_type": "stream",
     "text": [
      "  8%|▊         | 2/25 [00:26<04:58, 12.97s/it]"
     ]
    },
    {
     "name": "stdout",
     "output_type": "stream",
     "text": [
      "Error in fitness_score: Input X contains infinity or a value too large for dtype('float32').\n",
      "Error in fitness_score: Input X contains infinity or a value too large for dtype('float32').\n",
      "Error in fitness_score: Input X contains infinity or a value too large for dtype('float32').\n",
      "Error in fitness_score: Input X contains infinity or a value too large for dtype('float32').\n",
      "Error in fitness_score: Input X contains infinity or a value too large for dtype('float32').\n",
      "Error in fitness_score: Input X contains infinity or a value too large for dtype('float32').\n",
      "Error in fitness_score: Input X contains infinity or a value too large for dtype('float32').\n",
      "Error in fitness_score: Input X contains infinity or a value too large for dtype('float32').\n",
      "Error in fitness_score: Input X contains infinity or a value too large for dtype('float32').\n",
      "Error in fitness_score: Input X contains infinity or a value too large for dtype('float32').\n",
      "Error in fitness_score: Input X contains infinity or a value too large for dtype('float32').\n",
      "Error in fitness_score: Input X contains infinity or a value too large for dtype('float32').\n",
      "Error in fitness_score: Input X contains infinity or a value too large for dtype('float32').\n",
      "Error in fitness_score: Input X contains infinity or a value too large for dtype('float32').\n",
      "Error in fitness_score: Input X contains infinity or a value too large for dtype('float32').\n"
     ]
    },
    {
     "name": "stderr",
     "output_type": "stream",
     "text": [
      " 12%|█▏        | 3/25 [00:43<05:28, 14.95s/it]"
     ]
    },
    {
     "name": "stdout",
     "output_type": "stream",
     "text": [
      "Error in fitness_score: Input X contains infinity or a value too large for dtype('float32').\n",
      "Error in fitness_score: Input X contains infinity or a value too large for dtype('float32').\n",
      "Error in fitness_score: Input X contains infinity or a value too large for dtype('float32').\n",
      "Error in fitness_score: Input X contains infinity or a value too large for dtype('float32').\n",
      "Error in fitness_score: Input X contains infinity or a value too large for dtype('float32').\n",
      "Error in fitness_score: Input X contains infinity or a value too large for dtype('float32').\n",
      "Error in fitness_score: Input X contains infinity or a value too large for dtype('float32').\n",
      "Error in fitness_score: Input X contains infinity or a value too large for dtype('float32').\n",
      "Error in fitness_score: Input X contains infinity or a value too large for dtype('float32').\n",
      "Error in fitness_score: Input X contains infinity or a value too large for dtype('float32').\n"
     ]
    },
    {
     "name": "stderr",
     "output_type": "stream",
     "text": [
      " 16%|█▌        | 4/25 [01:00<05:29, 15.70s/it]"
     ]
    },
    {
     "name": "stdout",
     "output_type": "stream",
     "text": [
      "Error in fitness_score: Input X contains infinity or a value too large for dtype('float32').\n",
      "Error in fitness_score: Input X contains infinity or a value too large for dtype('float32').\n"
     ]
    },
    {
     "name": "stderr",
     "output_type": "stream",
     "text": [
      " 20%|██        | 5/25 [01:17<05:24, 16.23s/it]"
     ]
    },
    {
     "name": "stdout",
     "output_type": "stream",
     "text": [
      "Error in fitness_score: Input X contains infinity or a value too large for dtype('float32').\n",
      "Error in fitness_score: Input X contains infinity or a value too large for dtype('float32').\n",
      "Error in fitness_score: Input X contains infinity or a value too large for dtype('float32').\n",
      "Error in fitness_score: Input X contains infinity or a value too large for dtype('float32').\n",
      "Error in fitness_score: Input X contains infinity or a value too large for dtype('float32').\n",
      "Error in fitness_score: Input X contains infinity or a value too large for dtype('float32').\n"
     ]
    },
    {
     "name": "stderr",
     "output_type": "stream",
     "text": [
      " 32%|███▏      | 8/25 [02:16<05:08, 18.12s/it]"
     ]
    },
    {
     "name": "stdout",
     "output_type": "stream",
     "text": [
      "Error in fitness_score: Input X contains infinity or a value too large for dtype('float32').\n",
      "Error in fitness_score: Input X contains infinity or a value too large for dtype('float32').\n",
      "Error in fitness_score: Input X contains infinity or a value too large for dtype('float32').\n",
      "Error in fitness_score: Input X contains infinity or a value too large for dtype('float32').\n"
     ]
    },
    {
     "name": "stderr",
     "output_type": "stream",
     "text": [
      " 36%|███▌      | 9/25 [02:32<04:38, 17.38s/it]"
     ]
    },
    {
     "name": "stdout",
     "output_type": "stream",
     "text": [
      "Error in fitness_score: Input X contains infinity or a value too large for dtype('float32').\n",
      "Error in fitness_score: Input X contains infinity or a value too large for dtype('float32').\n",
      "Error in fitness_score: Input X contains infinity or a value too large for dtype('float32').\n",
      "Error in fitness_score: Input X contains infinity or a value too large for dtype('float32').\n"
     ]
    },
    {
     "name": "stderr",
     "output_type": "stream",
     "text": [
      " 40%|████      | 10/25 [02:47<04:09, 16.65s/it]"
     ]
    },
    {
     "name": "stdout",
     "output_type": "stream",
     "text": [
      "Error in fitness_score: Input X contains infinity or a value too large for dtype('float32').\n",
      "Error in fitness_score: Input X contains infinity or a value too large for dtype('float32').\n",
      "Error in fitness_score: Input X contains infinity or a value too large for dtype('float32').\n",
      "Error in fitness_score: Input X contains infinity or a value too large for dtype('float32').\n",
      "Error in fitness_score: Input X contains infinity or a value too large for dtype('float32').\n",
      "Error in fitness_score: Input X contains infinity or a value too large for dtype('float32').\n"
     ]
    },
    {
     "name": "stderr",
     "output_type": "stream",
     "text": [
      " 44%|████▍     | 11/25 [03:03<03:49, 16.42s/it]"
     ]
    },
    {
     "name": "stdout",
     "output_type": "stream",
     "text": [
      "Error in fitness_score: Input X contains infinity or a value too large for dtype('float32').\n",
      "Error in fitness_score: Input X contains infinity or a value too large for dtype('float32').\n",
      "Error in fitness_score: Input X contains infinity or a value too large for dtype('float32').\n",
      "Error in fitness_score: Input X contains infinity or a value too large for dtype('float32').\n"
     ]
    },
    {
     "name": "stderr",
     "output_type": "stream",
     "text": [
      " 48%|████▊     | 12/25 [03:17<03:21, 15.52s/it]"
     ]
    },
    {
     "name": "stdout",
     "output_type": "stream",
     "text": [
      "Error in fitness_score: Input X contains infinity or a value too large for dtype('float32').\n",
      "Error in fitness_score: Input X contains infinity or a value too large for dtype('float32').\n",
      "Error in fitness_score: Input X contains infinity or a value too large for dtype('float32').\n",
      "Error in fitness_score: Input X contains infinity or a value too large for dtype('float32').\n",
      "Error in fitness_score: Input X contains infinity or a value too large for dtype('float32').\n",
      "Error in fitness_score: Input X contains infinity or a value too large for dtype('float32').\n"
     ]
    },
    {
     "name": "stderr",
     "output_type": "stream",
     "text": [
      " 60%|██████    | 15/25 [04:06<02:48, 16.83s/it]"
     ]
    },
    {
     "name": "stdout",
     "output_type": "stream",
     "text": [
      "Error in fitness_score: Input X contains infinity or a value too large for dtype('float32').\n",
      "Error in fitness_score: Input X contains infinity or a value too large for dtype('float32').\n",
      "Error in fitness_score: Input X contains infinity or a value too large for dtype('float32').\n",
      "Error in fitness_score: Input X contains infinity or a value too large for dtype('float32').\n"
     ]
    },
    {
     "name": "stderr",
     "output_type": "stream",
     "text": [
      " 64%|██████▍   | 16/25 [04:28<02:46, 18.46s/it]"
     ]
    },
    {
     "name": "stdout",
     "output_type": "stream",
     "text": [
      "Error in fitness_score: Input X contains infinity or a value too large for dtype('float32').\n",
      "Error in fitness_score: Input X contains infinity or a value too large for dtype('float32').\n",
      "Error in fitness_score: Input X contains infinity or a value too large for dtype('float32').\n",
      "Error in fitness_score: Input X contains infinity or a value too large for dtype('float32').\n",
      "Error in fitness_score: Input X contains infinity or a value too large for dtype('float32').\n",
      "Error in fitness_score: Input X contains infinity or a value too large for dtype('float32').\n"
     ]
    },
    {
     "name": "stderr",
     "output_type": "stream",
     "text": [
      " 72%|███████▏  | 18/25 [05:01<02:02, 17.56s/it]"
     ]
    },
    {
     "name": "stdout",
     "output_type": "stream",
     "text": [
      "Error in fitness_score: Input X contains infinity or a value too large for dtype('float32').\n",
      "Error in fitness_score: Input X contains infinity or a value too large for dtype('float32').\n",
      "Error in fitness_score: Input X contains infinity or a value too large for dtype('float32').\n",
      "Error in fitness_score: Input X contains infinity or a value too large for dtype('float32').\n"
     ]
    },
    {
     "name": "stderr",
     "output_type": "stream",
     "text": [
      " 76%|███████▌  | 19/25 [05:17<01:42, 17.15s/it]"
     ]
    },
    {
     "name": "stdout",
     "output_type": "stream",
     "text": [
      "Error in fitness_score: Input X contains infinity or a value too large for dtype('float32').\n",
      "Error in fitness_score: Input X contains infinity or a value too large for dtype('float32').\n"
     ]
    },
    {
     "name": "stderr",
     "output_type": "stream",
     "text": [
      " 80%|████████  | 20/25 [05:37<01:29, 17.92s/it]"
     ]
    },
    {
     "name": "stdout",
     "output_type": "stream",
     "text": [
      "Error in fitness_score: Input X contains infinity or a value too large for dtype('float32').\n",
      "Error in fitness_score: Input X contains infinity or a value too large for dtype('float32').\n",
      "Error in fitness_score: Input X contains infinity or a value too large for dtype('float32').\n",
      "Error in fitness_score: Input X contains infinity or a value too large for dtype('float32').\n",
      "Error in fitness_score: Input X contains infinity or a value too large for dtype('float32').\n",
      "Error in fitness_score: Input X contains infinity or a value too large for dtype('float32').\n"
     ]
    },
    {
     "name": "stderr",
     "output_type": "stream",
     "text": [
      " 84%|████████▍ | 21/25 [05:53<01:09, 17.46s/it]"
     ]
    },
    {
     "name": "stdout",
     "output_type": "stream",
     "text": [
      "Error in fitness_score: Input X contains infinity or a value too large for dtype('float32').\n",
      "Error in fitness_score: Input X contains infinity or a value too large for dtype('float32').\n"
     ]
    },
    {
     "name": "stderr",
     "output_type": "stream",
     "text": [
      " 88%|████████▊ | 22/25 [06:17<00:58, 19.34s/it]"
     ]
    },
    {
     "name": "stdout",
     "output_type": "stream",
     "text": [
      "Error in fitness_score: Input X contains infinity or a value too large for dtype('float32').\n",
      "Error in fitness_score: Input X contains infinity or a value too large for dtype('float32').\n"
     ]
    },
    {
     "name": "stderr",
     "output_type": "stream",
     "text": [
      " 92%|█████████▏| 23/25 [06:36<00:38, 19.34s/it]"
     ]
    },
    {
     "name": "stdout",
     "output_type": "stream",
     "text": [
      "Error in fitness_score: Input X contains infinity or a value too large for dtype('float32').\n",
      "Error in fitness_score: Input X contains infinity or a value too large for dtype('float32').\n",
      "Error in fitness_score: Input X contains infinity or a value too large for dtype('float32').\n",
      "Error in fitness_score: Input X contains infinity or a value too large for dtype('float32').\n"
     ]
    },
    {
     "name": "stderr",
     "output_type": "stream",
     "text": [
      " 96%|█████████▌| 24/25 [06:51<00:18, 18.20s/it]"
     ]
    },
    {
     "name": "stdout",
     "output_type": "stream",
     "text": [
      "Error in fitness_score: Input X contains infinity or a value too large for dtype('float32').\n",
      "Error in fitness_score: Input X contains infinity or a value too large for dtype('float32').\n"
     ]
    },
    {
     "name": "stderr",
     "output_type": "stream",
     "text": [
      "100%|██████████| 25/25 [07:05<00:00, 17.02s/it]\n"
     ]
    },
    {
     "name": "stdout",
     "output_type": "stream",
     "text": [
      "['Dst Port', 'Protocol', 'Tot Fwd Pkts', 'Tot Bwd Pkts', 'TotLen Bwd Pkts', 'Fwd Pkt Len Max', 'Fwd Pkt Len Min', 'Fwd Pkt Len Std', 'Bwd Pkt Len Min', 'Bwd Pkt Len Mean', 'Flow Byts/s', 'Flow IAT Max', 'Fwd IAT Tot', 'Fwd IAT Mean', 'Fwd IAT Std', 'Fwd IAT Max', 'Fwd IAT Min', 'Bwd IAT Mean', 'Bwd IAT Std', 'Bwd IAT Max', 'Bwd IAT Min', 'Bwd PSH Flags', 'Fwd Header Len', 'Bwd Header Len', 'Fwd Pkts/s', 'Pkt Len Max', 'Pkt Len Std', 'SYN Flag Cnt', 'RST Flag Cnt', 'PSH Flag Cnt', 'ACK Flag Cnt', 'Down/Up Ratio', 'Fwd Seg Size Avg', 'Subflow Bwd Byts', 'Init Bwd Win Byts', 'Active Mean', 'Active Max', 'Idle Mean', 'Idle Std', 'Idle Min', 'Label']\n",
      "    Dataset      SW    T    CV  ML      Acc    b_Acc    Prec    Rec     F1    kap    ROC    tra-T    test-T\n",
      "--  ---------  ----  ---  ----  ----  -----  -------  ------  -----  -----  -----  -----  -------  --------\n",
      " 0  OS            5    1     0  ET    0.962    0.951   0.798  0.951  0.856  0.713  0.951    0.004     0.01\n",
      " 1  OS            5    1     1  ET    0.982    0.964   0.886  0.964  0.921  0.842  0.964    0.003     0.015\n",
      " 2  OS            5    1     2  ET    0.979    0.978   0.863  0.978  0.911  0.823  0.978    0.003     0.013\n",
      " 3  OS            5    1     3  ET    0.974    0.966   0.842  0.966  0.893  0.786  0.966    0.002     0.013\n",
      " 4  OS            5    1     4  ET    0.955    0.708   0.798  0.708  0.743  0.488  0.708    0.002     0.01\n",
      " 5  OS            5    1     5  ET    0.985    0.974   0.902  0.974  0.935  0.869  0.974    0.002     0.012\n",
      " 6  OS            5    1     6  ET    0.972    0.878   0.858  0.878  0.868  0.736  0.878    0.004     0.011\n",
      " 7  OS            5    1     7  ET    0.962    0.957   0.797  0.957  0.856  0.714  0.957    0.003     0.013\n",
      " 8  OS            5    1     8  ET    0.984    0.968   0.899  0.968  0.93   0.86   0.968    0.002     0.012\n",
      " 9  OS            5    1     9  ET    0.976    0.98    0.85   0.98   0.903  0.806  0.98     0.002     0.008\n",
      "\n",
      "                precision    recall    f1-score       support\n",
      "------------  -----------  --------  ----------  ------------\n",
      "Benign           0.705097  0.886566    0.777555   1995\n",
      "OS               0.993428  0.978085    0.985643  34369\n",
      "accuracy         0.973064  0.973064    0.973064      0.973064\n",
      "macro avg        0.849262  0.932326    0.881599  36364\n",
      "weighted avg     0.977609  0.973064    0.974227  36364\n"
     ]
    },
    {
     "data": {
      "image/png": "[encoded data removed]",
      "text/plain": [
       "<Figure size 500x350 with 2 Axes>"
      ]
     },
     "metadata": {},
     "output_type": "display_data"
    },
    {
     "name": "stdout",
     "output_type": "stream",
     "text": [
      "\n",
      "\n",
      "\n",
      "\n",
      "SCHD\n"
     ]
    },
    {
     "name": "stderr",
     "output_type": "stream",
     "text": [
      "100%|██████████| 25/25 [01:31<00:00,  3.65s/it]\n"
     ]
    },
    {
     "name": "stdout",
     "output_type": "stream",
     "text": [
      "['Dst Port', 'Tot Fwd Pkts', 'Tot Bwd Pkts', 'TotLen Bwd Pkts', 'Fwd Pkt Len Min', 'Fwd Pkt Len Std', 'Bwd Pkt Len Max', 'Bwd Pkt Len Min', 'Bwd Pkt Len Mean', 'Bwd Pkt Len Std', 'Flow IAT Mean', 'Flow IAT Std', 'Flow IAT Max', 'Fwd IAT Tot', 'Fwd IAT Mean', 'Fwd IAT Min', 'Bwd IAT Tot', 'Bwd IAT Std', 'Bwd PSH Flags', 'Fwd Header Len', 'Pkt Len Std', 'Pkt Len Var', 'FIN Flag Cnt', 'SYN Flag Cnt', 'PSH Flag Cnt', 'Pkt Size Avg', 'Fwd Seg Size Avg', 'Bwd Seg Size Avg', 'Subflow Bwd Pkts', 'Subflow Bwd Byts', 'Init Bwd Win Byts', 'Active Mean', 'Active Std', 'Idle Std', 'Label']\n",
      "    Dataset      SW    T    CV  ML      Acc    b_Acc    Prec    Rec     F1    kap    ROC    tra-T    test-T\n",
      "--  ---------  ----  ---  ----  ----  -----  -------  ------  -----  -----  -----  -----  -------  --------\n",
      " 0  SCHD          5    1     0  ET    1        1       1      1      1      1      1        0.001     0.001\n",
      " 1  SCHD          5    1     1  ET    1        1       1      1      1      1      1        0.002     0\n",
      " 2  SCHD          5    1     2  ET    1        1       1      1      1      1      1        0.005     0.001\n",
      " 3  SCHD          5    1     3  ET    1        1       1      1      1      1      1        0.002     0\n",
      " 4  SCHD          5    1     4  ET    1        1       1      1      1      1      1        0.001     0.001\n",
      " 5  SCHD          5    1     5  ET    0.955    0.976   0.786  0.976  0.851  0.705  0.976    0.002     0\n",
      " 6  SCHD          5    1     6  ET    1        1       1      1      1      1      1        0.002     0\n",
      " 7  SCHD          5    1     7  ET    0.999    0.999   0.992  0.999  0.996  0.992  0.999    0.002     0\n",
      " 8  SCHD          5    1     8  ET    0.947    0.943   0.766  0.943  0.827  0.655  0.943    0.002     0.001\n",
      " 9  SCHD          5    1     9  ET    0.999    0.999   0.992  0.999  0.996  0.992  0.999    0.002     0.001\n",
      "\n",
      "                precision    recall    f1-score      support\n",
      "------------  -----------  --------  ----------  -----------\n",
      "Benign           0.907637  0.99375     0.939359    64\n",
      "SCHD             0.999579  0.989769    0.994555   997\n",
      "accuracy         0.990009  0.990009    0.990009     0.990009\n",
      "macro avg        0.953608  0.99176     0.966957  1061\n",
      "weighted avg     0.994033  0.990009    0.991226  1061\n"
     ]
    },
    {
     "data": {
      "image/png": "[encoded data removed]",
      "text/plain": [
       "<Figure size 500x350 with 2 Axes>"
      ]
     },
     "metadata": {},
     "output_type": "display_data"
    },
    {
     "name": "stdout",
     "output_type": "stream",
     "text": [
      "\n",
      "\n",
      "\n",
      "\n",
      "MHDis\n"
     ]
    },
    {
     "name": "stderr",
     "output_type": "stream",
     "text": [
      "100%|██████████| 25/25 [01:21<00:00,  3.27s/it]\n"
     ]
    },
    {
     "name": "stdout",
     "output_type": "stream",
     "text": [
      "['Src Port', 'Dst Port', 'Flow Duration', 'Tot Fwd Pkts', 'Tot Bwd Pkts', 'TotLen Bwd Pkts', 'Fwd Pkt Len Max', 'Fwd Pkt Len Mean', 'Fwd Pkt Len Std', 'Bwd Pkt Len Max', 'Bwd Pkt Len Mean', 'Bwd Pkt Len Std', 'Flow IAT Std', 'Fwd IAT Tot', 'Fwd IAT Mean', 'Fwd IAT Max', 'Fwd IAT Min', 'Bwd IAT Mean', 'Bwd IAT Min', 'Bwd Header Len', 'Fwd Pkts/s', 'Pkt Len Max', 'Pkt Len Mean', 'Pkt Len Std', 'Pkt Len Var', 'Fwd Seg Size Avg', 'Subflow Fwd Pkts', 'Subflow Bwd Pkts', 'Init Bwd Win Byts', 'Fwd Act Data Pkts', 'Idle Std', 'Idle Min', 'Label']\n",
      "    Dataset      SW    T    CV  ML      Acc    b_Acc    Prec    Rec     F1    kap    ROC    tra-T    test-T\n",
      "--  ---------  ----  ---  ----  ----  -----  -------  ------  -----  -----  -----  -----  -------  --------\n",
      " 0  MHDis         5    1     0  ET    0.603    0.562   0.619  0.562  0.524  0.134  0.562    0.003     0\n",
      " 1  MHDis         5    1     1  ET    0.594    0.551   0.609  0.551  0.504  0.11   0.551    0.001     0\n",
      " 2  MHDis         5    1     2  ET    0.611    0.571   0.641  0.571  0.531  0.152  0.571    0.002     0.001\n",
      " 3  MHDis         5    1     3  ET    0.584    0.542   0.588  0.542  0.493  0.09   0.542    0.002     0\n",
      " 4  MHDis         5    1     4  ET    0.612    0.571   0.644  0.571  0.531  0.153  0.571    0.002     0\n",
      " 5  MHDis         5    1     5  ET    0.616    0.573   0.656  0.573  0.531  0.158  0.573    0.003     0.001\n",
      " 6  MHDis         5    1     6  ET    0.615    0.572   0.655  0.572  0.529  0.156  0.572    0.002     0.001\n",
      " 7  MHDis         5    1     7  ET    0.612    0.57    0.65   0.57   0.526  0.151  0.57     0.002     0\n",
      " 8  MHDis         5    1     8  ET    0.615    0.574   0.648  0.574  0.534  0.159  0.574    0.003     0.001\n",
      " 9  MHDis         5    1     9  ET    0.61     0.568   0.64   0.568  0.527  0.147  0.568    0.001     0.001\n",
      "\n",
      "                precision    recall    f1-score      support\n",
      "------------  -----------  --------  ----------  -----------\n",
      "Benign           0.596445  0.918786    0.72332    692\n",
      "MHDis            0.673395  0.212088    0.322468   546\n",
      "accuracy         0.607108  0.607108    0.607108     0.607108\n",
      "macro avg        0.63492   0.565437    0.522894  1238\n",
      "weighted avg     0.630382  0.607108    0.546531  1238\n"
     ]
    },
    {
     "data": {
      "image/png": "[encoded data removed]",
      "text/plain": [
       "<Figure size 500x350 with 2 Axes>"
      ]
     },
     "metadata": {},
     "output_type": "display_data"
    },
    {
     "name": "stdout",
     "output_type": "stream",
     "text": [
      "\n",
      "\n",
      "\n",
      "\n"
     ]
    }
   ],
   "source": [
    "for file in file_list:\n",
    "        print(file)\n",
    "        features=feature_list[file]\n",
    "        train=file_list[file][0]\n",
    "        test=file_list[file][1]\n",
    "        feature,_=GA(train,test,features,gen_number=25,outputcsv=f\"./results/afterGA/{file}_ET_chosed_GA_output.csv\")\n",
    "\n",
    "        print(feature)\n",
    "        GA_output[file]=feature\n",
    "        output_csv=f\"./results/afterGA/{file}_chosed_output_ML_.csv\"\n",
    "        target_names=[\"Benign\",file]\n",
    "        ML_CV(train,test,output_csv,feature,file,5)   "
   ]
  },
  {
   "cell_type": "code",
   "execution_count": 37,
   "metadata": {},
   "outputs": [],
   "source": [
    "with open('GA_output_ET.json', 'w') as fp:\n",
    "    json.dump(GA_output, fp)"
   ]
  },
  {
   "cell_type": "code",
   "execution_count": 38,
   "metadata": {},
   "outputs": [],
   "source": [
    "#!shutdown /s /t 360"
   ]
  },
  {
   "cell_type": "code",
   "execution_count": 39,
   "metadata": {},
   "outputs": [
    {
     "data": {
      "text/plain": [
       "{'SYN': ['Src Port',\n",
       "  'Tot Fwd Pkts',\n",
       "  'Tot Bwd Pkts',\n",
       "  'TotLen Bwd Pkts',\n",
       "  'Fwd Pkt Len Max',\n",
       "  'Bwd Pkt Len Max',\n",
       "  'Bwd Pkt Len Min',\n",
       "  'Bwd Pkt Len Mean',\n",
       "  'Bwd Pkt Len Std',\n",
       "  'Flow IAT Mean',\n",
       "  'Flow IAT Std',\n",
       "  'Flow IAT Max',\n",
       "  'Flow IAT Min',\n",
       "  'Fwd IAT Tot',\n",
       "  'Fwd IAT Mean',\n",
       "  'Fwd IAT Max',\n",
       "  'Fwd IAT Min',\n",
       "  'Bwd IAT Max',\n",
       "  'Fwd Pkts/s',\n",
       "  'Bwd Pkts/s',\n",
       "  'Pkt Len Max',\n",
       "  'Pkt Len Std',\n",
       "  'SYN Flag Cnt',\n",
       "  'PSH Flag Cnt',\n",
       "  'Pkt Size Avg',\n",
       "  'Subflow Fwd Pkts',\n",
       "  'Subflow Fwd Byts',\n",
       "  'Subflow Bwd Byts',\n",
       "  'Fwd Act Data Pkts',\n",
       "  'Active Std',\n",
       "  'Active Max',\n",
       "  'Idle Mean',\n",
       "  'Idle Std',\n",
       "  'Idle Max',\n",
       "  'Idle Min',\n",
       "  'Label'],\n",
       " 'HTTP': ['Dst Port',\n",
       "  'Flow Duration',\n",
       "  'Flow Pkts/s',\n",
       "  'Flow IAT Max',\n",
       "  'Fwd IAT Tot',\n",
       "  'Fwd IAT Min',\n",
       "  'Fwd Pkts/s',\n",
       "  'FIN Flag Cnt',\n",
       "  'SYN Flag Cnt',\n",
       "  'Label'],\n",
       " 'ACK': ['TotLen Bwd Pkts',\n",
       "  'Fwd Pkt Len Max',\n",
       "  'Fwd Pkt Len Mean',\n",
       "  'Fwd Pkt Len Std',\n",
       "  'Flow Byts/s',\n",
       "  'Flow IAT Std',\n",
       "  'Fwd IAT Tot',\n",
       "  'Fwd IAT Mean',\n",
       "  'Fwd IAT Std',\n",
       "  'Fwd IAT Max',\n",
       "  'Fwd IAT Min',\n",
       "  'Bwd IAT Std',\n",
       "  'Pkt Len Mean',\n",
       "  'Pkt Len Std',\n",
       "  'Pkt Len Var',\n",
       "  'SYN Flag Cnt',\n",
       "  'ACK Flag Cnt',\n",
       "  'Fwd Seg Size Avg',\n",
       "  'Bwd Seg Size Avg',\n",
       "  'Subflow Fwd Byts',\n",
       "  'Subflow Bwd Byts',\n",
       "  'Fwd Act Data Pkts',\n",
       "  'Label'],\n",
       " 'UDP': ['Src Port', 'Fwd IAT Std', 'Label'],\n",
       " 'ARP': ['Src Port',\n",
       "  'Dst Port',\n",
       "  'Protocol',\n",
       "  'Flow Duration',\n",
       "  'Tot Bwd Pkts',\n",
       "  'TotLen Bwd Pkts',\n",
       "  'Fwd Pkt Len Max',\n",
       "  'Fwd Pkt Len Min',\n",
       "  'Fwd Pkt Len Mean',\n",
       "  'Bwd Pkt Len Max',\n",
       "  'Bwd Pkt Len Min',\n",
       "  'Flow IAT Std',\n",
       "  'Flow IAT Max',\n",
       "  'Flow IAT Min',\n",
       "  'Fwd IAT Tot',\n",
       "  'Fwd IAT Std',\n",
       "  'Fwd IAT Max',\n",
       "  'Fwd IAT Min',\n",
       "  'Bwd IAT Tot',\n",
       "  'Bwd IAT Std',\n",
       "  'Bwd IAT Max',\n",
       "  'Bwd IAT Min',\n",
       "  'Fwd Header Len',\n",
       "  'Pkt Len Min',\n",
       "  'Pkt Len Max',\n",
       "  'Pkt Len Std',\n",
       "  'Pkt Len Var',\n",
       "  'PSH Flag Cnt',\n",
       "  'ACK Flag Cnt',\n",
       "  'Pkt Size Avg',\n",
       "  'Bwd Seg Size Avg',\n",
       "  'Subflow Fwd Pkts',\n",
       "  'Subflow Fwd Byts',\n",
       "  'Subflow Bwd Pkts',\n",
       "  'Subflow Bwd Byts',\n",
       "  'Init Bwd Win Byts',\n",
       "  'Fwd Act Data Pkts',\n",
       "  'Active Std',\n",
       "  'Idle Mean',\n",
       "  'Idle Std',\n",
       "  'Label'],\n",
       " 'SP': ['Protocol',\n",
       "  'Tot Fwd Pkts',\n",
       "  'Tot Bwd Pkts',\n",
       "  'TotLen Fwd Pkts',\n",
       "  'TotLen Bwd Pkts',\n",
       "  'Fwd Pkt Len Max',\n",
       "  'Fwd Pkt Len Min',\n",
       "  'Fwd Pkt Len Mean',\n",
       "  'Fwd Pkt Len Std',\n",
       "  'Fwd IAT Tot',\n",
       "  'Fwd IAT Max',\n",
       "  'Fwd IAT Min',\n",
       "  'Fwd Header Len',\n",
       "  'Fwd Pkts/s',\n",
       "  'Pkt Len Min',\n",
       "  'Pkt Len Mean',\n",
       "  'Pkt Len Std',\n",
       "  'Pkt Len Var',\n",
       "  'SYN Flag Cnt',\n",
       "  'Pkt Size Avg',\n",
       "  'Subflow Fwd Byts',\n",
       "  'Subflow Bwd Pkts',\n",
       "  'Init Bwd Win Byts',\n",
       "  'Fwd Act Data Pkts',\n",
       "  'Active Mean',\n",
       "  'Active Std',\n",
       "  'Active Max',\n",
       "  'Active Min',\n",
       "  'Idle Std',\n",
       "  'Idle Max',\n",
       "  'Idle Min',\n",
       "  'Label'],\n",
       " 'BF': ['TotLen Fwd Pkts',\n",
       "  'Flow IAT Std',\n",
       "  'Fwd IAT Tot',\n",
       "  'Fwd IAT Std',\n",
       "  'Fwd IAT Max',\n",
       "  'Fwd Pkts/s',\n",
       "  'Bwd Pkts/s',\n",
       "  'Subflow Fwd Byts',\n",
       "  'Label'],\n",
       " 'OS': ['Dst Port',\n",
       "  'Protocol',\n",
       "  'Tot Fwd Pkts',\n",
       "  'Tot Bwd Pkts',\n",
       "  'TotLen Bwd Pkts',\n",
       "  'Fwd Pkt Len Max',\n",
       "  'Fwd Pkt Len Min',\n",
       "  'Fwd Pkt Len Std',\n",
       "  'Bwd Pkt Len Min',\n",
       "  'Bwd Pkt Len Mean',\n",
       "  'Flow Byts/s',\n",
       "  'Flow IAT Max',\n",
       "  'Fwd IAT Tot',\n",
       "  'Fwd IAT Mean',\n",
       "  'Fwd IAT Std',\n",
       "  'Fwd IAT Max',\n",
       "  'Fwd IAT Min',\n",
       "  'Bwd IAT Mean',\n",
       "  'Bwd IAT Std',\n",
       "  'Bwd IAT Max',\n",
       "  'Bwd IAT Min',\n",
       "  'Bwd PSH Flags',\n",
       "  'Fwd Header Len',\n",
       "  'Bwd Header Len',\n",
       "  'Fwd Pkts/s',\n",
       "  'Pkt Len Max',\n",
       "  'Pkt Len Std',\n",
       "  'SYN Flag Cnt',\n",
       "  'RST Flag Cnt',\n",
       "  'PSH Flag Cnt',\n",
       "  'ACK Flag Cnt',\n",
       "  'Down/Up Ratio',\n",
       "  'Fwd Seg Size Avg',\n",
       "  'Subflow Bwd Byts',\n",
       "  'Init Bwd Win Byts',\n",
       "  'Active Mean',\n",
       "  'Active Max',\n",
       "  'Idle Mean',\n",
       "  'Idle Std',\n",
       "  'Idle Min',\n",
       "  'Label'],\n",
       " 'SCHD': ['Dst Port',\n",
       "  'Tot Fwd Pkts',\n",
       "  'Tot Bwd Pkts',\n",
       "  'TotLen Bwd Pkts',\n",
       "  'Fwd Pkt Len Min',\n",
       "  'Fwd Pkt Len Std',\n",
       "  'Bwd Pkt Len Max',\n",
       "  'Bwd Pkt Len Min',\n",
       "  'Bwd Pkt Len Mean',\n",
       "  'Bwd Pkt Len Std',\n",
       "  'Flow IAT Mean',\n",
       "  'Flow IAT Std',\n",
       "  'Flow IAT Max',\n",
       "  'Fwd IAT Tot',\n",
       "  'Fwd IAT Mean',\n",
       "  'Fwd IAT Min',\n",
       "  'Bwd IAT Tot',\n",
       "  'Bwd IAT Std',\n",
       "  'Bwd PSH Flags',\n",
       "  'Fwd Header Len',\n",
       "  'Pkt Len Std',\n",
       "  'Pkt Len Var',\n",
       "  'FIN Flag Cnt',\n",
       "  'SYN Flag Cnt',\n",
       "  'PSH Flag Cnt',\n",
       "  'Pkt Size Avg',\n",
       "  'Fwd Seg Size Avg',\n",
       "  'Bwd Seg Size Avg',\n",
       "  'Subflow Bwd Pkts',\n",
       "  'Subflow Bwd Byts',\n",
       "  'Init Bwd Win Byts',\n",
       "  'Active Mean',\n",
       "  'Active Std',\n",
       "  'Idle Std',\n",
       "  'Label'],\n",
       " 'MHDis': ['Src Port',\n",
       "  'Dst Port',\n",
       "  'Flow Duration',\n",
       "  'Tot Fwd Pkts',\n",
       "  'Tot Bwd Pkts',\n",
       "  'TotLen Bwd Pkts',\n",
       "  'Fwd Pkt Len Max',\n",
       "  'Fwd Pkt Len Mean',\n",
       "  'Fwd Pkt Len Std',\n",
       "  'Bwd Pkt Len Max',\n",
       "  'Bwd Pkt Len Mean',\n",
       "  'Bwd Pkt Len Std',\n",
       "  'Flow IAT Std',\n",
       "  'Fwd IAT Tot',\n",
       "  'Fwd IAT Mean',\n",
       "  'Fwd IAT Max',\n",
       "  'Fwd IAT Min',\n",
       "  'Bwd IAT Mean',\n",
       "  'Bwd IAT Min',\n",
       "  'Bwd Header Len',\n",
       "  'Fwd Pkts/s',\n",
       "  'Pkt Len Max',\n",
       "  'Pkt Len Mean',\n",
       "  'Pkt Len Std',\n",
       "  'Pkt Len Var',\n",
       "  'Fwd Seg Size Avg',\n",
       "  'Subflow Fwd Pkts',\n",
       "  'Subflow Bwd Pkts',\n",
       "  'Init Bwd Win Byts',\n",
       "  'Fwd Act Data Pkts',\n",
       "  'Idle Std',\n",
       "  'Idle Min',\n",
       "  'Label']}"
      ]
     },
     "execution_count": 39,
     "metadata": {},
     "output_type": "execute_result"
    }
   ],
   "source": [
    "GA_output"
   ]
  }
 ],
 "metadata": {
  "kernelspec": {
   "display_name": "Python 3",
   "language": "python",
   "name": "python3"
  },
  "language_info": {
   "codemirror_mode": {
    "name": "ipython",
    "version": 3
   },
   "file_extension": ".py",
   "mimetype": "text/x-python",
   "name": "python",
   "nbconvert_exporter": "python",
   "pygments_lexer": "ipython3",
   "version": "3.12.2"
  }
 },
 "nbformat": 4,
 "nbformat_minor": 2
}
